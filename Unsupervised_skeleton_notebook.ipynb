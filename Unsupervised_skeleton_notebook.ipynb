{
  "cells": [
    {
      "cell_type": "markdown",
      "id": "6c7e849a",
      "metadata": {
        "ExecuteTime": {
          "end_time": "2021-06-11T09:24:53.643384Z",
          "start_time": "2021-06-11T09:24:53.622385Z"
        },
        "id": "6c7e849a"
      },
      "source": [
        "# Unsupervised Predict Student Solution\n",
        "\n",
        "© Explore Data Science Academy\n",
        "\n",
        "---\n",
        "### Honour Code\n",
        "\n",
        "I {**Team NM4**}, confirm - by submitting this document - that the solutions in this notebook are a result of my own work and that I abide by the [EDSA honour code](https://drive.google.com/file/d/1QDCjGZJ8-FmJE3bZdIQNwnJyQKPhHZBn/view?usp=sharing).\n",
        "\n",
        "Non-compliance with the honour code constitutes a material breach of contract.\n",
        "\n",
        "Team Members\n",
        "1. Bakwe Chokoe\n",
        "2. Hlawulekani Rikhotso\n",
        "3. Tshepiso Ngwato\n",
        "4. Benson\n",
        "5. Nozipho\n",
        "6. Mutondi Tshivhase\n",
        "### Predict Overview\n",
        "\n"
      ]
    },
    {
      "cell_type": "markdown",
      "id": "05600c92",
      "metadata": {
        "id": "05600c92"
      },
      "source": [
        "<a id=\"cont\"></a>\n",
        "\n",
        "## Table of Contents\n",
        "\n",
        "<a href=#one>1. Introduction</a>\n",
        "\n",
        "<a href=#two>2. Problem Statement</a>\n",
        "\n",
        "<a href=#three>3. Importing Packages</a>\n",
        "\n",
        "<a href=#four>4. Loading Data</a>\n",
        "\n",
        "<a href=#five>5. Pre-processing</a>\n",
        "\n",
        "<a href=#six>6. Exploratory Data Analysis (EDA)</a>\n",
        "\n",
        "<a href=#seven>7. Data Engineering</a>\n",
        "\n",
        "<a href=#eight>8. Modeling</a>\n",
        "\n",
        "<a href=#nine>9. Model Performance</a>\n",
        "\n",
        "<a href=#ten>10. Model Explanations</a>\n",
        "\n",
        "<a href=#eleven>11. Conclusion</a>\n"
      ]
    },
    {
      "cell_type": "markdown",
      "id": "9f5aa67e",
      "metadata": {
        "id": "9f5aa67e"
      },
      "source": [
        " <a id=\"one\"></a>\n",
        "## **1. Introduction**\n",
        "\n",
        "\n",
        "\n",
        "\n",
        "\n"
      ]
    },
    {
      "cell_type": "code",
      "execution_count": null,
      "id": "a0a06e9e",
      "metadata": {
        "id": "a0a06e9e"
      },
      "outputs": [],
      "source": [
        "# Write the introduction"
      ]
    },
    {
      "cell_type": "markdown",
      "id": "f7be00c3",
      "metadata": {
        "id": "f7be00c3"
      },
      "source": [
        " <a id=\"one\"></a>\n",
        "## 2. Problem Statement\n",
        "<a href=#cont>Back to Table of Contents</a>\n",
        "\n",
        "---\n",
        "    \n",
        "| ⚡ Description: Problem Statement ⚡ |\n",
        "| :--------------------------- |\n",
        "| In this section you are required to introduce and elaborate on the problem statement or challenge you are required to solve. |\n"
      ]
    },
    {
      "cell_type": "code",
      "execution_count": null,
      "id": "1882422f",
      "metadata": {
        "id": "1882422f"
      },
      "outputs": [],
      "source": [
        "# Discuss the problem statement"
      ]
    },
    {
      "cell_type": "markdown",
      "id": "997462e2",
      "metadata": {
        "id": "997462e2"
      },
      "source": [
        " <a id=\"one\"></a>\n",
        "## 3. Importing Packages\n",
        "<a href=#cont>Back to Table of Contents</a>\n",
        "\n",
        "---\n",
        "    \n",
        "| ⚡ Description: Importing Packages ⚡ |\n",
        "| :--------------------------- |\n",
        "| In this section you are required to import, and briefly discuss, the libraries that will be used throughout your analysis and modelling. |\n",
        "\n",
        "---"
      ]
    },
    {
      "cell_type": "code",
      "execution_count": null,
      "id": "475dbe93",
      "metadata": {
        "ExecuteTime": {
          "end_time": "2021-06-23T10:30:53.800892Z",
          "start_time": "2021-06-23T10:30:50.215449Z"
        },
        "id": "475dbe93"
      },
      "outputs": [],
      "source": [
        "# Libraries for data loading, data manipulation and data visulisation\n",
        "import *\n",
        "\n",
        "# Libraries for data preparation and model building\n",
        "import *\n",
        "\n",
        "# Setting global constants to ensure notebook results are reproducible\n",
        "PARAMETER_CONSTANT = ###"
      ]
    },
    {
      "cell_type": "markdown",
      "id": "f22a6718",
      "metadata": {
        "id": "f22a6718"
      },
      "source": [
        "<a id=\"two\"></a>\n",
        "## 4. Loading the Data\n",
        "<a class=\"anchor\" id=\"1.1\"></a>\n",
        "<a href=#cont>Back to Table of Contents</a>\n",
        "\n",
        "---\n",
        "    \n",
        "| ⚡ Description: Loading the data ⚡ |\n",
        "| :--------------------------- |\n",
        "| In this section you are required to load the data from the `df_train` file into a DataFrame. |\n",
        "\n",
        "---"
      ]
    },
    {
      "cell_type": "code",
      "execution_count": null,
      "id": "fbbb6c18",
      "metadata": {
        "ExecuteTime": {
          "end_time": "2021-06-28T08:49:35.311495Z",
          "start_time": "2021-06-28T08:49:35.295494Z"
        },
        "id": "fbbb6c18"
      },
      "outputs": [],
      "source": [
        "df = # load the data"
      ]
    },
    {
      "cell_type": "markdown",
      "id": "abbbb9ba",
      "metadata": {
        "id": "abbbb9ba"
      },
      "source": [
        "<a id=\"two\"></a>\n",
        "## 5. Pre-processing\n",
        "<a class=\"anchor\" id=\"1.1\"></a>\n",
        "<a href=#cont>Back to Table of Contents</a>\n",
        "\n",
        "---\n",
        "    \n",
        "| ⚡ Description: Pre-processing ⚡ |\n",
        "| :--------------------------- |\n",
        "| In this section you are required to make the raw data suitable for modelling. |"
      ]
    },
    {
      "cell_type": "code",
      "execution_count": null,
      "id": "17d7ec19",
      "metadata": {
        "id": "17d7ec19"
      },
      "outputs": [],
      "source": [
        "# Pre-process the data"
      ]
    },
    {
      "cell_type": "markdown",
      "id": "81132ab3",
      "metadata": {
        "id": "81132ab3"
      },
      "source": [
        "<a id=\"three\"></a>\n",
        "## 6. Exploratory Data Analysis (EDA)\n",
        "<a class=\"anchor\" id=\"1.1\"></a>\n",
        "<a href=#cont>Back to Table of Contents</a>\n",
        "\n",
        "---\n",
        "    \n",
        "| ⚡ Description: Exploratory data analysis ⚡ |\n",
        "| :--------------------------- |\n",
        "| In this section, you are required to perform an in-depth analysis of all the variables in the DataFrame. |\n",
        "\n",
        "---\n"
      ]
    },
    {
      "cell_type": "code",
      "execution_count": null,
      "id": "e805134e",
      "metadata": {
        "ExecuteTime": {
          "end_time": "2021-06-28T08:52:37.824204Z",
          "start_time": "2021-06-28T08:52:37.811206Z"
        },
        "id": "e805134e"
      },
      "outputs": [],
      "source": [
        "# look at data statistics"
      ]
    },
    {
      "cell_type": "code",
      "execution_count": null,
      "id": "2fb74182",
      "metadata": {
        "id": "2fb74182"
      },
      "outputs": [],
      "source": [
        "# plot relevant feature interactions"
      ]
    },
    {
      "cell_type": "code",
      "execution_count": null,
      "id": "6dd6ee8c",
      "metadata": {
        "id": "6dd6ee8c"
      },
      "outputs": [],
      "source": [
        "# evaluate correlation"
      ]
    },
    {
      "cell_type": "code",
      "execution_count": null,
      "id": "de51df85",
      "metadata": {
        "id": "de51df85"
      },
      "outputs": [],
      "source": [
        "# have a look at feature distributions"
      ]
    },
    {
      "cell_type": "markdown",
      "id": "3fa93ec6",
      "metadata": {
        "id": "3fa93ec6"
      },
      "source": [
        "<a id=\"four\"></a>\n",
        "## 7. Data Engineering\n",
        "<a class=\"anchor\" id=\"1.1\"></a>\n",
        "<a href=#cont>Back to Table of Contents</a>\n",
        "\n",
        "---\n",
        "    \n",
        "| ⚡ Description: Data engineering ⚡ |\n",
        "| :--------------------------- |\n",
        "| In this section you are required to: clean the dataset, and possibly create new features - as identified in the EDA phase. |\n",
        "\n",
        "---"
      ]
    },
    {
      "cell_type": "code",
      "execution_count": null,
      "id": "059c2f3e",
      "metadata": {
        "id": "059c2f3e"
      },
      "outputs": [],
      "source": [
        "# remove missing values/ features"
      ]
    },
    {
      "cell_type": "code",
      "execution_count": null,
      "id": "84eea17b",
      "metadata": {
        "id": "84eea17b"
      },
      "outputs": [],
      "source": [
        "# create new features"
      ]
    },
    {
      "cell_type": "code",
      "execution_count": null,
      "id": "59692724",
      "metadata": {
        "id": "59692724"
      },
      "outputs": [],
      "source": [
        "# engineer existing features"
      ]
    },
    {
      "cell_type": "markdown",
      "id": "43b2d523",
      "metadata": {
        "id": "43b2d523"
      },
      "source": [
        "<a id=\"five\"></a>\n",
        "## 8. Modelling\n",
        "<a class=\"anchor\" id=\"1.1\"></a>\n",
        "<a href=#cont>Back to Table of Contents</a>\n",
        "\n",
        "---\n",
        "    \n",
        "| ⚡ Description: Modelling ⚡ |\n",
        "| :--------------------------- |\n",
        "| In this section, you are required to create one or more regression models that are able to accurately predict the thee hour load shortfall. |\n",
        "\n",
        "---"
      ]
    },
    {
      "cell_type": "code",
      "execution_count": null,
      "id": "2344b3e0",
      "metadata": {
        "id": "2344b3e0"
      },
      "outputs": [],
      "source": [
        "# split data"
      ]
    },
    {
      "cell_type": "code",
      "execution_count": null,
      "id": "9c58df02",
      "metadata": {
        "id": "9c58df02"
      },
      "outputs": [],
      "source": [
        "# create targets and features dataset"
      ]
    },
    {
      "cell_type": "code",
      "execution_count": null,
      "id": "20d073e0",
      "metadata": {
        "id": "20d073e0"
      },
      "outputs": [],
      "source": [
        "# create one or more ML models"
      ]
    },
    {
      "cell_type": "code",
      "execution_count": null,
      "id": "a70c15d7",
      "metadata": {
        "id": "a70c15d7"
      },
      "outputs": [],
      "source": [
        "# evaluate one or more ML models"
      ]
    },
    {
      "cell_type": "markdown",
      "id": "6b530251",
      "metadata": {
        "id": "6b530251"
      },
      "source": [
        "<a id=\"six\"></a>\n",
        "## 9. Model Performance\n",
        "<a class=\"anchor\" id=\"1.1\"></a>\n",
        "<a href=#cont>Back to Table of Contents</a>\n",
        "\n",
        "---\n",
        "    \n",
        "| ⚡ Description: Model performance ⚡ |\n",
        "| :--------------------------- |\n",
        "| In this section you are required to compare the relative performance of the various trained ML models on a holdout dataset and comment on what model is the best and why. |\n",
        "\n",
        "---"
      ]
    },
    {
      "cell_type": "code",
      "execution_count": null,
      "id": "6a69b5a1",
      "metadata": {
        "id": "6a69b5a1"
      },
      "outputs": [],
      "source": [
        "# Compare model performance"
      ]
    },
    {
      "cell_type": "code",
      "execution_count": null,
      "id": "3874a7c6",
      "metadata": {
        "id": "3874a7c6"
      },
      "outputs": [],
      "source": [
        "# Choose best model and motivate why it is the best choice"
      ]
    },
    {
      "cell_type": "markdown",
      "id": "a8ad0c0d",
      "metadata": {
        "id": "a8ad0c0d"
      },
      "source": [
        "<a id=\"seven\"></a>\n",
        "## 10. Model Explanations\n",
        "<a class=\"anchor\" id=\"1.1\"></a>\n",
        "<a href=#cont>Back to Table of Contents</a>\n",
        "\n",
        "---\n",
        "    \n",
        "| ⚡ Description: Model explanation ⚡ |\n",
        "| :--------------------------- |\n",
        "| In this section, you are required to discuss how the best performing model works in a simple way so that both technical and non-technical stakeholders can grasp the intuition behind the model's inner workings. |\n",
        "\n",
        "---"
      ]
    },
    {
      "cell_type": "code",
      "execution_count": null,
      "id": "5ff741c2",
      "metadata": {
        "id": "5ff741c2"
      },
      "outputs": [],
      "source": [
        "# discuss chosen methods logic"
      ]
    },
    {
      "cell_type": "markdown",
      "id": "557a9759",
      "metadata": {
        "id": "557a9759"
      },
      "source": [
        "<a id=\"seven\"></a>\n",
        "## 11. Conclusion\n",
        "<a class=\"anchor\" id=\"1.1\"></a>\n",
        "<a href=#cont>Back to Table of Contents</a>\n",
        "\n",
        "---\n",
        "    \n",
        "| ⚡ Description: Conclusion ⚡ |\n",
        "| :--------------------------- |\n",
        "| In this section, you are required to conclude your findings and the project as a whole. |\n",
        "\n",
        "---"
      ]
    },
    {
      "cell_type": "code",
      "execution_count": null,
      "id": "5f85d60f",
      "metadata": {
        "id": "5f85d60f"
      },
      "outputs": [],
      "source": [
        "# Conclusion"
      ]
    }
  ],
  "metadata": {
    "colab": {
      "provenance": []
    },
    "kernelspec": {
      "display_name": "Python 3 (ipykernel)",
      "language": "python",
      "name": "python3"
    },
    "language_info": {
      "codemirror_mode": {
        "name": "ipython",
        "version": 3
      },
      "file_extension": ".py",
      "mimetype": "text/x-python",
      "name": "python",
      "nbconvert_exporter": "python",
      "pygments_lexer": "ipython3",
      "version": "3.11.3"
    },
    "latex_envs": {
      "LaTeX_envs_menu_present": true,
      "autoclose": false,
      "autocomplete": true,
      "bibliofile": "biblio.bib",
      "cite_by": "apalike",
      "current_citInitial": 1,
      "eqLabelWithNumbers": true,
      "eqNumInitial": 1,
      "hotkeys": {
        "equation": "Ctrl-E",
        "itemize": "Ctrl-I"
      },
      "labels_anchors": false,
      "latex_user_defs": false,
      "report_style_numbering": false,
      "user_envs_cfg": false
    },
    "toc": {
      "base_numbering": 1,
      "nav_menu": {},
      "number_sections": true,
      "sideBar": true,
      "skip_h1_title": false,
      "title_cell": "Table of Contents",
      "title_sidebar": "Contents",
      "toc_cell": false,
      "toc_position": {},
      "toc_section_display": true,
      "toc_window_display": false
    },
    "varInspector": {
      "cols": {
        "lenName": 16,
        "lenType": 16,
        "lenVar": 40
      },
      "kernels_config": {
        "python": {
          "delete_cmd_postfix": "",
          "delete_cmd_prefix": "del ",
          "library": "var_list.py",
          "varRefreshCmd": "print(var_dic_list())"
        },
        "r": {
          "delete_cmd_postfix": ") ",
          "delete_cmd_prefix": "rm(",
          "library": "var_list.r",
          "varRefreshCmd": "cat(var_dic_list()) "
        }
      },
      "types_to_exclude": [
        "module",
        "function",
        "builtin_function_or_method",
        "instance",
        "_Feature"
      ],
      "window_display": false
    }
  },
  "nbformat": 4,
  "nbformat_minor": 5
}
