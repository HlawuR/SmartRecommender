{
 "cells": [
  {
   "cell_type": "markdown",
   "metadata": {
    "ExecuteTime": {
     "end_time": "2021-06-11T09:24:53.643384Z",
     "start_time": "2021-06-11T09:24:53.622385Z"
    },
    "id": "6c7e849a"
   },
   "source": [
    "# Unsupervised Predict Student Solution\n",
    "\n",
    "© Explore Data Science Academy\n",
    "\n",
    "---\n",
    "### Honour Code\n",
    "\n",
    "I {**Team NM4**}, confirm - by submitting this document - that the solutions in this notebook are a result of my own work and that I abide by the [EDSA honour code](https://drive.google.com/file/d/1QDCjGZJ8-FmJE3bZdIQNwnJyQKPhHZBn/view?usp=sharing).\n",
    "\n",
    "Non-compliance with the honour code constitutes a material breach of contract.\n",
    "\n",
    "Team Members\n",
    "1. Bakwe Chokoe\n",
    "2. Hlawulekani Rikhotso\n",
    "3. Tshepiso Ngwato\n",
    "4. Benson Kamau\n",
    "5. Nozipho\n",
    "6. Mutondi Tshivhase\n",
    "### Predict Overview\n",
    "\n"
   ]
  },
  {
   "cell_type": "markdown",
   "metadata": {
    "id": "05600c92"
   },
   "source": [
    "<a id=\"cont\"></a>\n",
    "\n",
    "## Table of Contents\n",
    "\n",
    "<a href=#one>1. Introduction</a>\n",
    "\n",
    "<a href=#two>2. Problem Statement</a>\n",
    "\n",
    "<a href=#three>3. Importing Packages</a>\n",
    "\n",
    "<a href=#four>4. Loading Data</a>\n",
    "\n",
    "<a href=#five>5. Pre-processing</a>\n",
    "\n",
    "<a href=#six>6. Exploratory Data Analysis (EDA)</a>\n",
    "\n",
    "<a href=#seven>7. Data Engineering</a>\n",
    "\n",
    "<a href=#eight>8. Modeling</a>\n",
    "\n",
    "<a href=#nine>9. Model Performance</a>\n",
    "\n",
    "<a href=#ten>10. Model Explanations</a>\n",
    "\n",
    "<a href=#eleven>11. Conclusion</a>\n"
   ]
  },
  {
   "cell_type": "markdown",
   "metadata": {
    "id": "9f5aa67e"
   },
   "source": [
    " <a id=\"one\"></a>\n",
    "## **1. Introduction**\n",
    "\n",
    "\n",
    "\n",
    "\n",
    "\n"
   ]
  },
  {
   "cell_type": "code",
   "execution_count": 1,
   "metadata": {
    "id": "a0a06e9e"
   },
   "outputs": [],
   "source": [
    "# Write the introduction"
   ]
  },
  {
   "cell_type": "markdown",
   "metadata": {
    "id": "f7be00c3"
   },
   "source": [
    " <a id=\"one\"></a>\n",
    "## 2. Problem Statement\n",
    "<a href=#cont>Back to Table of Contents</a>\n",
    "\n",
    "---\n",
    "    \n",
    "| ⚡ Description: Problem Statement ⚡ |\n",
    "| :--------------------------- |\n",
    "| In this section you are required to introduce and elaborate on the problem statement or challenge you are required to solve. |\n"
   ]
  },
  {
   "cell_type": "code",
   "execution_count": 2,
   "metadata": {
    "id": "1882422f"
   },
   "outputs": [],
   "source": [
    "# Discuss the problem statement"
   ]
  },
  {
   "cell_type": "markdown",
   "metadata": {
    "id": "997462e2"
   },
   "source": [
    " <a id=\"one\"></a>\n",
    "## 3. Importing Packages\n",
    "<a href=#cont>Back to Table of Contents</a>\n",
    "\n",
    "---\n",
    "    \n",
    "| ⚡ Description: Importing Packages ⚡ |\n",
    "| :--------------------------- |\n",
    "| In this section you are required to import, and briefly discuss, the libraries that will be used throughout your analysis and modelling. |\n",
    "\n",
    "---"
   ]
  },
  {
   "cell_type": "code",
   "execution_count": 3,
   "metadata": {},
   "outputs": [],
   "source": [
    "#pip install comet_ml"
   ]
  },
  {
   "cell_type": "code",
   "execution_count": 4,
   "metadata": {},
   "outputs": [],
   "source": [
    "from comet_ml import Experiment\n",
    "#from comet_ml.integration.pytorch import log_model"
   ]
  },
  {
   "cell_type": "code",
   "execution_count": 100,
   "metadata": {
    "ExecuteTime": {
     "end_time": "2021-06-23T10:30:53.800892Z",
     "start_time": "2021-06-23T10:30:50.215449Z"
    },
    "id": "475dbe93"
   },
   "outputs": [],
   "source": [
    "# Libraries for data loading, data manipulation and data visulisation\n",
    "import pandas as pd\n",
    "import numpy as np\n",
    "import matplotlib.pyplot as plt\n",
    "import plotly.express as px\n",
    "import pickle\n",
    "# Set ggplot style\n",
    "plt.style.use('ggplot')\n",
    "# Libraries for data preparation and model building\n",
    "# Import KMeans model\n",
    "from sklearn.cluster import KMeans\n",
    "# Import time to measure algorithm runtime \n",
    "from time import time\n",
    "from surprise import Reader,Dataset\n",
    "#packages we need\n",
    "from surprise import accuracy,SlopeOne,SVDpp\n",
    "from surprise.model_selection import train_test_split\n",
    "from surprise.model_selection import cross_validate,GridSearchCV\n",
    "from surprise import  KNNBasic, SVD, NormalPredictor, BaselineOnly, KNNBaseline, NMF,KNNWithMeans\n",
    "\n",
    "#vectorizing \n",
    "from sklearn.feature_extraction.text import TfidfVectorizer\n",
    "from sklearn.model_selection import train_test_split\n",
    "# declaring an object of tfidf vectoriser\n",
    "from sklearn.metrics.pairwise import cosine_similarity\n",
    "# Transform features\n",
    "from scipy.sparse import csr_matrix\n",
    "# Setting global constants to ensure notebook results are reproducible\n",
    "#PARAMETER_CONSTANT = ###\n"
   ]
  },
  {
   "cell_type": "markdown",
   "metadata": {
    "id": "f22a6718"
   },
   "source": [
    "<a id=\"two\"></a>\n",
    "## 4. Loading the Data\n",
    "<a class=\"anchor\" id=\"1.1\"></a>\n",
    "<a href=#cont>Back to Table of Contents</a>\n"
   ]
  },
  {
   "cell_type": "code",
   "execution_count": null,
   "metadata": {},
   "outputs": [],
   "source": []
  },
  {
   "cell_type": "code",
   "execution_count": 6,
   "metadata": {
    "ExecuteTime": {
     "end_time": "2021-06-28T08:49:35.311495Z",
     "start_time": "2021-06-28T08:49:35.295494Z"
    },
    "id": "fbbb6c18"
   },
   "outputs": [],
   "source": [
    "# load the dataframe from the given dataset\n",
    "df_train =pd.read_csv(r'C:\\Users\\hp\\Documents\\GitHub\\unsurpervised_data\\ea-movie-recommendation-predict-2023-2024\\train.csv')\n",
    "df_genome_tags=pd.read_csv(r'C:\\Users\\hp\\Documents\\GitHub\\unsurpervised_data\\ea-movie-recommendation-predict-2023-2024\\genome_tags.csv')\n",
    "df_movies=pd.read_csv(r'C:\\Users\\hp\\Documents\\GitHub\\unsurpervised_data\\ea-movie-recommendation-predict-2023-2024\\movies.csv')\n",
    "df_links=pd.read_csv(r'C:\\Users\\hp\\Documents\\GitHub\\unsurpervised_data\\ea-movie-recommendation-predict-2023-2024\\links.csv')\n",
    "df_genome_scores=pd.read_csv(r'C:\\Users\\hp\\Documents\\GitHub\\unsurpervised_data\\ea-movie-recommendation-predict-2023-2024\\genome_scores.csv')\n",
    "df_tags=pd.read_csv(r'C:\\Users\\hp\\Documents\\GitHub\\unsurpervised_data\\ea-movie-recommendation-predict-2023-2024\\tags.csv')\n",
    "df_imdb_data=pd.read_csv(r'C:\\Users\\hp\\Documents\\GitHub\\unsurpervised_data\\ea-movie-recommendation-predict-2023-2024\\imdb_data.csv')\n",
    "df_test=pd.read_csv(r'C:\\Users\\hp\\Documents\\GitHub\\unsurpervised_data\\ea-movie-recommendation-predict-2023-2024\\test.csv')"
   ]
  },
  {
   "cell_type": "code",
   "execution_count": null,
   "metadata": {},
   "outputs": [],
   "source": []
  },
  {
   "cell_type": "markdown",
   "metadata": {
    "id": "abbbb9ba"
   },
   "source": [
    "<a id=\"two\"></a>\n",
    "## 5. Pre-processing\n",
    "<a class=\"anchor\" id=\"1.1\"></a>\n",
    "<a href=#cont>Back to Table of Contents</a>"
   ]
  },
  {
   "cell_type": "markdown",
   "metadata": {},
   "source": [
    "### Viewing the shape of the dataframes"
   ]
  },
  {
   "cell_type": "markdown",
   "metadata": {},
   "source": [
    "Here we are just having a view of the shape of varoius dataframes in our dataset i.e.\n",
    " - df_imdb_data\n",
    " - df_genome_tags\n",
    " - df_genome_scores\n",
    " - df_train\n",
    " - df_links\n",
    " - df_movies\n",
    " - df_tags"
   ]
  },
  {
   "cell_type": "code",
   "execution_count": 7,
   "metadata": {
    "id": "17d7ec19"
   },
   "outputs": [
    {
     "data": {
      "text/plain": [
       "(10000038, 4)"
      ]
     },
     "execution_count": 7,
     "metadata": {},
     "output_type": "execute_result"
    }
   ],
   "source": [
    "# Pre-process the data\n",
    "df_train.shape"
   ]
  },
  {
   "cell_type": "code",
   "execution_count": 8,
   "metadata": {},
   "outputs": [
    {
     "data": {
      "text/plain": [
       "(1128, 2)"
      ]
     },
     "execution_count": 8,
     "metadata": {},
     "output_type": "execute_result"
    }
   ],
   "source": [
    "df_genome_tags.shape"
   ]
  },
  {
   "cell_type": "code",
   "execution_count": 9,
   "metadata": {},
   "outputs": [
    {
     "data": {
      "text/plain": [
       "(15584448, 3)"
      ]
     },
     "execution_count": 9,
     "metadata": {},
     "output_type": "execute_result"
    }
   ],
   "source": [
    "df_genome_scores.shape"
   ]
  },
  {
   "cell_type": "code",
   "execution_count": 10,
   "metadata": {},
   "outputs": [
    {
     "data": {
      "text/plain": [
       "(1093360, 4)"
      ]
     },
     "execution_count": 10,
     "metadata": {},
     "output_type": "execute_result"
    }
   ],
   "source": [
    "df_tags.shape"
   ]
  },
  {
   "cell_type": "code",
   "execution_count": 11,
   "metadata": {},
   "outputs": [
    {
     "data": {
      "text/plain": [
       "(62423, 3)"
      ]
     },
     "execution_count": 11,
     "metadata": {},
     "output_type": "execute_result"
    }
   ],
   "source": [
    "df_links.shape"
   ]
  },
  {
   "cell_type": "code",
   "execution_count": 12,
   "metadata": {},
   "outputs": [
    {
     "data": {
      "text/plain": [
       "(62423, 3)"
      ]
     },
     "execution_count": 12,
     "metadata": {},
     "output_type": "execute_result"
    }
   ],
   "source": [
    "df_movies.shape"
   ]
  },
  {
   "cell_type": "code",
   "execution_count": 13,
   "metadata": {},
   "outputs": [
    {
     "data": {
      "text/plain": [
       "(27278, 6)"
      ]
     },
     "execution_count": 13,
     "metadata": {},
     "output_type": "execute_result"
    }
   ],
   "source": [
    "df_imdb_data.shape"
   ]
  },
  {
   "cell_type": "markdown",
   "metadata": {},
   "source": [
    "### Checking for null values in the various dataframes in the given  dataset"
   ]
  },
  {
   "cell_type": "markdown",
   "metadata": {},
   "source": [
    "Here in this sections we will be checking for `null values ` in the various dataframes in the data set i.e.\n",
    " - df_imdb_data\n",
    " - df_genome_tags\n",
    " - df_genome_scores\n",
    " - df_train\n",
    " - df_links\n",
    " - df_movies\n",
    " - df_tags"
   ]
  },
  {
   "cell_type": "code",
   "execution_count": 14,
   "metadata": {},
   "outputs": [
    {
     "data": {
      "text/plain": [
       "movieId              0\n",
       "title_cast       10068\n",
       "director          9874\n",
       "runtime          12089\n",
       "budget           19372\n",
       "plot_keywords    11078\n",
       "dtype: int64"
      ]
     },
     "execution_count": 14,
     "metadata": {},
     "output_type": "execute_result"
    }
   ],
   "source": [
    "#checking for null in imdb dataframe\n",
    "df_imdb_data.isnull().sum()"
   ]
  },
  {
   "cell_type": "code",
   "execution_count": 15,
   "metadata": {},
   "outputs": [
    {
     "data": {
      "text/plain": [
       "tagId    0\n",
       "tag      0\n",
       "dtype: int64"
      ]
     },
     "execution_count": 15,
     "metadata": {},
     "output_type": "execute_result"
    }
   ],
   "source": [
    "#checking for null in genome tags dataframe\n",
    "df_genome_tags.isnull().sum()"
   ]
  },
  {
   "cell_type": "code",
   "execution_count": 16,
   "metadata": {},
   "outputs": [
    {
     "data": {
      "text/plain": [
       "movieId      0\n",
       "tagId        0\n",
       "relevance    0\n",
       "dtype: int64"
      ]
     },
     "execution_count": 16,
     "metadata": {},
     "output_type": "execute_result"
    }
   ],
   "source": [
    "#checking for null in genome score dataframe\n",
    "df_genome_scores.isnull().sum()"
   ]
  },
  {
   "cell_type": "code",
   "execution_count": 17,
   "metadata": {},
   "outputs": [
    {
     "data": {
      "text/plain": [
       "userId       0\n",
       "movieId      0\n",
       "rating       0\n",
       "timestamp    0\n",
       "dtype: int64"
      ]
     },
     "execution_count": 17,
     "metadata": {},
     "output_type": "execute_result"
    }
   ],
   "source": [
    "#checking for null in train dataframe\n",
    "df_train.isnull().sum()"
   ]
  },
  {
   "cell_type": "code",
   "execution_count": 18,
   "metadata": {},
   "outputs": [
    {
     "data": {
      "text/plain": [
       "movieId      0\n",
       "imdbId       0\n",
       "tmdbId     107\n",
       "dtype: int64"
      ]
     },
     "execution_count": 18,
     "metadata": {},
     "output_type": "execute_result"
    }
   ],
   "source": [
    "#checking for null in links dataframe\n",
    "df_links.isnull().sum()"
   ]
  },
  {
   "cell_type": "code",
   "execution_count": 19,
   "metadata": {},
   "outputs": [
    {
     "data": {
      "text/plain": [
       "userId        0\n",
       "movieId       0\n",
       "tag          16\n",
       "timestamp     0\n",
       "dtype: int64"
      ]
     },
     "execution_count": 19,
     "metadata": {},
     "output_type": "execute_result"
    }
   ],
   "source": [
    "#checking for null in tags dataframe\n",
    "df_tags.isnull().sum()\n"
   ]
  },
  {
   "cell_type": "code",
   "execution_count": 20,
   "metadata": {},
   "outputs": [
    {
     "data": {
      "text/plain": [
       "movieId    0\n",
       "title      0\n",
       "genres     0\n",
       "dtype: int64"
      ]
     },
     "execution_count": 20,
     "metadata": {},
     "output_type": "execute_result"
    }
   ],
   "source": [
    "#checking for null in movies dataframe\n",
    "df_movies.isnull().sum()"
   ]
  },
  {
   "cell_type": "markdown",
   "metadata": {},
   "source": [
    "### Viewing content in the tables"
   ]
  },
  {
   "cell_type": "code",
   "execution_count": 21,
   "metadata": {},
   "outputs": [
    {
     "data": {
      "text/html": [
       "<div>\n",
       "<style scoped>\n",
       "    .dataframe tbody tr th:only-of-type {\n",
       "        vertical-align: middle;\n",
       "    }\n",
       "\n",
       "    .dataframe tbody tr th {\n",
       "        vertical-align: top;\n",
       "    }\n",
       "\n",
       "    .dataframe thead th {\n",
       "        text-align: right;\n",
       "    }\n",
       "</style>\n",
       "<table border=\"1\" class=\"dataframe\">\n",
       "  <thead>\n",
       "    <tr style=\"text-align: right;\">\n",
       "      <th></th>\n",
       "      <th>userId</th>\n",
       "      <th>movieId</th>\n",
       "      <th>tag</th>\n",
       "      <th>timestamp</th>\n",
       "    </tr>\n",
       "  </thead>\n",
       "  <tbody>\n",
       "    <tr>\n",
       "      <th>0</th>\n",
       "      <td>3</td>\n",
       "      <td>260</td>\n",
       "      <td>classic</td>\n",
       "      <td>1439472355</td>\n",
       "    </tr>\n",
       "    <tr>\n",
       "      <th>1</th>\n",
       "      <td>3</td>\n",
       "      <td>260</td>\n",
       "      <td>sci-fi</td>\n",
       "      <td>1439472256</td>\n",
       "    </tr>\n",
       "    <tr>\n",
       "      <th>2</th>\n",
       "      <td>4</td>\n",
       "      <td>1732</td>\n",
       "      <td>dark comedy</td>\n",
       "      <td>1573943598</td>\n",
       "    </tr>\n",
       "    <tr>\n",
       "      <th>3</th>\n",
       "      <td>4</td>\n",
       "      <td>1732</td>\n",
       "      <td>great dialogue</td>\n",
       "      <td>1573943604</td>\n",
       "    </tr>\n",
       "    <tr>\n",
       "      <th>4</th>\n",
       "      <td>4</td>\n",
       "      <td>7569</td>\n",
       "      <td>so bad it's good</td>\n",
       "      <td>1573943455</td>\n",
       "    </tr>\n",
       "  </tbody>\n",
       "</table>\n",
       "</div>"
      ],
      "text/plain": [
       "   userId  movieId               tag   timestamp\n",
       "0       3      260           classic  1439472355\n",
       "1       3      260            sci-fi  1439472256\n",
       "2       4     1732       dark comedy  1573943598\n",
       "3       4     1732    great dialogue  1573943604\n",
       "4       4     7569  so bad it's good  1573943455"
      ]
     },
     "execution_count": 21,
     "metadata": {},
     "output_type": "execute_result"
    }
   ],
   "source": [
    "df_tags.head()"
   ]
  },
  {
   "cell_type": "code",
   "execution_count": 22,
   "metadata": {},
   "outputs": [
    {
     "data": {
      "text/html": [
       "<div>\n",
       "<style scoped>\n",
       "    .dataframe tbody tr th:only-of-type {\n",
       "        vertical-align: middle;\n",
       "    }\n",
       "\n",
       "    .dataframe tbody tr th {\n",
       "        vertical-align: top;\n",
       "    }\n",
       "\n",
       "    .dataframe thead th {\n",
       "        text-align: right;\n",
       "    }\n",
       "</style>\n",
       "<table border=\"1\" class=\"dataframe\">\n",
       "  <thead>\n",
       "    <tr style=\"text-align: right;\">\n",
       "      <th></th>\n",
       "      <th>movieId</th>\n",
       "      <th>title</th>\n",
       "      <th>genres</th>\n",
       "    </tr>\n",
       "  </thead>\n",
       "  <tbody>\n",
       "    <tr>\n",
       "      <th>0</th>\n",
       "      <td>1</td>\n",
       "      <td>Toy Story (1995)</td>\n",
       "      <td>Adventure|Animation|Children|Comedy|Fantasy</td>\n",
       "    </tr>\n",
       "    <tr>\n",
       "      <th>1</th>\n",
       "      <td>2</td>\n",
       "      <td>Jumanji (1995)</td>\n",
       "      <td>Adventure|Children|Fantasy</td>\n",
       "    </tr>\n",
       "    <tr>\n",
       "      <th>2</th>\n",
       "      <td>3</td>\n",
       "      <td>Grumpier Old Men (1995)</td>\n",
       "      <td>Comedy|Romance</td>\n",
       "    </tr>\n",
       "    <tr>\n",
       "      <th>3</th>\n",
       "      <td>4</td>\n",
       "      <td>Waiting to Exhale (1995)</td>\n",
       "      <td>Comedy|Drama|Romance</td>\n",
       "    </tr>\n",
       "    <tr>\n",
       "      <th>4</th>\n",
       "      <td>5</td>\n",
       "      <td>Father of the Bride Part II (1995)</td>\n",
       "      <td>Comedy</td>\n",
       "    </tr>\n",
       "  </tbody>\n",
       "</table>\n",
       "</div>"
      ],
      "text/plain": [
       "   movieId                               title  \\\n",
       "0        1                    Toy Story (1995)   \n",
       "1        2                      Jumanji (1995)   \n",
       "2        3             Grumpier Old Men (1995)   \n",
       "3        4            Waiting to Exhale (1995)   \n",
       "4        5  Father of the Bride Part II (1995)   \n",
       "\n",
       "                                        genres  \n",
       "0  Adventure|Animation|Children|Comedy|Fantasy  \n",
       "1                   Adventure|Children|Fantasy  \n",
       "2                               Comedy|Romance  \n",
       "3                         Comedy|Drama|Romance  \n",
       "4                                       Comedy  "
      ]
     },
     "execution_count": 22,
     "metadata": {},
     "output_type": "execute_result"
    }
   ],
   "source": [
    "df_movies.head()"
   ]
  },
  {
   "cell_type": "code",
   "execution_count": 23,
   "metadata": {},
   "outputs": [
    {
     "data": {
      "text/html": [
       "<div>\n",
       "<style scoped>\n",
       "    .dataframe tbody tr th:only-of-type {\n",
       "        vertical-align: middle;\n",
       "    }\n",
       "\n",
       "    .dataframe tbody tr th {\n",
       "        vertical-align: top;\n",
       "    }\n",
       "\n",
       "    .dataframe thead th {\n",
       "        text-align: right;\n",
       "    }\n",
       "</style>\n",
       "<table border=\"1\" class=\"dataframe\">\n",
       "  <thead>\n",
       "    <tr style=\"text-align: right;\">\n",
       "      <th></th>\n",
       "      <th>tagId</th>\n",
       "      <th>tag</th>\n",
       "    </tr>\n",
       "  </thead>\n",
       "  <tbody>\n",
       "    <tr>\n",
       "      <th>0</th>\n",
       "      <td>1</td>\n",
       "      <td>007</td>\n",
       "    </tr>\n",
       "    <tr>\n",
       "      <th>1</th>\n",
       "      <td>2</td>\n",
       "      <td>007 (series)</td>\n",
       "    </tr>\n",
       "    <tr>\n",
       "      <th>2</th>\n",
       "      <td>3</td>\n",
       "      <td>18th century</td>\n",
       "    </tr>\n",
       "    <tr>\n",
       "      <th>3</th>\n",
       "      <td>4</td>\n",
       "      <td>1920s</td>\n",
       "    </tr>\n",
       "    <tr>\n",
       "      <th>4</th>\n",
       "      <td>5</td>\n",
       "      <td>1930s</td>\n",
       "    </tr>\n",
       "  </tbody>\n",
       "</table>\n",
       "</div>"
      ],
      "text/plain": [
       "   tagId           tag\n",
       "0      1           007\n",
       "1      2  007 (series)\n",
       "2      3  18th century\n",
       "3      4         1920s\n",
       "4      5         1930s"
      ]
     },
     "execution_count": 23,
     "metadata": {},
     "output_type": "execute_result"
    }
   ],
   "source": [
    "df_genome_tags.head()"
   ]
  },
  {
   "cell_type": "code",
   "execution_count": 24,
   "metadata": {},
   "outputs": [
    {
     "data": {
      "text/html": [
       "<div>\n",
       "<style scoped>\n",
       "    .dataframe tbody tr th:only-of-type {\n",
       "        vertical-align: middle;\n",
       "    }\n",
       "\n",
       "    .dataframe tbody tr th {\n",
       "        vertical-align: top;\n",
       "    }\n",
       "\n",
       "    .dataframe thead th {\n",
       "        text-align: right;\n",
       "    }\n",
       "</style>\n",
       "<table border=\"1\" class=\"dataframe\">\n",
       "  <thead>\n",
       "    <tr style=\"text-align: right;\">\n",
       "      <th></th>\n",
       "      <th>movieId</th>\n",
       "      <th>tagId</th>\n",
       "      <th>relevance</th>\n",
       "    </tr>\n",
       "  </thead>\n",
       "  <tbody>\n",
       "    <tr>\n",
       "      <th>0</th>\n",
       "      <td>1</td>\n",
       "      <td>1</td>\n",
       "      <td>0.02875</td>\n",
       "    </tr>\n",
       "    <tr>\n",
       "      <th>1</th>\n",
       "      <td>1</td>\n",
       "      <td>2</td>\n",
       "      <td>0.02375</td>\n",
       "    </tr>\n",
       "    <tr>\n",
       "      <th>2</th>\n",
       "      <td>1</td>\n",
       "      <td>3</td>\n",
       "      <td>0.06250</td>\n",
       "    </tr>\n",
       "    <tr>\n",
       "      <th>3</th>\n",
       "      <td>1</td>\n",
       "      <td>4</td>\n",
       "      <td>0.07575</td>\n",
       "    </tr>\n",
       "    <tr>\n",
       "      <th>4</th>\n",
       "      <td>1</td>\n",
       "      <td>5</td>\n",
       "      <td>0.14075</td>\n",
       "    </tr>\n",
       "  </tbody>\n",
       "</table>\n",
       "</div>"
      ],
      "text/plain": [
       "   movieId  tagId  relevance\n",
       "0        1      1    0.02875\n",
       "1        1      2    0.02375\n",
       "2        1      3    0.06250\n",
       "3        1      4    0.07575\n",
       "4        1      5    0.14075"
      ]
     },
     "execution_count": 24,
     "metadata": {},
     "output_type": "execute_result"
    }
   ],
   "source": [
    "df_genome_scores.head()"
   ]
  },
  {
   "cell_type": "code",
   "execution_count": 25,
   "metadata": {},
   "outputs": [
    {
     "data": {
      "text/html": [
       "<div>\n",
       "<style scoped>\n",
       "    .dataframe tbody tr th:only-of-type {\n",
       "        vertical-align: middle;\n",
       "    }\n",
       "\n",
       "    .dataframe tbody tr th {\n",
       "        vertical-align: top;\n",
       "    }\n",
       "\n",
       "    .dataframe thead th {\n",
       "        text-align: right;\n",
       "    }\n",
       "</style>\n",
       "<table border=\"1\" class=\"dataframe\">\n",
       "  <thead>\n",
       "    <tr style=\"text-align: right;\">\n",
       "      <th></th>\n",
       "      <th>movieId</th>\n",
       "      <th>imdbId</th>\n",
       "      <th>tmdbId</th>\n",
       "    </tr>\n",
       "  </thead>\n",
       "  <tbody>\n",
       "    <tr>\n",
       "      <th>0</th>\n",
       "      <td>1</td>\n",
       "      <td>114709</td>\n",
       "      <td>862.0</td>\n",
       "    </tr>\n",
       "    <tr>\n",
       "      <th>1</th>\n",
       "      <td>2</td>\n",
       "      <td>113497</td>\n",
       "      <td>8844.0</td>\n",
       "    </tr>\n",
       "    <tr>\n",
       "      <th>2</th>\n",
       "      <td>3</td>\n",
       "      <td>113228</td>\n",
       "      <td>15602.0</td>\n",
       "    </tr>\n",
       "    <tr>\n",
       "      <th>3</th>\n",
       "      <td>4</td>\n",
       "      <td>114885</td>\n",
       "      <td>31357.0</td>\n",
       "    </tr>\n",
       "    <tr>\n",
       "      <th>4</th>\n",
       "      <td>5</td>\n",
       "      <td>113041</td>\n",
       "      <td>11862.0</td>\n",
       "    </tr>\n",
       "  </tbody>\n",
       "</table>\n",
       "</div>"
      ],
      "text/plain": [
       "   movieId  imdbId   tmdbId\n",
       "0        1  114709    862.0\n",
       "1        2  113497   8844.0\n",
       "2        3  113228  15602.0\n",
       "3        4  114885  31357.0\n",
       "4        5  113041  11862.0"
      ]
     },
     "execution_count": 25,
     "metadata": {},
     "output_type": "execute_result"
    }
   ],
   "source": [
    "df_links.head()"
   ]
  },
  {
   "cell_type": "code",
   "execution_count": 26,
   "metadata": {},
   "outputs": [
    {
     "data": {
      "text/html": [
       "<div>\n",
       "<style scoped>\n",
       "    .dataframe tbody tr th:only-of-type {\n",
       "        vertical-align: middle;\n",
       "    }\n",
       "\n",
       "    .dataframe tbody tr th {\n",
       "        vertical-align: top;\n",
       "    }\n",
       "\n",
       "    .dataframe thead th {\n",
       "        text-align: right;\n",
       "    }\n",
       "</style>\n",
       "<table border=\"1\" class=\"dataframe\">\n",
       "  <thead>\n",
       "    <tr style=\"text-align: right;\">\n",
       "      <th></th>\n",
       "      <th>userId</th>\n",
       "      <th>movieId</th>\n",
       "      <th>rating</th>\n",
       "      <th>timestamp</th>\n",
       "    </tr>\n",
       "  </thead>\n",
       "  <tbody>\n",
       "    <tr>\n",
       "      <th>0</th>\n",
       "      <td>5163</td>\n",
       "      <td>57669</td>\n",
       "      <td>4.0</td>\n",
       "      <td>1518349992</td>\n",
       "    </tr>\n",
       "    <tr>\n",
       "      <th>1</th>\n",
       "      <td>106343</td>\n",
       "      <td>5</td>\n",
       "      <td>4.5</td>\n",
       "      <td>1206238739</td>\n",
       "    </tr>\n",
       "    <tr>\n",
       "      <th>2</th>\n",
       "      <td>146790</td>\n",
       "      <td>5459</td>\n",
       "      <td>5.0</td>\n",
       "      <td>1076215539</td>\n",
       "    </tr>\n",
       "    <tr>\n",
       "      <th>3</th>\n",
       "      <td>106362</td>\n",
       "      <td>32296</td>\n",
       "      <td>2.0</td>\n",
       "      <td>1423042565</td>\n",
       "    </tr>\n",
       "    <tr>\n",
       "      <th>4</th>\n",
       "      <td>9041</td>\n",
       "      <td>366</td>\n",
       "      <td>3.0</td>\n",
       "      <td>833375837</td>\n",
       "    </tr>\n",
       "  </tbody>\n",
       "</table>\n",
       "</div>"
      ],
      "text/plain": [
       "   userId  movieId  rating   timestamp\n",
       "0    5163    57669     4.0  1518349992\n",
       "1  106343        5     4.5  1206238739\n",
       "2  146790     5459     5.0  1076215539\n",
       "3  106362    32296     2.0  1423042565\n",
       "4    9041      366     3.0   833375837"
      ]
     },
     "execution_count": 26,
     "metadata": {},
     "output_type": "execute_result"
    }
   ],
   "source": [
    "df_train.head()"
   ]
  },
  {
   "cell_type": "code",
   "execution_count": 27,
   "metadata": {},
   "outputs": [
    {
     "data": {
      "text/html": [
       "<div>\n",
       "<style scoped>\n",
       "    .dataframe tbody tr th:only-of-type {\n",
       "        vertical-align: middle;\n",
       "    }\n",
       "\n",
       "    .dataframe tbody tr th {\n",
       "        vertical-align: top;\n",
       "    }\n",
       "\n",
       "    .dataframe thead th {\n",
       "        text-align: right;\n",
       "    }\n",
       "</style>\n",
       "<table border=\"1\" class=\"dataframe\">\n",
       "  <thead>\n",
       "    <tr style=\"text-align: right;\">\n",
       "      <th></th>\n",
       "      <th>movieId</th>\n",
       "      <th>title_cast</th>\n",
       "      <th>director</th>\n",
       "      <th>runtime</th>\n",
       "      <th>budget</th>\n",
       "      <th>plot_keywords</th>\n",
       "    </tr>\n",
       "  </thead>\n",
       "  <tbody>\n",
       "    <tr>\n",
       "      <th>0</th>\n",
       "      <td>1</td>\n",
       "      <td>Tom Hanks|Tim Allen|Don Rickles|Jim Varney|Wal...</td>\n",
       "      <td>John Lasseter</td>\n",
       "      <td>81.0</td>\n",
       "      <td>$30,000,000</td>\n",
       "      <td>toy|rivalry|cowboy|cgi animation</td>\n",
       "    </tr>\n",
       "    <tr>\n",
       "      <th>1</th>\n",
       "      <td>2</td>\n",
       "      <td>Robin Williams|Jonathan Hyde|Kirsten Dunst|Bra...</td>\n",
       "      <td>Jonathan Hensleigh</td>\n",
       "      <td>104.0</td>\n",
       "      <td>$65,000,000</td>\n",
       "      <td>board game|adventurer|fight|game</td>\n",
       "    </tr>\n",
       "    <tr>\n",
       "      <th>2</th>\n",
       "      <td>3</td>\n",
       "      <td>Walter Matthau|Jack Lemmon|Sophia Loren|Ann-Ma...</td>\n",
       "      <td>Mark Steven Johnson</td>\n",
       "      <td>101.0</td>\n",
       "      <td>$25,000,000</td>\n",
       "      <td>boat|lake|neighbor|rivalry</td>\n",
       "    </tr>\n",
       "    <tr>\n",
       "      <th>3</th>\n",
       "      <td>4</td>\n",
       "      <td>Whitney Houston|Angela Bassett|Loretta Devine|...</td>\n",
       "      <td>Terry McMillan</td>\n",
       "      <td>124.0</td>\n",
       "      <td>$16,000,000</td>\n",
       "      <td>black american|husband wife relationship|betra...</td>\n",
       "    </tr>\n",
       "    <tr>\n",
       "      <th>4</th>\n",
       "      <td>5</td>\n",
       "      <td>Steve Martin|Diane Keaton|Martin Short|Kimberl...</td>\n",
       "      <td>Albert Hackett</td>\n",
       "      <td>106.0</td>\n",
       "      <td>$30,000,000</td>\n",
       "      <td>fatherhood|doberman|dog|mansion</td>\n",
       "    </tr>\n",
       "  </tbody>\n",
       "</table>\n",
       "</div>"
      ],
      "text/plain": [
       "   movieId                                         title_cast  \\\n",
       "0        1  Tom Hanks|Tim Allen|Don Rickles|Jim Varney|Wal...   \n",
       "1        2  Robin Williams|Jonathan Hyde|Kirsten Dunst|Bra...   \n",
       "2        3  Walter Matthau|Jack Lemmon|Sophia Loren|Ann-Ma...   \n",
       "3        4  Whitney Houston|Angela Bassett|Loretta Devine|...   \n",
       "4        5  Steve Martin|Diane Keaton|Martin Short|Kimberl...   \n",
       "\n",
       "              director  runtime       budget  \\\n",
       "0        John Lasseter     81.0  $30,000,000   \n",
       "1   Jonathan Hensleigh    104.0  $65,000,000   \n",
       "2  Mark Steven Johnson    101.0  $25,000,000   \n",
       "3       Terry McMillan    124.0  $16,000,000   \n",
       "4       Albert Hackett    106.0  $30,000,000   \n",
       "\n",
       "                                       plot_keywords  \n",
       "0                   toy|rivalry|cowboy|cgi animation  \n",
       "1                   board game|adventurer|fight|game  \n",
       "2                         boat|lake|neighbor|rivalry  \n",
       "3  black american|husband wife relationship|betra...  \n",
       "4                    fatherhood|doberman|dog|mansion  "
      ]
     },
     "execution_count": 27,
     "metadata": {},
     "output_type": "execute_result"
    }
   ],
   "source": [
    "df_imdb_data.head()"
   ]
  },
  {
   "cell_type": "code",
   "execution_count": 28,
   "metadata": {},
   "outputs": [],
   "source": [
    "from datetime import datetime\n",
    "import re\n",
    "#function for formating time\n",
    "def formattime(t):\n",
    "    time=datetime.utcfromtimestamp(t).strftime('%Y-%m-%d %H:%M:%S')\n",
    "    return time\n",
    " #function extracting number   \n",
    "def extract_number(n):\n",
    "    number = \"\".join([ch for ch in n if ch.isdigit()])\n",
    "    return number\n",
    " # functon for extracting clean string from our title column   \n",
    "def extract_string(n):\n",
    "    brackets=['(',')']\n",
    "    string = \"\".join([ch for ch in n if not ch.isdigit() and ch not in brackets])\n",
    "    return string\n",
    " #this function will split the text by |   \n",
    "def split_text(n):\n",
    "    text_split = \" \".join(n.split(\"|\"))\n",
    "    return text_split\n"
   ]
  },
  {
   "cell_type": "markdown",
   "metadata": {},
   "source": [
    "Applying the fucntions described above to `df_movies['genres'],df_movies['title']` column in order to extract the individual genres,year from title, and title itself without the year "
   ]
  },
  {
   "cell_type": "code",
   "execution_count": 29,
   "metadata": {},
   "outputs": [],
   "source": [
    "# splitting genres\n",
    "df_movies['clean_genres']=df_movies['genres'].apply(split_text)"
   ]
  },
  {
   "cell_type": "code",
   "execution_count": 30,
   "metadata": {},
   "outputs": [],
   "source": [
    "# extract title and year into their respective indivual column\n",
    "df_movies['title_year']=df_movies['title'].apply(extract_number)\n",
    "df_movies['title_string']=df_movies['title'].apply(extract_string)"
   ]
  },
  {
   "cell_type": "code",
   "execution_count": 31,
   "metadata": {},
   "outputs": [],
   "source": [
    "# formatime time\n",
    "df_train['f_time']=df_train['timestamp'].apply(formattime)"
   ]
  },
  {
   "cell_type": "code",
   "execution_count": 32,
   "metadata": {},
   "outputs": [
    {
     "data": {
      "text/html": [
       "<div>\n",
       "<style scoped>\n",
       "    .dataframe tbody tr th:only-of-type {\n",
       "        vertical-align: middle;\n",
       "    }\n",
       "\n",
       "    .dataframe tbody tr th {\n",
       "        vertical-align: top;\n",
       "    }\n",
       "\n",
       "    .dataframe thead th {\n",
       "        text-align: right;\n",
       "    }\n",
       "</style>\n",
       "<table border=\"1\" class=\"dataframe\">\n",
       "  <thead>\n",
       "    <tr style=\"text-align: right;\">\n",
       "      <th></th>\n",
       "      <th>movieId</th>\n",
       "      <th>title</th>\n",
       "      <th>genres</th>\n",
       "      <th>clean_genres</th>\n",
       "      <th>title_year</th>\n",
       "      <th>title_string</th>\n",
       "    </tr>\n",
       "  </thead>\n",
       "  <tbody>\n",
       "    <tr>\n",
       "      <th>0</th>\n",
       "      <td>1</td>\n",
       "      <td>Toy Story (1995)</td>\n",
       "      <td>Adventure|Animation|Children|Comedy|Fantasy</td>\n",
       "      <td>Adventure Animation Children Comedy Fantasy</td>\n",
       "      <td>1995</td>\n",
       "      <td>Toy Story</td>\n",
       "    </tr>\n",
       "    <tr>\n",
       "      <th>1</th>\n",
       "      <td>2</td>\n",
       "      <td>Jumanji (1995)</td>\n",
       "      <td>Adventure|Children|Fantasy</td>\n",
       "      <td>Adventure Children Fantasy</td>\n",
       "      <td>1995</td>\n",
       "      <td>Jumanji</td>\n",
       "    </tr>\n",
       "    <tr>\n",
       "      <th>2</th>\n",
       "      <td>3</td>\n",
       "      <td>Grumpier Old Men (1995)</td>\n",
       "      <td>Comedy|Romance</td>\n",
       "      <td>Comedy Romance</td>\n",
       "      <td>1995</td>\n",
       "      <td>Grumpier Old Men</td>\n",
       "    </tr>\n",
       "    <tr>\n",
       "      <th>3</th>\n",
       "      <td>4</td>\n",
       "      <td>Waiting to Exhale (1995)</td>\n",
       "      <td>Comedy|Drama|Romance</td>\n",
       "      <td>Comedy Drama Romance</td>\n",
       "      <td>1995</td>\n",
       "      <td>Waiting to Exhale</td>\n",
       "    </tr>\n",
       "    <tr>\n",
       "      <th>4</th>\n",
       "      <td>5</td>\n",
       "      <td>Father of the Bride Part II (1995)</td>\n",
       "      <td>Comedy</td>\n",
       "      <td>Comedy</td>\n",
       "      <td>1995</td>\n",
       "      <td>Father of the Bride Part II</td>\n",
       "    </tr>\n",
       "  </tbody>\n",
       "</table>\n",
       "</div>"
      ],
      "text/plain": [
       "   movieId                               title  \\\n",
       "0        1                    Toy Story (1995)   \n",
       "1        2                      Jumanji (1995)   \n",
       "2        3             Grumpier Old Men (1995)   \n",
       "3        4            Waiting to Exhale (1995)   \n",
       "4        5  Father of the Bride Part II (1995)   \n",
       "\n",
       "                                        genres  \\\n",
       "0  Adventure|Animation|Children|Comedy|Fantasy   \n",
       "1                   Adventure|Children|Fantasy   \n",
       "2                               Comedy|Romance   \n",
       "3                         Comedy|Drama|Romance   \n",
       "4                                       Comedy   \n",
       "\n",
       "                                  clean_genres title_year  \\\n",
       "0  Adventure Animation Children Comedy Fantasy       1995   \n",
       "1                   Adventure Children Fantasy       1995   \n",
       "2                               Comedy Romance       1995   \n",
       "3                         Comedy Drama Romance       1995   \n",
       "4                                       Comedy       1995   \n",
       "\n",
       "                   title_string  \n",
       "0                    Toy Story   \n",
       "1                      Jumanji   \n",
       "2             Grumpier Old Men   \n",
       "3            Waiting to Exhale   \n",
       "4  Father of the Bride Part II   "
      ]
     },
     "execution_count": 32,
     "metadata": {},
     "output_type": "execute_result"
    }
   ],
   "source": [
    "df_movies.head()"
   ]
  },
  {
   "cell_type": "code",
   "execution_count": 33,
   "metadata": {},
   "outputs": [],
   "source": [
    "df_tags['f_time_tag']=df_tags['timestamp'].apply(formattime)"
   ]
  },
  {
   "cell_type": "code",
   "execution_count": 34,
   "metadata": {},
   "outputs": [],
   "source": [
    "# drop null values in tags and links dataframe\n",
    "df_tags_clean=df_tags.dropna()\n",
    "df_links_clean=df_links.dropna()"
   ]
  },
  {
   "cell_type": "code",
   "execution_count": 35,
   "metadata": {},
   "outputs": [
    {
     "data": {
      "text/plain": [
       "movieId              0\n",
       "title_cast       10068\n",
       "director          9874\n",
       "runtime          12089\n",
       "budget           19372\n",
       "plot_keywords    11078\n",
       "dtype: int64"
      ]
     },
     "execution_count": 35,
     "metadata": {},
     "output_type": "execute_result"
    }
   ],
   "source": [
    "df_imdb_data.isnull().sum()"
   ]
  },
  {
   "cell_type": "code",
   "execution_count": 36,
   "metadata": {},
   "outputs": [
    {
     "name": "stdout",
     "output_type": "stream",
     "text": [
      "The percent of null values in movieId is 0.0\n",
      "The percent of null values in title_cast is 36.91\n",
      "The percent of null values in director is 36.2\n",
      "The percent of null values in runtime is 44.32\n",
      "The percent of null values in budget is 71.02\n",
      "The percent of null values in plot_keywords is 40.61\n"
     ]
    }
   ],
   "source": [
    "# we will drop the columns with more than 50% null values in the imdb_data dataframe\n",
    "#here we are checking the number of null values in columns\n",
    "val=df_imdb_data[df_imdb_data.columns[0]].count()\n",
    "for col in df_imdb_data.columns:\n",
    "    na =df_imdb_data[col].isnull().sum()\n",
    "    per_na=round(na/val*100,2)\n",
    "    print(f\"The percent of null values in {col} is {per_na}\")"
   ]
  },
  {
   "cell_type": "code",
   "execution_count": 37,
   "metadata": {},
   "outputs": [],
   "source": [
    "\n",
    "df_imdb_data=df_imdb_data.drop('budget', axis=1)"
   ]
  },
  {
   "cell_type": "code",
   "execution_count": 38,
   "metadata": {},
   "outputs": [
    {
     "data": {
      "text/html": [
       "<div>\n",
       "<style scoped>\n",
       "    .dataframe tbody tr th:only-of-type {\n",
       "        vertical-align: middle;\n",
       "    }\n",
       "\n",
       "    .dataframe tbody tr th {\n",
       "        vertical-align: top;\n",
       "    }\n",
       "\n",
       "    .dataframe thead th {\n",
       "        text-align: right;\n",
       "    }\n",
       "</style>\n",
       "<table border=\"1\" class=\"dataframe\">\n",
       "  <thead>\n",
       "    <tr style=\"text-align: right;\">\n",
       "      <th></th>\n",
       "      <th>movieId</th>\n",
       "      <th>title_cast</th>\n",
       "      <th>director</th>\n",
       "      <th>runtime</th>\n",
       "      <th>plot_keywords</th>\n",
       "    </tr>\n",
       "  </thead>\n",
       "  <tbody>\n",
       "    <tr>\n",
       "      <th>29</th>\n",
       "      <td>30</td>\n",
       "      <td>Li Gong|Baotian Li|Xiaoxiao Wang|Xuejian Li|Ch...</td>\n",
       "      <td>Feiyu Bi</td>\n",
       "      <td>NaN</td>\n",
       "      <td>NaN</td>\n",
       "    </tr>\n",
       "    <tr>\n",
       "      <th>76</th>\n",
       "      <td>77</td>\n",
       "      <td>Nico|Tina Aumont|Christian Päffgen|Edith Boulo...</td>\n",
       "      <td>Susanne Ofteringer</td>\n",
       "      <td>NaN</td>\n",
       "      <td>f rated|female musician|singer songwriter|inte...</td>\n",
       "    </tr>\n",
       "    <tr>\n",
       "      <th>107</th>\n",
       "      <td>109</td>\n",
       "      <td>Raymond J. Barry|Rustam Branaman|Jennifer MacD...</td>\n",
       "      <td>James Bruce</td>\n",
       "      <td>NaN</td>\n",
       "      <td>topless bar|topless|stripper|jeans</td>\n",
       "    </tr>\n",
       "    <tr>\n",
       "      <th>109</th>\n",
       "      <td>111</td>\n",
       "      <td>NaN</td>\n",
       "      <td>NaN</td>\n",
       "      <td>NaN</td>\n",
       "      <td>NaN</td>\n",
       "    </tr>\n",
       "    <tr>\n",
       "      <th>117</th>\n",
       "      <td>119</td>\n",
       "      <td>Andy Garcia|Alan Arkin|Rachel Ticotin|Joe Pant...</td>\n",
       "      <td>Andrew Davis</td>\n",
       "      <td>NaN</td>\n",
       "      <td>lawyer|estate|twin brother|brother brother rel...</td>\n",
       "    </tr>\n",
       "  </tbody>\n",
       "</table>\n",
       "</div>"
      ],
      "text/plain": [
       "     movieId                                         title_cast  \\\n",
       "29        30  Li Gong|Baotian Li|Xiaoxiao Wang|Xuejian Li|Ch...   \n",
       "76        77  Nico|Tina Aumont|Christian Päffgen|Edith Boulo...   \n",
       "107      109  Raymond J. Barry|Rustam Branaman|Jennifer MacD...   \n",
       "109      111                                                NaN   \n",
       "117      119  Andy Garcia|Alan Arkin|Rachel Ticotin|Joe Pant...   \n",
       "\n",
       "               director  runtime  \\\n",
       "29             Feiyu Bi      NaN   \n",
       "76   Susanne Ofteringer      NaN   \n",
       "107         James Bruce      NaN   \n",
       "109                 NaN      NaN   \n",
       "117        Andrew Davis      NaN   \n",
       "\n",
       "                                         plot_keywords  \n",
       "29                                                 NaN  \n",
       "76   f rated|female musician|singer songwriter|inte...  \n",
       "107                 topless bar|topless|stripper|jeans  \n",
       "109                                                NaN  \n",
       "117  lawyer|estate|twin brother|brother brother rel...  "
      ]
     },
     "execution_count": 38,
     "metadata": {},
     "output_type": "execute_result"
    }
   ],
   "source": [
    "df_imdb_data = df_imdb_data.replace(' ', np.nan)                   # to get rid of empty values\n",
    "nan_value = df_imdb_data[df_imdb_data.isna().any(axis=1)]         # to get all rows with Na\n",
    "\n",
    "nan_value.head() "
   ]
  },
  {
   "cell_type": "code",
   "execution_count": 39,
   "metadata": {},
   "outputs": [],
   "source": [
    "#df[df.isin(['Rich Burns']).any(axis=1)]"
   ]
  },
  {
   "cell_type": "code",
   "execution_count": 40,
   "metadata": {},
   "outputs": [
    {
     "data": {
      "text/html": [
       "<div>\n",
       "<style scoped>\n",
       "    .dataframe tbody tr th:only-of-type {\n",
       "        vertical-align: middle;\n",
       "    }\n",
       "\n",
       "    .dataframe tbody tr th {\n",
       "        vertical-align: top;\n",
       "    }\n",
       "\n",
       "    .dataframe thead th {\n",
       "        text-align: right;\n",
       "    }\n",
       "</style>\n",
       "<table border=\"1\" class=\"dataframe\">\n",
       "  <thead>\n",
       "    <tr style=\"text-align: right;\">\n",
       "      <th></th>\n",
       "      <th>movieId</th>\n",
       "      <th>title_cast</th>\n",
       "      <th>director</th>\n",
       "      <th>runtime</th>\n",
       "      <th>plot_keywords</th>\n",
       "    </tr>\n",
       "  </thead>\n",
       "  <tbody>\n",
       "    <tr>\n",
       "      <th>0</th>\n",
       "      <td>1</td>\n",
       "      <td>Tom Hanks|Tim Allen|Don Rickles|Jim Varney|Wal...</td>\n",
       "      <td>John Lasseter</td>\n",
       "      <td>81.0</td>\n",
       "      <td>toy|rivalry|cowboy|cgi animation</td>\n",
       "    </tr>\n",
       "    <tr>\n",
       "      <th>1</th>\n",
       "      <td>2</td>\n",
       "      <td>Robin Williams|Jonathan Hyde|Kirsten Dunst|Bra...</td>\n",
       "      <td>Jonathan Hensleigh</td>\n",
       "      <td>104.0</td>\n",
       "      <td>board game|adventurer|fight|game</td>\n",
       "    </tr>\n",
       "    <tr>\n",
       "      <th>2</th>\n",
       "      <td>3</td>\n",
       "      <td>Walter Matthau|Jack Lemmon|Sophia Loren|Ann-Ma...</td>\n",
       "      <td>Mark Steven Johnson</td>\n",
       "      <td>101.0</td>\n",
       "      <td>boat|lake|neighbor|rivalry</td>\n",
       "    </tr>\n",
       "    <tr>\n",
       "      <th>3</th>\n",
       "      <td>4</td>\n",
       "      <td>Whitney Houston|Angela Bassett|Loretta Devine|...</td>\n",
       "      <td>Terry McMillan</td>\n",
       "      <td>124.0</td>\n",
       "      <td>black american|husband wife relationship|betra...</td>\n",
       "    </tr>\n",
       "    <tr>\n",
       "      <th>4</th>\n",
       "      <td>5</td>\n",
       "      <td>Steve Martin|Diane Keaton|Martin Short|Kimberl...</td>\n",
       "      <td>Albert Hackett</td>\n",
       "      <td>106.0</td>\n",
       "      <td>fatherhood|doberman|dog|mansion</td>\n",
       "    </tr>\n",
       "  </tbody>\n",
       "</table>\n",
       "</div>"
      ],
      "text/plain": [
       "   movieId                                         title_cast  \\\n",
       "0        1  Tom Hanks|Tim Allen|Don Rickles|Jim Varney|Wal...   \n",
       "1        2  Robin Williams|Jonathan Hyde|Kirsten Dunst|Bra...   \n",
       "2        3  Walter Matthau|Jack Lemmon|Sophia Loren|Ann-Ma...   \n",
       "3        4  Whitney Houston|Angela Bassett|Loretta Devine|...   \n",
       "4        5  Steve Martin|Diane Keaton|Martin Short|Kimberl...   \n",
       "\n",
       "              director  runtime  \\\n",
       "0        John Lasseter     81.0   \n",
       "1   Jonathan Hensleigh    104.0   \n",
       "2  Mark Steven Johnson    101.0   \n",
       "3       Terry McMillan    124.0   \n",
       "4       Albert Hackett    106.0   \n",
       "\n",
       "                                       plot_keywords  \n",
       "0                   toy|rivalry|cowboy|cgi animation  \n",
       "1                   board game|adventurer|fight|game  \n",
       "2                         boat|lake|neighbor|rivalry  \n",
       "3  black american|husband wife relationship|betra...  \n",
       "4                    fatherhood|doberman|dog|mansion  "
      ]
     },
     "execution_count": 40,
     "metadata": {},
     "output_type": "execute_result"
    }
   ],
   "source": [
    "\n",
    "df_imdb=df_imdb_data\n",
    "\n",
    "#Removing rows with more than 2 null values from our data\n",
    "max_null_values = 2\n",
    "rows_to_remove = []\n",
    "for index, row in df_imdb.iterrows():\n",
    "    if row.isnull().sum() > max_null_values:\n",
    "        rows_to_remove.append(index)\n",
    "\n",
    "#df_cleaned = rows_to_remove #nan_values.drop(rows_to_remove)\n",
    "df_imdb_clean=df_imdb.drop(rows_to_remove,axis=0)\n",
    "df_imdb_clean.head()\n",
    "\n"
   ]
  },
  {
   "cell_type": "code",
   "execution_count": 41,
   "metadata": {
    "scrolled": true
   },
   "outputs": [
    {
     "data": {
      "text/html": [
       "<div>\n",
       "<style scoped>\n",
       "    .dataframe tbody tr th:only-of-type {\n",
       "        vertical-align: middle;\n",
       "    }\n",
       "\n",
       "    .dataframe tbody tr th {\n",
       "        vertical-align: top;\n",
       "    }\n",
       "\n",
       "    .dataframe thead th {\n",
       "        text-align: right;\n",
       "    }\n",
       "</style>\n",
       "<table border=\"1\" class=\"dataframe\">\n",
       "  <thead>\n",
       "    <tr style=\"text-align: right;\">\n",
       "      <th></th>\n",
       "      <th>movieId</th>\n",
       "      <th>title_cast</th>\n",
       "      <th>director</th>\n",
       "      <th>runtime</th>\n",
       "      <th>plot_keywords</th>\n",
       "    </tr>\n",
       "  </thead>\n",
       "  <tbody>\n",
       "    <tr>\n",
       "      <th>0</th>\n",
       "      <td>1</td>\n",
       "      <td>Tom Hanks|Tim Allen|Don Rickles|Jim Varney|Wal...</td>\n",
       "      <td>John Lasseter</td>\n",
       "      <td>81.0</td>\n",
       "      <td>toy|rivalry|cowboy|cgi animation</td>\n",
       "    </tr>\n",
       "    <tr>\n",
       "      <th>1</th>\n",
       "      <td>2</td>\n",
       "      <td>Robin Williams|Jonathan Hyde|Kirsten Dunst|Bra...</td>\n",
       "      <td>Jonathan Hensleigh</td>\n",
       "      <td>104.0</td>\n",
       "      <td>board game|adventurer|fight|game</td>\n",
       "    </tr>\n",
       "    <tr>\n",
       "      <th>2</th>\n",
       "      <td>3</td>\n",
       "      <td>Walter Matthau|Jack Lemmon|Sophia Loren|Ann-Ma...</td>\n",
       "      <td>Mark Steven Johnson</td>\n",
       "      <td>101.0</td>\n",
       "      <td>boat|lake|neighbor|rivalry</td>\n",
       "    </tr>\n",
       "    <tr>\n",
       "      <th>3</th>\n",
       "      <td>4</td>\n",
       "      <td>Whitney Houston|Angela Bassett|Loretta Devine|...</td>\n",
       "      <td>Terry McMillan</td>\n",
       "      <td>124.0</td>\n",
       "      <td>black american|husband wife relationship|betra...</td>\n",
       "    </tr>\n",
       "    <tr>\n",
       "      <th>4</th>\n",
       "      <td>5</td>\n",
       "      <td>Steve Martin|Diane Keaton|Martin Short|Kimberl...</td>\n",
       "      <td>Albert Hackett</td>\n",
       "      <td>106.0</td>\n",
       "      <td>fatherhood|doberman|dog|mansion</td>\n",
       "    </tr>\n",
       "  </tbody>\n",
       "</table>\n",
       "</div>"
      ],
      "text/plain": [
       "   movieId                                         title_cast  \\\n",
       "0        1  Tom Hanks|Tim Allen|Don Rickles|Jim Varney|Wal...   \n",
       "1        2  Robin Williams|Jonathan Hyde|Kirsten Dunst|Bra...   \n",
       "2        3  Walter Matthau|Jack Lemmon|Sophia Loren|Ann-Ma...   \n",
       "3        4  Whitney Houston|Angela Bassett|Loretta Devine|...   \n",
       "4        5  Steve Martin|Diane Keaton|Martin Short|Kimberl...   \n",
       "\n",
       "              director  runtime  \\\n",
       "0        John Lasseter     81.0   \n",
       "1   Jonathan Hensleigh    104.0   \n",
       "2  Mark Steven Johnson    101.0   \n",
       "3       Terry McMillan    124.0   \n",
       "4       Albert Hackett    106.0   \n",
       "\n",
       "                                       plot_keywords  \n",
       "0                   toy|rivalry|cowboy|cgi animation  \n",
       "1                   board game|adventurer|fight|game  \n",
       "2                         boat|lake|neighbor|rivalry  \n",
       "3  black american|husband wife relationship|betra...  \n",
       "4                    fatherhood|doberman|dog|mansion  "
      ]
     },
     "execution_count": 41,
     "metadata": {},
     "output_type": "execute_result"
    }
   ],
   "source": [
    "# Replace NaN values in 'runtime' with the average runtime for each director\n",
    "df_imdb_clean['runtime'] = df_imdb_clean.groupby('director')['runtime'].transform(lambda x: x.fillna(x.mean()))\n",
    "# Replace NaN values in 'title_cast' with the mode for each director\n",
    "df_imdb_clean['title_cast'] = df_imdb_clean.groupby('director')['title_cast'].transform(lambda x: x.fillna(x.mode().iloc[0] if not x.mode().empty else np.nan))\n",
    "df_imdb_clean.head()"
   ]
  },
  {
   "cell_type": "code",
   "execution_count": 42,
   "metadata": {},
   "outputs": [],
   "source": [
    "# here we are filling the null values of title cast with director\n",
    "df_imdb_clean['title_cast'] = df_imdb_clean['title_cast'].fillna(df_imdb_clean['director'])\n",
    "\n",
    "#here we are filling runtime null values  with  mean runtime for the movies\n",
    "df_imdb_clean['runtime'] = df_imdb_clean['runtime'].fillna(df_imdb_clean['runtime'].mean())\n"
   ]
  },
  {
   "cell_type": "code",
   "execution_count": 43,
   "metadata": {},
   "outputs": [
    {
     "data": {
      "text/plain": [
       "movieId             0\n",
       "title_cast         32\n",
       "director           32\n",
       "runtime             0\n",
       "plot_keywords    1223\n",
       "dtype: int64"
      ]
     },
     "execution_count": 43,
     "metadata": {},
     "output_type": "execute_result"
    }
   ],
   "source": [
    "df_imdb_clean.isnull().sum()"
   ]
  },
  {
   "cell_type": "code",
   "execution_count": 44,
   "metadata": {},
   "outputs": [],
   "source": [
    "# drop null values in imdb\n",
    "df_imdb_clean=df_imdb_clean\n",
    "df_imdb_clean=df_imdb_clean.dropna(subset=['director'])"
   ]
  },
  {
   "cell_type": "code",
   "execution_count": 45,
   "metadata": {},
   "outputs": [
    {
     "data": {
      "text/plain": [
       "movieId             0\n",
       "title_cast          0\n",
       "director            0\n",
       "runtime             0\n",
       "plot_keywords    1222\n",
       "dtype: int64"
      ]
     },
     "execution_count": 45,
     "metadata": {},
     "output_type": "execute_result"
    }
   ],
   "source": [
    "df_imdb_clean.isnull().sum()"
   ]
  },
  {
   "cell_type": "code",
   "execution_count": 46,
   "metadata": {},
   "outputs": [],
   "source": [
    "df_imdb_clean_final=df_imdb_clean.dropna()"
   ]
  },
  {
   "cell_type": "code",
   "execution_count": 47,
   "metadata": {},
   "outputs": [
    {
     "name": "stderr",
     "output_type": "stream",
     "text": [
      "C:\\Users\\hp\\AppData\\Local\\Temp\\ipykernel_11000\\1665174329.py:2: SettingWithCopyWarning: \n",
      "A value is trying to be set on a copy of a slice from a DataFrame.\n",
      "Try using .loc[row_indexer,col_indexer] = value instead\n",
      "\n",
      "See the caveats in the documentation: https://pandas.pydata.org/pandas-docs/stable/user_guide/indexing.html#returning-a-view-versus-a-copy\n",
      "  df_imdb_clean_final['cast_pairs'] = df_imdb_clean_final['title_cast'].apply(lambda x: ','.join(sorted(x.split('|'))))\n",
      "C:\\Users\\hp\\AppData\\Local\\Temp\\ipykernel_11000\\1665174329.py:3: SettingWithCopyWarning: \n",
      "A value is trying to be set on a copy of a slice from a DataFrame.\n",
      "Try using .loc[row_indexer,col_indexer] = value instead\n",
      "\n",
      "See the caveats in the documentation: https://pandas.pydata.org/pandas-docs/stable/user_guide/indexing.html#returning-a-view-versus-a-copy\n",
      "  df_imdb_clean_final['plot_keywords'] = df_imdb_clean_final['plot_keywords'].apply(lambda x: ','.join(sorted(x.split('|'))))\n"
     ]
    },
    {
     "data": {
      "text/html": [
       "<div>\n",
       "<style scoped>\n",
       "    .dataframe tbody tr th:only-of-type {\n",
       "        vertical-align: middle;\n",
       "    }\n",
       "\n",
       "    .dataframe tbody tr th {\n",
       "        vertical-align: top;\n",
       "    }\n",
       "\n",
       "    .dataframe thead th {\n",
       "        text-align: right;\n",
       "    }\n",
       "</style>\n",
       "<table border=\"1\" class=\"dataframe\">\n",
       "  <thead>\n",
       "    <tr style=\"text-align: right;\">\n",
       "      <th></th>\n",
       "      <th>movieId</th>\n",
       "      <th>title_cast</th>\n",
       "      <th>director</th>\n",
       "      <th>runtime</th>\n",
       "      <th>plot_keywords</th>\n",
       "      <th>cast_pairs</th>\n",
       "    </tr>\n",
       "  </thead>\n",
       "  <tbody>\n",
       "    <tr>\n",
       "      <th>0</th>\n",
       "      <td>1</td>\n",
       "      <td>Tom Hanks|Tim Allen|Don Rickles|Jim Varney|Wal...</td>\n",
       "      <td>John Lasseter</td>\n",
       "      <td>81.0</td>\n",
       "      <td>cgi animation,cowboy,rivalry,toy</td>\n",
       "      <td>Annie Potts,Don Rickles,Erik von Detten,Jack A...</td>\n",
       "    </tr>\n",
       "    <tr>\n",
       "      <th>1</th>\n",
       "      <td>2</td>\n",
       "      <td>Robin Williams|Jonathan Hyde|Kirsten Dunst|Bra...</td>\n",
       "      <td>Jonathan Hensleigh</td>\n",
       "      <td>104.0</td>\n",
       "      <td>adventurer,board game,fight,game</td>\n",
       "      <td>Adam Hann-Byrd,Bebe Neuwirth,Bonnie Hunt,Bradl...</td>\n",
       "    </tr>\n",
       "    <tr>\n",
       "      <th>2</th>\n",
       "      <td>3</td>\n",
       "      <td>Walter Matthau|Jack Lemmon|Sophia Loren|Ann-Ma...</td>\n",
       "      <td>Mark Steven Johnson</td>\n",
       "      <td>101.0</td>\n",
       "      <td>boat,lake,neighbor,rivalry</td>\n",
       "      <td>Allison Levine,Ann Morgan Guilbert,Ann-Margret...</td>\n",
       "    </tr>\n",
       "    <tr>\n",
       "      <th>3</th>\n",
       "      <td>4</td>\n",
       "      <td>Whitney Houston|Angela Bassett|Loretta Devine|...</td>\n",
       "      <td>Terry McMillan</td>\n",
       "      <td>124.0</td>\n",
       "      <td>betrayal,black american,husband wife relations...</td>\n",
       "      <td>Angela Bassett,Brandon Hammond,Dennis Haysbert...</td>\n",
       "    </tr>\n",
       "    <tr>\n",
       "      <th>4</th>\n",
       "      <td>5</td>\n",
       "      <td>Steve Martin|Diane Keaton|Martin Short|Kimberl...</td>\n",
       "      <td>Albert Hackett</td>\n",
       "      <td>106.0</td>\n",
       "      <td>doberman,dog,fatherhood,mansion</td>\n",
       "      <td>April Ortiz,BD Wong,Diane Keaton,Dulcy Rogers,...</td>\n",
       "    </tr>\n",
       "  </tbody>\n",
       "</table>\n",
       "</div>"
      ],
      "text/plain": [
       "   movieId                                         title_cast  \\\n",
       "0        1  Tom Hanks|Tim Allen|Don Rickles|Jim Varney|Wal...   \n",
       "1        2  Robin Williams|Jonathan Hyde|Kirsten Dunst|Bra...   \n",
       "2        3  Walter Matthau|Jack Lemmon|Sophia Loren|Ann-Ma...   \n",
       "3        4  Whitney Houston|Angela Bassett|Loretta Devine|...   \n",
       "4        5  Steve Martin|Diane Keaton|Martin Short|Kimberl...   \n",
       "\n",
       "              director  runtime  \\\n",
       "0        John Lasseter     81.0   \n",
       "1   Jonathan Hensleigh    104.0   \n",
       "2  Mark Steven Johnson    101.0   \n",
       "3       Terry McMillan    124.0   \n",
       "4       Albert Hackett    106.0   \n",
       "\n",
       "                                       plot_keywords  \\\n",
       "0                   cgi animation,cowboy,rivalry,toy   \n",
       "1                   adventurer,board game,fight,game   \n",
       "2                         boat,lake,neighbor,rivalry   \n",
       "3  betrayal,black american,husband wife relations...   \n",
       "4                    doberman,dog,fatherhood,mansion   \n",
       "\n",
       "                                          cast_pairs  \n",
       "0  Annie Potts,Don Rickles,Erik von Detten,Jack A...  \n",
       "1  Adam Hann-Byrd,Bebe Neuwirth,Bonnie Hunt,Bradl...  \n",
       "2  Allison Levine,Ann Morgan Guilbert,Ann-Margret...  \n",
       "3  Angela Bassett,Brandon Hammond,Dennis Haysbert...  \n",
       "4  April Ortiz,BD Wong,Diane Keaton,Dulcy Rogers,...  "
      ]
     },
     "execution_count": 47,
     "metadata": {},
     "output_type": "execute_result"
    }
   ],
   "source": [
    "# Splitting the title_cast column and creating pairs\n",
    "df_imdb_clean_final['cast_pairs'] = df_imdb_clean_final['title_cast'].apply(lambda x: ','.join(sorted(x.split('|'))))\n",
    "df_imdb_clean_final['plot_keywords'] = df_imdb_clean_final['plot_keywords'].apply(lambda x: ','.join(sorted(x.split('|'))))\n",
    "df_imdb_clean_final.head()"
   ]
  },
  {
   "cell_type": "code",
   "execution_count": 48,
   "metadata": {},
   "outputs": [
    {
     "data": {
      "text/html": [
       "<div>\n",
       "<style scoped>\n",
       "    .dataframe tbody tr th:only-of-type {\n",
       "        vertical-align: middle;\n",
       "    }\n",
       "\n",
       "    .dataframe tbody tr th {\n",
       "        vertical-align: top;\n",
       "    }\n",
       "\n",
       "    .dataframe thead th {\n",
       "        text-align: right;\n",
       "    }\n",
       "</style>\n",
       "<table border=\"1\" class=\"dataframe\">\n",
       "  <thead>\n",
       "    <tr style=\"text-align: right;\">\n",
       "      <th></th>\n",
       "      <th>movieId</th>\n",
       "      <th>clean_genres</th>\n",
       "      <th>title_year</th>\n",
       "      <th>title_string</th>\n",
       "    </tr>\n",
       "  </thead>\n",
       "  <tbody>\n",
       "    <tr>\n",
       "      <th>0</th>\n",
       "      <td>1</td>\n",
       "      <td>Adventure Animation Children Comedy Fantasy</td>\n",
       "      <td>1995</td>\n",
       "      <td>Toy Story</td>\n",
       "    </tr>\n",
       "    <tr>\n",
       "      <th>1</th>\n",
       "      <td>2</td>\n",
       "      <td>Adventure Children Fantasy</td>\n",
       "      <td>1995</td>\n",
       "      <td>Jumanji</td>\n",
       "    </tr>\n",
       "    <tr>\n",
       "      <th>2</th>\n",
       "      <td>3</td>\n",
       "      <td>Comedy Romance</td>\n",
       "      <td>1995</td>\n",
       "      <td>Grumpier Old Men</td>\n",
       "    </tr>\n",
       "    <tr>\n",
       "      <th>3</th>\n",
       "      <td>4</td>\n",
       "      <td>Comedy Drama Romance</td>\n",
       "      <td>1995</td>\n",
       "      <td>Waiting to Exhale</td>\n",
       "    </tr>\n",
       "    <tr>\n",
       "      <th>4</th>\n",
       "      <td>5</td>\n",
       "      <td>Comedy</td>\n",
       "      <td>1995</td>\n",
       "      <td>Father of the Bride Part II</td>\n",
       "    </tr>\n",
       "  </tbody>\n",
       "</table>\n",
       "</div>"
      ],
      "text/plain": [
       "   movieId                                 clean_genres title_year  \\\n",
       "0        1  Adventure Animation Children Comedy Fantasy       1995   \n",
       "1        2                   Adventure Children Fantasy       1995   \n",
       "2        3                               Comedy Romance       1995   \n",
       "3        4                         Comedy Drama Romance       1995   \n",
       "4        5                                       Comedy       1995   \n",
       "\n",
       "                   title_string  \n",
       "0                    Toy Story   \n",
       "1                      Jumanji   \n",
       "2             Grumpier Old Men   \n",
       "3            Waiting to Exhale   \n",
       "4  Father of the Bride Part II   "
      ]
     },
     "execution_count": 48,
     "metadata": {},
     "output_type": "execute_result"
    }
   ],
   "source": [
    "df_movies_clean=df_movies\n",
    "df_movies_clean = df_movies.drop(['genres'], axis=1)\n",
    "df_movies_clean.head()"
   ]
  },
  {
   "cell_type": "code",
   "execution_count": 49,
   "metadata": {},
   "outputs": [
    {
     "data": {
      "text/html": [
       "<div>\n",
       "<style scoped>\n",
       "    .dataframe tbody tr th:only-of-type {\n",
       "        vertical-align: middle;\n",
       "    }\n",
       "\n",
       "    .dataframe tbody tr th {\n",
       "        vertical-align: top;\n",
       "    }\n",
       "\n",
       "    .dataframe thead th {\n",
       "        text-align: right;\n",
       "    }\n",
       "</style>\n",
       "<table border=\"1\" class=\"dataframe\">\n",
       "  <thead>\n",
       "    <tr style=\"text-align: right;\">\n",
       "      <th></th>\n",
       "      <th>movieId</th>\n",
       "      <th>clean_genres</th>\n",
       "      <th>title_year</th>\n",
       "      <th>title_string</th>\n",
       "    </tr>\n",
       "  </thead>\n",
       "  <tbody>\n",
       "    <tr>\n",
       "      <th>0</th>\n",
       "      <td>1</td>\n",
       "      <td>Adventure Animation Children Comedy Fantasy</td>\n",
       "      <td>1995</td>\n",
       "      <td>Toy Story</td>\n",
       "    </tr>\n",
       "    <tr>\n",
       "      <th>1</th>\n",
       "      <td>2</td>\n",
       "      <td>Adventure Children Fantasy</td>\n",
       "      <td>1995</td>\n",
       "      <td>Jumanji</td>\n",
       "    </tr>\n",
       "    <tr>\n",
       "      <th>2</th>\n",
       "      <td>3</td>\n",
       "      <td>Comedy Romance</td>\n",
       "      <td>1995</td>\n",
       "      <td>Grumpier Old Men</td>\n",
       "    </tr>\n",
       "    <tr>\n",
       "      <th>3</th>\n",
       "      <td>4</td>\n",
       "      <td>Comedy Drama Romance</td>\n",
       "      <td>1995</td>\n",
       "      <td>Waiting to Exhale</td>\n",
       "    </tr>\n",
       "    <tr>\n",
       "      <th>4</th>\n",
       "      <td>5</td>\n",
       "      <td>Comedy</td>\n",
       "      <td>1995</td>\n",
       "      <td>Father of the Bride Part II</td>\n",
       "    </tr>\n",
       "  </tbody>\n",
       "</table>\n",
       "</div>"
      ],
      "text/plain": [
       "   movieId                                 clean_genres title_year  \\\n",
       "0        1  Adventure Animation Children Comedy Fantasy       1995   \n",
       "1        2                   Adventure Children Fantasy       1995   \n",
       "2        3                               Comedy Romance       1995   \n",
       "3        4                         Comedy Drama Romance       1995   \n",
       "4        5                                       Comedy       1995   \n",
       "\n",
       "                   title_string  \n",
       "0                    Toy Story   \n",
       "1                      Jumanji   \n",
       "2             Grumpier Old Men   \n",
       "3            Waiting to Exhale   \n",
       "4  Father of the Bride Part II   "
      ]
     },
     "execution_count": 49,
     "metadata": {},
     "output_type": "execute_result"
    }
   ],
   "source": [
    "#df_nogenre=df_m.loc[df_m['clean_genres'] == '(no genres listed)']\n",
    "#df_nogenre\n",
    "df_movies_clean['clean_genres'] = df_movies_clean['clean_genres'].replace(['(no genres listed)'], 'no_genre')\n",
    "#df_movies['title_string'] = df_movies.apply(lambda row: '-'.join(row), axis=1)\n",
    "df_movies_clean.head()\n"
   ]
  },
  {
   "cell_type": "code",
   "execution_count": 50,
   "metadata": {},
   "outputs": [],
   "source": [
    "# Define a function to extract the year\n",
    "def extract_year(number):\n",
    "    number_str = str(number)\n",
    "    year_str = number_str[-4:]\n",
    "    return year_str\n"
   ]
  },
  {
   "cell_type": "code",
   "execution_count": 51,
   "metadata": {},
   "outputs": [],
   "source": [
    "# Apply the function to the 'number_column' and create a new column 'extracted_year'\n",
    "df_movies_clean['title_year'] = df_movies_clean['title_year'].apply(extract_year)"
   ]
  },
  {
   "cell_type": "code",
   "execution_count": 52,
   "metadata": {},
   "outputs": [],
   "source": [
    "#CONVERTING THE datatype to int\n",
    "df_movies_clean['title_year'] = pd.to_numeric(df_movies_clean['title_year'], errors='coerce')"
   ]
  },
  {
   "cell_type": "code",
   "execution_count": 53,
   "metadata": {},
   "outputs": [
    {
     "data": {
      "text/html": [
       "<div>\n",
       "<style scoped>\n",
       "    .dataframe tbody tr th:only-of-type {\n",
       "        vertical-align: middle;\n",
       "    }\n",
       "\n",
       "    .dataframe tbody tr th {\n",
       "        vertical-align: top;\n",
       "    }\n",
       "\n",
       "    .dataframe thead th {\n",
       "        text-align: right;\n",
       "    }\n",
       "</style>\n",
       "<table border=\"1\" class=\"dataframe\">\n",
       "  <thead>\n",
       "    <tr style=\"text-align: right;\">\n",
       "      <th></th>\n",
       "      <th>userId</th>\n",
       "      <th>movieId</th>\n",
       "      <th>tag</th>\n",
       "      <th>timestamp</th>\n",
       "      <th>f_time_tag</th>\n",
       "    </tr>\n",
       "  </thead>\n",
       "  <tbody>\n",
       "    <tr>\n",
       "      <th>0</th>\n",
       "      <td>3</td>\n",
       "      <td>260</td>\n",
       "      <td>classic</td>\n",
       "      <td>1439472355</td>\n",
       "      <td>2015-08-13 13:25:55</td>\n",
       "    </tr>\n",
       "    <tr>\n",
       "      <th>1</th>\n",
       "      <td>3</td>\n",
       "      <td>260</td>\n",
       "      <td>sci-fi</td>\n",
       "      <td>1439472256</td>\n",
       "      <td>2015-08-13 13:24:16</td>\n",
       "    </tr>\n",
       "    <tr>\n",
       "      <th>2</th>\n",
       "      <td>4</td>\n",
       "      <td>1732</td>\n",
       "      <td>dark comedy</td>\n",
       "      <td>1573943598</td>\n",
       "      <td>2019-11-16 22:33:18</td>\n",
       "    </tr>\n",
       "    <tr>\n",
       "      <th>3</th>\n",
       "      <td>4</td>\n",
       "      <td>1732</td>\n",
       "      <td>great dialogue</td>\n",
       "      <td>1573943604</td>\n",
       "      <td>2019-11-16 22:33:24</td>\n",
       "    </tr>\n",
       "    <tr>\n",
       "      <th>4</th>\n",
       "      <td>4</td>\n",
       "      <td>7569</td>\n",
       "      <td>so bad it's good</td>\n",
       "      <td>1573943455</td>\n",
       "      <td>2019-11-16 22:30:55</td>\n",
       "    </tr>\n",
       "  </tbody>\n",
       "</table>\n",
       "</div>"
      ],
      "text/plain": [
       "   userId  movieId               tag   timestamp           f_time_tag\n",
       "0       3      260           classic  1439472355  2015-08-13 13:25:55\n",
       "1       3      260            sci-fi  1439472256  2015-08-13 13:24:16\n",
       "2       4     1732       dark comedy  1573943598  2019-11-16 22:33:18\n",
       "3       4     1732    great dialogue  1573943604  2019-11-16 22:33:24\n",
       "4       4     7569  so bad it's good  1573943455  2019-11-16 22:30:55"
      ]
     },
     "execution_count": 53,
     "metadata": {},
     "output_type": "execute_result"
    }
   ],
   "source": [
    "df_tags.head()"
   ]
  },
  {
   "cell_type": "code",
   "execution_count": 54,
   "metadata": {},
   "outputs": [],
   "source": [
    "#working on datetime \n",
    "df_tags['f_time_tag'] = pd.to_datetime(df_tags['f_time_tag'])\n",
    "\n",
    "# Split into year, month, and day columns\n",
    "df_tags['tag_year'] = df_tags['f_time_tag'].dt.year\n",
    "df_tags['tag_month'] = df_tags['f_time_tag'].dt.month\n",
    "df_tags['tag_day'] = df_tags['f_time_tag'].dt.day\n"
   ]
  },
  {
   "cell_type": "code",
   "execution_count": 55,
   "metadata": {},
   "outputs": [],
   "source": [
    "df_tags_clean = df_tags.drop(['timestamp','f_time_tag'],axis = 1)"
   ]
  },
  {
   "cell_type": "code",
   "execution_count": 56,
   "metadata": {},
   "outputs": [
    {
     "data": {
      "text/html": [
       "<div>\n",
       "<style scoped>\n",
       "    .dataframe tbody tr th:only-of-type {\n",
       "        vertical-align: middle;\n",
       "    }\n",
       "\n",
       "    .dataframe tbody tr th {\n",
       "        vertical-align: top;\n",
       "    }\n",
       "\n",
       "    .dataframe thead th {\n",
       "        text-align: right;\n",
       "    }\n",
       "</style>\n",
       "<table border=\"1\" class=\"dataframe\">\n",
       "  <thead>\n",
       "    <tr style=\"text-align: right;\">\n",
       "      <th></th>\n",
       "      <th>userId</th>\n",
       "      <th>movieId</th>\n",
       "      <th>tag</th>\n",
       "      <th>tag_year</th>\n",
       "      <th>tag_month</th>\n",
       "      <th>tag_day</th>\n",
       "    </tr>\n",
       "  </thead>\n",
       "  <tbody>\n",
       "    <tr>\n",
       "      <th>0</th>\n",
       "      <td>3</td>\n",
       "      <td>260</td>\n",
       "      <td>classic</td>\n",
       "      <td>2015</td>\n",
       "      <td>8</td>\n",
       "      <td>13</td>\n",
       "    </tr>\n",
       "    <tr>\n",
       "      <th>1</th>\n",
       "      <td>3</td>\n",
       "      <td>260</td>\n",
       "      <td>sci-fi</td>\n",
       "      <td>2015</td>\n",
       "      <td>8</td>\n",
       "      <td>13</td>\n",
       "    </tr>\n",
       "    <tr>\n",
       "      <th>2</th>\n",
       "      <td>4</td>\n",
       "      <td>1732</td>\n",
       "      <td>dark comedy</td>\n",
       "      <td>2019</td>\n",
       "      <td>11</td>\n",
       "      <td>16</td>\n",
       "    </tr>\n",
       "    <tr>\n",
       "      <th>3</th>\n",
       "      <td>4</td>\n",
       "      <td>1732</td>\n",
       "      <td>great dialogue</td>\n",
       "      <td>2019</td>\n",
       "      <td>11</td>\n",
       "      <td>16</td>\n",
       "    </tr>\n",
       "    <tr>\n",
       "      <th>4</th>\n",
       "      <td>4</td>\n",
       "      <td>7569</td>\n",
       "      <td>so bad it's good</td>\n",
       "      <td>2019</td>\n",
       "      <td>11</td>\n",
       "      <td>16</td>\n",
       "    </tr>\n",
       "  </tbody>\n",
       "</table>\n",
       "</div>"
      ],
      "text/plain": [
       "   userId  movieId               tag  tag_year  tag_month  tag_day\n",
       "0       3      260           classic      2015          8       13\n",
       "1       3      260            sci-fi      2015          8       13\n",
       "2       4     1732       dark comedy      2019         11       16\n",
       "3       4     1732    great dialogue      2019         11       16\n",
       "4       4     7569  so bad it's good      2019         11       16"
      ]
     },
     "execution_count": 56,
     "metadata": {},
     "output_type": "execute_result"
    }
   ],
   "source": [
    "df_tags_clean.head()"
   ]
  },
  {
   "cell_type": "code",
   "execution_count": 57,
   "metadata": {},
   "outputs": [],
   "source": [
    "#df_train.head()\n",
    "#working on datetime \n",
    "df_train['f_time'] = pd.to_datetime(df_train['f_time'])\n",
    "\n",
    "# Split into year, month, and day columns\n",
    "df_train['train_year'] = df_train['f_time'].dt.year\n",
    "df_train['train_month'] = df_train['f_time'].dt.month\n",
    "df_train['train_day'] = df_train['f_time'].dt.day"
   ]
  },
  {
   "cell_type": "code",
   "execution_count": 58,
   "metadata": {},
   "outputs": [
    {
     "data": {
      "text/html": [
       "<div>\n",
       "<style scoped>\n",
       "    .dataframe tbody tr th:only-of-type {\n",
       "        vertical-align: middle;\n",
       "    }\n",
       "\n",
       "    .dataframe tbody tr th {\n",
       "        vertical-align: top;\n",
       "    }\n",
       "\n",
       "    .dataframe thead th {\n",
       "        text-align: right;\n",
       "    }\n",
       "</style>\n",
       "<table border=\"1\" class=\"dataframe\">\n",
       "  <thead>\n",
       "    <tr style=\"text-align: right;\">\n",
       "      <th></th>\n",
       "      <th>userId</th>\n",
       "      <th>movieId</th>\n",
       "      <th>rating</th>\n",
       "      <th>train_year</th>\n",
       "      <th>train_month</th>\n",
       "      <th>train_day</th>\n",
       "    </tr>\n",
       "  </thead>\n",
       "  <tbody>\n",
       "    <tr>\n",
       "      <th>0</th>\n",
       "      <td>5163</td>\n",
       "      <td>57669</td>\n",
       "      <td>4.0</td>\n",
       "      <td>2018</td>\n",
       "      <td>2</td>\n",
       "      <td>11</td>\n",
       "    </tr>\n",
       "    <tr>\n",
       "      <th>1</th>\n",
       "      <td>106343</td>\n",
       "      <td>5</td>\n",
       "      <td>4.5</td>\n",
       "      <td>2008</td>\n",
       "      <td>3</td>\n",
       "      <td>23</td>\n",
       "    </tr>\n",
       "    <tr>\n",
       "      <th>2</th>\n",
       "      <td>146790</td>\n",
       "      <td>5459</td>\n",
       "      <td>5.0</td>\n",
       "      <td>2004</td>\n",
       "      <td>2</td>\n",
       "      <td>8</td>\n",
       "    </tr>\n",
       "    <tr>\n",
       "      <th>3</th>\n",
       "      <td>106362</td>\n",
       "      <td>32296</td>\n",
       "      <td>2.0</td>\n",
       "      <td>2015</td>\n",
       "      <td>2</td>\n",
       "      <td>4</td>\n",
       "    </tr>\n",
       "    <tr>\n",
       "      <th>4</th>\n",
       "      <td>9041</td>\n",
       "      <td>366</td>\n",
       "      <td>3.0</td>\n",
       "      <td>1996</td>\n",
       "      <td>5</td>\n",
       "      <td>29</td>\n",
       "    </tr>\n",
       "  </tbody>\n",
       "</table>\n",
       "</div>"
      ],
      "text/plain": [
       "   userId  movieId  rating  train_year  train_month  train_day\n",
       "0    5163    57669     4.0        2018            2         11\n",
       "1  106343        5     4.5        2008            3         23\n",
       "2  146790     5459     5.0        2004            2          8\n",
       "3  106362    32296     2.0        2015            2          4\n",
       "4    9041      366     3.0        1996            5         29"
      ]
     },
     "execution_count": 58,
     "metadata": {},
     "output_type": "execute_result"
    }
   ],
   "source": [
    "df_train_clean=df_train.drop(['timestamp','f_time'],axis = 1)\n",
    "df_train_clean.head()"
   ]
  },
  {
   "cell_type": "code",
   "execution_count": 59,
   "metadata": {},
   "outputs": [
    {
     "data": {
      "text/plain": [
       "(1110532, 9)"
      ]
     },
     "execution_count": 59,
     "metadata": {},
     "output_type": "execute_result"
    }
   ],
   "source": [
    "# merging  tags and movies frames for training \n",
    "df_movies_tags=df_movies_clean.merge(df_tags_clean,on='movieId', how='left')\n",
    "df_movies_tags.shape"
   ]
  },
  {
   "cell_type": "code",
   "execution_count": 60,
   "metadata": {},
   "outputs": [
    {
     "data": {
      "text/html": [
       "<div>\n",
       "<style scoped>\n",
       "    .dataframe tbody tr th:only-of-type {\n",
       "        vertical-align: middle;\n",
       "    }\n",
       "\n",
       "    .dataframe tbody tr th {\n",
       "        vertical-align: top;\n",
       "    }\n",
       "\n",
       "    .dataframe thead th {\n",
       "        text-align: right;\n",
       "    }\n",
       "</style>\n",
       "<table border=\"1\" class=\"dataframe\">\n",
       "  <thead>\n",
       "    <tr style=\"text-align: right;\">\n",
       "      <th></th>\n",
       "      <th>movieId</th>\n",
       "      <th>clean_genres</th>\n",
       "      <th>title_year</th>\n",
       "      <th>title_string</th>\n",
       "      <th>userId</th>\n",
       "      <th>tag</th>\n",
       "      <th>tag_year</th>\n",
       "      <th>tag_month</th>\n",
       "      <th>tag_day</th>\n",
       "      <th>title_cast</th>\n",
       "      <th>director</th>\n",
       "      <th>runtime</th>\n",
       "      <th>plot_keywords</th>\n",
       "      <th>cast_pairs</th>\n",
       "    </tr>\n",
       "  </thead>\n",
       "  <tbody>\n",
       "    <tr>\n",
       "      <th>0</th>\n",
       "      <td>1</td>\n",
       "      <td>Adventure Animation Children Comedy Fantasy</td>\n",
       "      <td>1995.0</td>\n",
       "      <td>Toy Story</td>\n",
       "      <td>791.0</td>\n",
       "      <td>Owned</td>\n",
       "      <td>2018.0</td>\n",
       "      <td>1.0</td>\n",
       "      <td>5.0</td>\n",
       "      <td>Tom Hanks|Tim Allen|Don Rickles|Jim Varney|Wal...</td>\n",
       "      <td>John Lasseter</td>\n",
       "      <td>81.0</td>\n",
       "      <td>cgi animation,cowboy,rivalry,toy</td>\n",
       "      <td>Annie Potts,Don Rickles,Erik von Detten,Jack A...</td>\n",
       "    </tr>\n",
       "    <tr>\n",
       "      <th>1</th>\n",
       "      <td>1</td>\n",
       "      <td>Adventure Animation Children Comedy Fantasy</td>\n",
       "      <td>1995.0</td>\n",
       "      <td>Toy Story</td>\n",
       "      <td>1048.0</td>\n",
       "      <td>imdb top 250</td>\n",
       "      <td>2007.0</td>\n",
       "      <td>2.0</td>\n",
       "      <td>22.0</td>\n",
       "      <td>Tom Hanks|Tim Allen|Don Rickles|Jim Varney|Wal...</td>\n",
       "      <td>John Lasseter</td>\n",
       "      <td>81.0</td>\n",
       "      <td>cgi animation,cowboy,rivalry,toy</td>\n",
       "      <td>Annie Potts,Don Rickles,Erik von Detten,Jack A...</td>\n",
       "    </tr>\n",
       "    <tr>\n",
       "      <th>2</th>\n",
       "      <td>1</td>\n",
       "      <td>Adventure Animation Children Comedy Fantasy</td>\n",
       "      <td>1995.0</td>\n",
       "      <td>Toy Story</td>\n",
       "      <td>1361.0</td>\n",
       "      <td>Pixar</td>\n",
       "      <td>2008.0</td>\n",
       "      <td>7.0</td>\n",
       "      <td>15.0</td>\n",
       "      <td>Tom Hanks|Tim Allen|Don Rickles|Jim Varney|Wal...</td>\n",
       "      <td>John Lasseter</td>\n",
       "      <td>81.0</td>\n",
       "      <td>cgi animation,cowboy,rivalry,toy</td>\n",
       "      <td>Annie Potts,Don Rickles,Erik von Detten,Jack A...</td>\n",
       "    </tr>\n",
       "    <tr>\n",
       "      <th>3</th>\n",
       "      <td>1</td>\n",
       "      <td>Adventure Animation Children Comedy Fantasy</td>\n",
       "      <td>1995.0</td>\n",
       "      <td>Toy Story</td>\n",
       "      <td>3164.0</td>\n",
       "      <td>Pixar</td>\n",
       "      <td>2008.0</td>\n",
       "      <td>10.0</td>\n",
       "      <td>6.0</td>\n",
       "      <td>Tom Hanks|Tim Allen|Don Rickles|Jim Varney|Wal...</td>\n",
       "      <td>John Lasseter</td>\n",
       "      <td>81.0</td>\n",
       "      <td>cgi animation,cowboy,rivalry,toy</td>\n",
       "      <td>Annie Potts,Don Rickles,Erik von Detten,Jack A...</td>\n",
       "    </tr>\n",
       "    <tr>\n",
       "      <th>4</th>\n",
       "      <td>1</td>\n",
       "      <td>Adventure Animation Children Comedy Fantasy</td>\n",
       "      <td>1995.0</td>\n",
       "      <td>Toy Story</td>\n",
       "      <td>3164.0</td>\n",
       "      <td>time travel</td>\n",
       "      <td>2008.0</td>\n",
       "      <td>10.0</td>\n",
       "      <td>6.0</td>\n",
       "      <td>Tom Hanks|Tim Allen|Don Rickles|Jim Varney|Wal...</td>\n",
       "      <td>John Lasseter</td>\n",
       "      <td>81.0</td>\n",
       "      <td>cgi animation,cowboy,rivalry,toy</td>\n",
       "      <td>Annie Potts,Don Rickles,Erik von Detten,Jack A...</td>\n",
       "    </tr>\n",
       "  </tbody>\n",
       "</table>\n",
       "</div>"
      ],
      "text/plain": [
       "   movieId                                 clean_genres  title_year  \\\n",
       "0        1  Adventure Animation Children Comedy Fantasy      1995.0   \n",
       "1        1  Adventure Animation Children Comedy Fantasy      1995.0   \n",
       "2        1  Adventure Animation Children Comedy Fantasy      1995.0   \n",
       "3        1  Adventure Animation Children Comedy Fantasy      1995.0   \n",
       "4        1  Adventure Animation Children Comedy Fantasy      1995.0   \n",
       "\n",
       "  title_string  userId           tag  tag_year  tag_month  tag_day  \\\n",
       "0   Toy Story    791.0         Owned    2018.0        1.0      5.0   \n",
       "1   Toy Story   1048.0  imdb top 250    2007.0        2.0     22.0   \n",
       "2   Toy Story   1361.0         Pixar    2008.0        7.0     15.0   \n",
       "3   Toy Story   3164.0         Pixar    2008.0       10.0      6.0   \n",
       "4   Toy Story   3164.0   time travel    2008.0       10.0      6.0   \n",
       "\n",
       "                                          title_cast       director  runtime  \\\n",
       "0  Tom Hanks|Tim Allen|Don Rickles|Jim Varney|Wal...  John Lasseter     81.0   \n",
       "1  Tom Hanks|Tim Allen|Don Rickles|Jim Varney|Wal...  John Lasseter     81.0   \n",
       "2  Tom Hanks|Tim Allen|Don Rickles|Jim Varney|Wal...  John Lasseter     81.0   \n",
       "3  Tom Hanks|Tim Allen|Don Rickles|Jim Varney|Wal...  John Lasseter     81.0   \n",
       "4  Tom Hanks|Tim Allen|Don Rickles|Jim Varney|Wal...  John Lasseter     81.0   \n",
       "\n",
       "                      plot_keywords  \\\n",
       "0  cgi animation,cowboy,rivalry,toy   \n",
       "1  cgi animation,cowboy,rivalry,toy   \n",
       "2  cgi animation,cowboy,rivalry,toy   \n",
       "3  cgi animation,cowboy,rivalry,toy   \n",
       "4  cgi animation,cowboy,rivalry,toy   \n",
       "\n",
       "                                          cast_pairs  \n",
       "0  Annie Potts,Don Rickles,Erik von Detten,Jack A...  \n",
       "1  Annie Potts,Don Rickles,Erik von Detten,Jack A...  \n",
       "2  Annie Potts,Don Rickles,Erik von Detten,Jack A...  \n",
       "3  Annie Potts,Don Rickles,Erik von Detten,Jack A...  \n",
       "4  Annie Potts,Don Rickles,Erik von Detten,Jack A...  "
      ]
     },
     "execution_count": 60,
     "metadata": {},
     "output_type": "execute_result"
    }
   ],
   "source": [
    "#merging movies and links data\n",
    "df_merge_movie_tags_imdb=pd.merge(df_movies_tags, df_imdb_clean_final, on='movieId', how='left')\n",
    "df_merge_movie_tags_imdb.head()"
   ]
  },
  {
   "cell_type": "code",
   "execution_count": 61,
   "metadata": {},
   "outputs": [],
   "source": [
    "# Joining the names in the 'cast_pairs' column by hyphen\n",
    "#df_imdb_clean1['cast_pairs_hyphen'] = df_imdb_clean1['cast_pairs'].apply(lambda x: '-'.join(sorted(x.split(' '))))\n",
    "#df_imdb_clean1=df_imdb_clean1.drop(['title_cast','cast_pairs'], axis = 1)\n",
    "#df_imdb_clean1.head()"
   ]
  },
  {
   "cell_type": "code",
   "execution_count": null,
   "metadata": {},
   "outputs": [],
   "source": []
  },
  {
   "cell_type": "code",
   "execution_count": 62,
   "metadata": {},
   "outputs": [],
   "source": [
    "#performing natural languange processing for title string to create plot keywords for the null values \n",
    "import nltk\n",
    "#from nltk.tokenize import word_tokenize\n",
    "#from nltk.corpus import stopwords\n",
    "#from nltk.stem import PorterStemmer\n",
    "#from nltk.probability import FreqDist"
   ]
  },
  {
   "cell_type": "markdown",
   "metadata": {
    "id": "81132ab3"
   },
   "source": [
    "<a id=\"three\"></a>\n",
    "## 6. Exploratory Data Analysis (EDA)\n",
    "<a class=\"anchor\" id=\"1.1\"></a>\n",
    "<a href=#cont>Back to Table of Contents</a>\n",
    "\n",
    "\n",
    "    \n",
    " ⚡ Description: Exploratory data analysis ⚡ \n",
    "\n",
    "This is section where we will investigate data in details on all merged dataframes. here we will work with `df_merge_all` dataframe  \n"
   ]
  },
  {
   "cell_type": "markdown",
   "metadata": {},
   "source": [
    "###  Non graphical Statistics "
   ]
  },
  {
   "cell_type": "code",
   "execution_count": 63,
   "metadata": {
    "ExecuteTime": {
     "end_time": "2021-06-28T08:52:37.824204Z",
     "start_time": "2021-06-28T08:52:37.811206Z"
    },
    "id": "e805134e"
   },
   "outputs": [],
   "source": [
    "# look at data statistics\n",
    "\n",
    "#df_rating_mean=df_merge_movie_tags_imdb.rating.mean()\n",
    "#df_rating_mean"
   ]
  },
  {
   "cell_type": "code",
   "execution_count": 64,
   "metadata": {},
   "outputs": [
    {
     "data": {
      "text/plain": [
       "115.23376814142925"
      ]
     },
     "execution_count": 64,
     "metadata": {},
     "output_type": "execute_result"
    }
   ],
   "source": [
    "# avg runtime\n",
    "df_runtime_mean=df_merge_movie_tags_imdb.runtime.mean()\n",
    "df_runtime_mean"
   ]
  },
  {
   "cell_type": "code",
   "execution_count": 65,
   "metadata": {},
   "outputs": [],
   "source": [
    "# avg relevance\n",
    "#df_relevance_mean=df_merge_movie_tags_imdb.relevance.mean()\n",
    "#df_relevance_mean"
   ]
  },
  {
   "cell_type": "markdown",
   "metadata": {},
   "source": [
    "### Graphical  Exploratory Data Analysis "
   ]
  },
  {
   "cell_type": "code",
   "execution_count": 66,
   "metadata": {},
   "outputs": [],
   "source": [
    "import pandas as pd\n",
    "import re\n",
    "from nltk.tokenize import word_tokenize\n",
    "from sklearn.feature_extraction.text import TfidfVectorizer\n",
    "from wordcloud import WordCloud\n",
    "from collections import Counter\n",
    "import seaborn as sns"
   ]
  },
  {
   "cell_type": "code",
   "execution_count": 67,
   "metadata": {
    "id": "6dd6ee8c"
   },
   "outputs": [],
   "source": [
    "# plot relevant feature interactions\n",
    "#words = []\n",
    "#for i in df_merge_movie_tags_imdb.clean_genres:\n",
    "    #words.extend(word_tokenize(i))\n",
    "    \n",
    "#wordcloud = WordCloud(width=800, height=400).generate_from_frequencies(frequencies = Counter(words))\n",
    "#plt.figure(figsize=(15,10))\n",
    "#plt.imshow(wordcloud, interpolation='bilinear')\n",
    "#plt.axis(\"off\")"
   ]
  },
  {
   "cell_type": "markdown",
   "metadata": {},
   "source": [
    "Here we will look at the distribution of the features in out data set"
   ]
  },
  {
   "cell_type": "markdown",
   "metadata": {},
   "source": [
    "### **Working with the Directors column**\n",
    "\n",
    "Let’s plot top 20  Directors with most number of  movies"
   ]
  },
  {
   "cell_type": "code",
   "execution_count": 68,
   "metadata": {},
   "outputs": [
    {
     "name": "stderr",
     "output_type": "stream",
     "text": [
      "C:\\Users\\hp\\AppData\\Local\\Temp\\ipykernel_11000\\1892729556.py:5: SettingWithCopyWarning: \n",
      "A value is trying to be set on a copy of a slice from a DataFrame.\n",
      "Try using .loc[row_indexer,col_indexer] = value instead\n",
      "\n",
      "See the caveats in the documentation: https://pandas.pydata.org/pandas-docs/stable/user_guide/indexing.html#returning-a-view-versus-a-copy\n",
      "  df_imdb_clean_final['director'] = df_imdb_clean_final['director'].apply(xstr)\n"
     ]
    },
    {
     "data": {
      "image/png": "[encoded data removed]",
      "text/plain": [
       "<Figure size 1200x1000 with 1 Axes>"
      ]
     },
     "metadata": {},
     "output_type": "display_data"
    }
   ],
   "source": [
    "def xstr(s):\n",
    "    if s is None:\n",
    "        return ''\n",
    "    return str(s)\n",
    "df_imdb_clean_final['director'] = df_imdb_clean_final['director'].apply(xstr)\n",
    "plt.subplots(figsize=(12,10))\n",
    "ax = df_imdb_clean_final[df_imdb_clean_final['director']!=''].director.value_counts()[:20].sort_values(ascending=True).plot.barh(width=0.9,color=sns.color_palette('muted',40))\n",
    "for i, v in enumerate(df_imdb_clean_final[df_imdb_clean_final['director']!=''].director.value_counts()[:20].sort_values(ascending=True).values): \n",
    "    ax.text(.5, i, v,fontsize=12,color='white',weight='bold')\n",
    "plt.title('Directors with highest movies')\n",
    "plt.show()"
   ]
  },
  {
   "cell_type": "code",
   "execution_count": 69,
   "metadata": {},
   "outputs": [
    {
     "data": {
      "text/html": [
       "<div>\n",
       "<style scoped>\n",
       "    .dataframe tbody tr th:only-of-type {\n",
       "        vertical-align: middle;\n",
       "    }\n",
       "\n",
       "    .dataframe tbody tr th {\n",
       "        vertical-align: top;\n",
       "    }\n",
       "\n",
       "    .dataframe thead th {\n",
       "        text-align: right;\n",
       "    }\n",
       "</style>\n",
       "<table border=\"1\" class=\"dataframe\">\n",
       "  <thead>\n",
       "    <tr style=\"text-align: right;\">\n",
       "      <th></th>\n",
       "      <th>movieId</th>\n",
       "      <th>clean_genres</th>\n",
       "      <th>title_year</th>\n",
       "      <th>title_string</th>\n",
       "      <th>userId</th>\n",
       "      <th>tag</th>\n",
       "      <th>tag_year</th>\n",
       "      <th>tag_month</th>\n",
       "      <th>tag_day</th>\n",
       "      <th>title_cast</th>\n",
       "      <th>director</th>\n",
       "      <th>runtime</th>\n",
       "      <th>plot_keywords</th>\n",
       "      <th>cast_pairs</th>\n",
       "    </tr>\n",
       "  </thead>\n",
       "  <tbody>\n",
       "    <tr>\n",
       "      <th>0</th>\n",
       "      <td>1</td>\n",
       "      <td>Adventure Animation Children Comedy Fantasy</td>\n",
       "      <td>1995.0</td>\n",
       "      <td>Toy Story</td>\n",
       "      <td>791.0</td>\n",
       "      <td>Owned</td>\n",
       "      <td>2018.0</td>\n",
       "      <td>1.0</td>\n",
       "      <td>5.0</td>\n",
       "      <td>Tom Hanks|Tim Allen|Don Rickles|Jim Varney|Wal...</td>\n",
       "      <td>John Lasseter</td>\n",
       "      <td>81.0</td>\n",
       "      <td>cgi animation,cowboy,rivalry,toy</td>\n",
       "      <td>Annie Potts,Don Rickles,Erik von Detten,Jack A...</td>\n",
       "    </tr>\n",
       "  </tbody>\n",
       "</table>\n",
       "</div>"
      ],
      "text/plain": [
       "   movieId                                 clean_genres  title_year  \\\n",
       "0        1  Adventure Animation Children Comedy Fantasy      1995.0   \n",
       "\n",
       "  title_string  userId    tag  tag_year  tag_month  tag_day  \\\n",
       "0   Toy Story    791.0  Owned    2018.0        1.0      5.0   \n",
       "\n",
       "                                          title_cast       director  runtime  \\\n",
       "0  Tom Hanks|Tim Allen|Don Rickles|Jim Varney|Wal...  John Lasseter     81.0   \n",
       "\n",
       "                      plot_keywords  \\\n",
       "0  cgi animation,cowboy,rivalry,toy   \n",
       "\n",
       "                                          cast_pairs  \n",
       "0  Annie Potts,Don Rickles,Erik von Detten,Jack A...  "
      ]
     },
     "execution_count": 69,
     "metadata": {},
     "output_type": "execute_result"
    }
   ],
   "source": [
    "df_merge_movie_tags_imdb.head(1)"
   ]
  },
  {
   "cell_type": "code",
   "execution_count": 70,
   "metadata": {},
   "outputs": [
    {
     "data": {
      "text/html": [
       "<div>\n",
       "<style scoped>\n",
       "    .dataframe tbody tr th:only-of-type {\n",
       "        vertical-align: middle;\n",
       "    }\n",
       "\n",
       "    .dataframe tbody tr th {\n",
       "        vertical-align: top;\n",
       "    }\n",
       "\n",
       "    .dataframe thead th {\n",
       "        text-align: right;\n",
       "    }\n",
       "</style>\n",
       "<table border=\"1\" class=\"dataframe\">\n",
       "  <thead>\n",
       "    <tr style=\"text-align: right;\">\n",
       "      <th></th>\n",
       "      <th>userId</th>\n",
       "      <th>movieId</th>\n",
       "      <th>rating</th>\n",
       "      <th>train_year</th>\n",
       "      <th>train_month</th>\n",
       "      <th>train_day</th>\n",
       "    </tr>\n",
       "  </thead>\n",
       "  <tbody>\n",
       "    <tr>\n",
       "      <th>0</th>\n",
       "      <td>5163</td>\n",
       "      <td>57669</td>\n",
       "      <td>4.0</td>\n",
       "      <td>2018</td>\n",
       "      <td>2</td>\n",
       "      <td>11</td>\n",
       "    </tr>\n",
       "  </tbody>\n",
       "</table>\n",
       "</div>"
      ],
      "text/plain": [
       "   userId  movieId  rating  train_year  train_month  train_day\n",
       "0    5163    57669     4.0        2018            2         11"
      ]
     },
     "execution_count": 70,
     "metadata": {},
     "output_type": "execute_result"
    }
   ],
   "source": [
    "df_train_clean.head(1)"
   ]
  },
  {
   "cell_type": "markdown",
   "metadata": {},
   "source": [
    "### Working with rating in train data\n",
    "\n",
    "Here we will be looking at the most popular directors in terms of movie production "
   ]
  },
  {
   "cell_type": "code",
   "execution_count": 101,
   "metadata": {},
   "outputs": [
    {
     "name": "stderr",
     "output_type": "stream",
     "text": [
      "C:\\Users\\hp\\anaconda3\\Lib\\site-packages\\seaborn\\_oldcore.py:1498: FutureWarning: is_categorical_dtype is deprecated and will be removed in a future version. Use isinstance(dtype, CategoricalDtype) instead\n",
      "  if pd.api.types.is_categorical_dtype(vector):\n",
      "C:\\Users\\hp\\anaconda3\\Lib\\site-packages\\seaborn\\_oldcore.py:1498: FutureWarning: is_categorical_dtype is deprecated and will be removed in a future version. Use isinstance(dtype, CategoricalDtype) instead\n",
      "  if pd.api.types.is_categorical_dtype(vector):\n",
      "C:\\Users\\hp\\anaconda3\\Lib\\site-packages\\seaborn\\_oldcore.py:1498: FutureWarning: is_categorical_dtype is deprecated and will be removed in a future version. Use isinstance(dtype, CategoricalDtype) instead\n",
      "  if pd.api.types.is_categorical_dtype(vector):\n"
     ]
    },
    {
     "data": {
      "image/png": "[encoded data removed]",
      "text/plain": [
       "<Figure size 2000x1000 with 1 Axes>"
      ]
     },
     "metadata": {},
     "output_type": "display_data"
    }
   ],
   "source": [
    "# Plotting the graph\n",
    "fig, ax = plt.subplots(figsize=(20, 10)) # Initialize the plot with set figure size\n",
    "\n",
    "sns.countplot(ax=ax, x='rating', data=df_train_clean) # Create a countplot to visualise the number of movies per category\n",
    "ax.set_title(\"The number of movies for each ratings\", size=25)\n",
    "plt.ticklabel_format(style='plain', axis='y', useOffset=False ) # Set the tick labels to appear in non-scientific form\n",
    "\n",
    "# Make the counts appear on the different\n",
    "for p in ax.patches:\n",
    "    ax.annotate('{:.1f}'.format(p.get_height()), (p.get_x()+0.1, p.get_height()+50))\n",
    "    \n",
    "# Show the countplot\n",
    "plt.xlabel('Rating', size=20)\n",
    "plt.ylabel('No. of movies ', size=20)\n",
    "#plt.title('Top 10 average rating per year', size=25)\n",
    "plt.show()"
   ]
  },
  {
   "cell_type": "markdown",
   "metadata": {},
   "source": [
    "### working with rating of the movies in our train dataset\n",
    "\n",
    "Here we ere looking at yearly,monthly and daily rating for the data set"
   ]
  },
  {
   "cell_type": "markdown",
   "metadata": {},
   "source": [
    "Here we are looking at monthly rating"
   ]
  },
  {
   "cell_type": "code",
   "execution_count": 102,
   "metadata": {},
   "outputs": [
    {
     "name": "stderr",
     "output_type": "stream",
     "text": [
      "C:\\Users\\hp\\anaconda3\\Lib\\site-packages\\seaborn\\_oldcore.py:1498: FutureWarning: is_categorical_dtype is deprecated and will be removed in a future version. Use isinstance(dtype, CategoricalDtype) instead\n",
      "  if pd.api.types.is_categorical_dtype(vector):\n",
      "C:\\Users\\hp\\anaconda3\\Lib\\site-packages\\seaborn\\_oldcore.py:1498: FutureWarning: is_categorical_dtype is deprecated and will be removed in a future version. Use isinstance(dtype, CategoricalDtype) instead\n",
      "  if pd.api.types.is_categorical_dtype(vector):\n",
      "C:\\Users\\hp\\anaconda3\\Lib\\site-packages\\seaborn\\_oldcore.py:1498: FutureWarning: is_categorical_dtype is deprecated and will be removed in a future version. Use isinstance(dtype, CategoricalDtype) instead\n",
      "  if pd.api.types.is_categorical_dtype(vector):\n"
     ]
    },
    {
     "data": {
      "image/png": "[encoded data removed]",
      "text/plain": [
       "<Figure size 2000x2000 with 1 Axes>"
      ]
     },
     "metadata": {},
     "output_type": "display_data"
    }
   ],
   "source": [
    "# Ploting top genres in the Dataset\n",
    "plt.figure(figsize=(20, 20))\n",
    "# Create a barplot to visualise the trend for monthly movie rating\n",
    "sns.barplot( x='train_month',y = 'rating',data=df_train.head(10))\n",
    "plt.xlabel('moths of ratings', size=20)\n",
    "plt.ylabel('Rating ', size=20)\n",
    "plt.title('Top 10 average rating per month', size=25)\n",
    "plt.show()"
   ]
  },
  {
   "cell_type": "markdown",
   "metadata": {},
   "source": [
    "Here we are looking at yearly rating"
   ]
  },
  {
   "cell_type": "code",
   "execution_count": 103,
   "metadata": {},
   "outputs": [
    {
     "name": "stderr",
     "output_type": "stream",
     "text": [
      "C:\\Users\\hp\\anaconda3\\Lib\\site-packages\\seaborn\\_oldcore.py:1498: FutureWarning: is_categorical_dtype is deprecated and will be removed in a future version. Use isinstance(dtype, CategoricalDtype) instead\n",
      "  if pd.api.types.is_categorical_dtype(vector):\n",
      "C:\\Users\\hp\\anaconda3\\Lib\\site-packages\\seaborn\\_oldcore.py:1498: FutureWarning: is_categorical_dtype is deprecated and will be removed in a future version. Use isinstance(dtype, CategoricalDtype) instead\n",
      "  if pd.api.types.is_categorical_dtype(vector):\n",
      "C:\\Users\\hp\\anaconda3\\Lib\\site-packages\\seaborn\\_oldcore.py:1498: FutureWarning: is_categorical_dtype is deprecated and will be removed in a future version. Use isinstance(dtype, CategoricalDtype) instead\n",
      "  if pd.api.types.is_categorical_dtype(vector):\n"
     ]
    },
    {
     "data": {
      "image/png": "[encoded data removed]",
      "text/plain": [
       "<Figure size 2000x2000 with 1 Axes>"
      ]
     },
     "metadata": {},
     "output_type": "display_data"
    }
   ],
   "source": [
    "# Ploting top genres in the Dataset\n",
    "plt.figure(figsize=(20, 20))\n",
    "# Create a barplot to visualise the trend for monthly movie rating\n",
    "sns.barplot( x='train_year',y = 'rating',data=df_train.head(10))\n",
    "plt.xlabel('Years of ratings', size=20)\n",
    "plt.ylabel('Rating ', size=20)\n",
    "plt.title('Top 10 average rating per year', size=25)\n",
    "plt.show()"
   ]
  },
  {
   "cell_type": "markdown",
   "metadata": {},
   "source": [
    "Here we are looking at daily rating "
   ]
  },
  {
   "cell_type": "code",
   "execution_count": 104,
   "metadata": {},
   "outputs": [
    {
     "name": "stderr",
     "output_type": "stream",
     "text": [
      "C:\\Users\\hp\\anaconda3\\Lib\\site-packages\\seaborn\\_oldcore.py:1498: FutureWarning: is_categorical_dtype is deprecated and will be removed in a future version. Use isinstance(dtype, CategoricalDtype) instead\n",
      "  if pd.api.types.is_categorical_dtype(vector):\n",
      "C:\\Users\\hp\\anaconda3\\Lib\\site-packages\\seaborn\\_oldcore.py:1498: FutureWarning: is_categorical_dtype is deprecated and will be removed in a future version. Use isinstance(dtype, CategoricalDtype) instead\n",
      "  if pd.api.types.is_categorical_dtype(vector):\n",
      "C:\\Users\\hp\\anaconda3\\Lib\\site-packages\\seaborn\\_oldcore.py:1498: FutureWarning: is_categorical_dtype is deprecated and will be removed in a future version. Use isinstance(dtype, CategoricalDtype) instead\n",
      "  if pd.api.types.is_categorical_dtype(vector):\n"
     ]
    },
    {
     "data": {
      "image/png": "[encoded data removed]",
      "text/plain": [
       "<Figure size 2000x2000 with 1 Axes>"
      ]
     },
     "metadata": {},
     "output_type": "display_data"
    }
   ],
   "source": [
    "# Ploting top genres in the Dataset\n",
    "plt.figure(figsize=(20, 20))\n",
    "# Create a barplot to visualise the trend for monthly movie rating\n",
    "sns.barplot( x='train_day',y = 'rating',data=df_train.head(10))\n",
    "plt.xlabel('Days of ratings', size=20)\n",
    "plt.ylabel('Rating ', size=20)\n",
    "plt.title('Top average rating per day', size=25)\n",
    "plt.show()"
   ]
  },
  {
   "cell_type": "markdown",
   "metadata": {},
   "source": [
    "### Working with the plot keywords \n",
    "\n",
    "Here we are looking at the distribution of the most popular keywords used in the movie plot"
   ]
  },
  {
   "cell_type": "code",
   "execution_count": 85,
   "metadata": {},
   "outputs": [
    {
     "data": {
      "text/html": [
       "<div>\n",
       "<style scoped>\n",
       "    .dataframe tbody tr th:only-of-type {\n",
       "        vertical-align: middle;\n",
       "    }\n",
       "\n",
       "    .dataframe tbody tr th {\n",
       "        vertical-align: top;\n",
       "    }\n",
       "\n",
       "    .dataframe thead th {\n",
       "        text-align: right;\n",
       "    }\n",
       "</style>\n",
       "<table border=\"1\" class=\"dataframe\">\n",
       "  <thead>\n",
       "    <tr style=\"text-align: right;\">\n",
       "      <th></th>\n",
       "      <th>movieId</th>\n",
       "      <th>plot_keyword</th>\n",
       "    </tr>\n",
       "  </thead>\n",
       "  <tbody>\n",
       "    <tr>\n",
       "      <th>0</th>\n",
       "      <td>1</td>\n",
       "      <td>cgi animation,cowboy,rivalry,toy</td>\n",
       "    </tr>\n",
       "    <tr>\n",
       "      <th>1</th>\n",
       "      <td>2</td>\n",
       "      <td>adventurer,board game,fight,game</td>\n",
       "    </tr>\n",
       "    <tr>\n",
       "      <th>2</th>\n",
       "      <td>3</td>\n",
       "      <td>boat,lake,neighbor,rivalry</td>\n",
       "    </tr>\n",
       "    <tr>\n",
       "      <th>3</th>\n",
       "      <td>4</td>\n",
       "      <td>betrayal,black american,husband wife relations...</td>\n",
       "    </tr>\n",
       "    <tr>\n",
       "      <th>4</th>\n",
       "      <td>5</td>\n",
       "      <td>doberman,dog,fatherhood,mansion</td>\n",
       "    </tr>\n",
       "  </tbody>\n",
       "</table>\n",
       "</div>"
      ],
      "text/plain": [
       "   movieId                                       plot_keyword\n",
       "0        1                   cgi animation,cowboy,rivalry,toy\n",
       "1        2                   adventurer,board game,fight,game\n",
       "2        3                         boat,lake,neighbor,rivalry\n",
       "3        4  betrayal,black american,husband wife relations...\n",
       "4        5                    doberman,dog,fatherhood,mansion"
      ]
     },
     "execution_count": 85,
     "metadata": {},
     "output_type": "execute_result"
    }
   ],
   "source": [
    "# Get the categories of Movie Genre per movie ID.\n",
    "# Each Genre should stand unique to enable classification\n",
    "keyword = pd.DataFrame(df_imdb_clean_final['plot_keywords'].str.split(\"|\").tolist(),\n",
    "                      index=df_imdb_clean_final['movieId']).stack()\n",
    "keyword = keyword.reset_index([0, 'movieId'])\n",
    "keyword.columns = ['movieId', 'plot_keyword']\n",
    "keyword.head()"
   ]
  },
  {
   "cell_type": "code",
   "execution_count": 105,
   "metadata": {},
   "outputs": [
    {
     "name": "stderr",
     "output_type": "stream",
     "text": [
      "C:\\Users\\hp\\anaconda3\\Lib\\site-packages\\seaborn\\_oldcore.py:1498: FutureWarning: is_categorical_dtype is deprecated and will be removed in a future version. Use isinstance(dtype, CategoricalDtype) instead\n",
      "  if pd.api.types.is_categorical_dtype(vector):\n",
      "C:\\Users\\hp\\anaconda3\\Lib\\site-packages\\seaborn\\_oldcore.py:1498: FutureWarning: is_categorical_dtype is deprecated and will be removed in a future version. Use isinstance(dtype, CategoricalDtype) instead\n",
      "  if pd.api.types.is_categorical_dtype(vector):\n"
     ]
    },
    {
     "data": {
      "image/png": "[encoded data removed]",
      "text/plain": [
       "<Figure size 1400x700 with 1 Axes>"
      ]
     },
     "metadata": {},
     "output_type": "display_data"
    }
   ],
   "source": [
    "# Ploting top keywords in the Dataset\n",
    "fig, ax = plt.subplots(figsize=(14, 7))\n",
    "sns.countplot(x='plot_keyword', data=keyword, palette='colorblind',\n",
    "              order=keyword['plot_keyword'].value_counts().head(10).index)\n",
    "plt.xticks(rotation=90)\n",
    "plt.xlabel('popularity of keywords', size=20)\n",
    "plt.ylabel('Count', size=20)\n",
    "plt.title('Top 10 most popular plot keywords', size=25)\n",
    "plt.show()"
   ]
  },
  {
   "cell_type": "markdown",
   "metadata": {},
   "source": [
    "### Working with cast distribution \n",
    "\n",
    "Here we are looking at how many movies has actor partcipated in. IE how many mvoies have these poeple been involved in for the purspose of our analysis"
   ]
  },
  {
   "cell_type": "code",
   "execution_count": 76,
   "metadata": {},
   "outputs": [
    {
     "data": {
      "text/html": [
       "<div>\n",
       "<style scoped>\n",
       "    .dataframe tbody tr th:only-of-type {\n",
       "        vertical-align: middle;\n",
       "    }\n",
       "\n",
       "    .dataframe tbody tr th {\n",
       "        vertical-align: top;\n",
       "    }\n",
       "\n",
       "    .dataframe thead th {\n",
       "        text-align: right;\n",
       "    }\n",
       "</style>\n",
       "<table border=\"1\" class=\"dataframe\">\n",
       "  <thead>\n",
       "    <tr style=\"text-align: right;\">\n",
       "      <th></th>\n",
       "      <th>movieId</th>\n",
       "      <th>title_cast</th>\n",
       "      <th>director</th>\n",
       "      <th>runtime</th>\n",
       "      <th>plot_keywords</th>\n",
       "    </tr>\n",
       "  </thead>\n",
       "  <tbody>\n",
       "    <tr>\n",
       "      <th>0</th>\n",
       "      <td>1</td>\n",
       "      <td>Tom Hanks|Tim Allen|Don Rickles|Jim Varney|Wal...</td>\n",
       "      <td>John Lasseter</td>\n",
       "      <td>81.0</td>\n",
       "      <td>toy|rivalry|cowboy|cgi animation</td>\n",
       "    </tr>\n",
       "    <tr>\n",
       "      <th>1</th>\n",
       "      <td>2</td>\n",
       "      <td>Robin Williams|Jonathan Hyde|Kirsten Dunst|Bra...</td>\n",
       "      <td>Jonathan Hensleigh</td>\n",
       "      <td>104.0</td>\n",
       "      <td>board game|adventurer|fight|game</td>\n",
       "    </tr>\n",
       "    <tr>\n",
       "      <th>2</th>\n",
       "      <td>3</td>\n",
       "      <td>Walter Matthau|Jack Lemmon|Sophia Loren|Ann-Ma...</td>\n",
       "      <td>Mark Steven Johnson</td>\n",
       "      <td>101.0</td>\n",
       "      <td>boat|lake|neighbor|rivalry</td>\n",
       "    </tr>\n",
       "    <tr>\n",
       "      <th>3</th>\n",
       "      <td>4</td>\n",
       "      <td>Whitney Houston|Angela Bassett|Loretta Devine|...</td>\n",
       "      <td>Terry McMillan</td>\n",
       "      <td>124.0</td>\n",
       "      <td>black american|husband wife relationship|betra...</td>\n",
       "    </tr>\n",
       "    <tr>\n",
       "      <th>4</th>\n",
       "      <td>5</td>\n",
       "      <td>Steve Martin|Diane Keaton|Martin Short|Kimberl...</td>\n",
       "      <td>Albert Hackett</td>\n",
       "      <td>106.0</td>\n",
       "      <td>fatherhood|doberman|dog|mansion</td>\n",
       "    </tr>\n",
       "  </tbody>\n",
       "</table>\n",
       "</div>"
      ],
      "text/plain": [
       "   movieId                                         title_cast  \\\n",
       "0        1  Tom Hanks|Tim Allen|Don Rickles|Jim Varney|Wal...   \n",
       "1        2  Robin Williams|Jonathan Hyde|Kirsten Dunst|Bra...   \n",
       "2        3  Walter Matthau|Jack Lemmon|Sophia Loren|Ann-Ma...   \n",
       "3        4  Whitney Houston|Angela Bassett|Loretta Devine|...   \n",
       "4        5  Steve Martin|Diane Keaton|Martin Short|Kimberl...   \n",
       "\n",
       "              director  runtime  \\\n",
       "0        John Lasseter     81.0   \n",
       "1   Jonathan Hensleigh    104.0   \n",
       "2  Mark Steven Johnson    101.0   \n",
       "3       Terry McMillan    124.0   \n",
       "4       Albert Hackett    106.0   \n",
       "\n",
       "                                       plot_keywords  \n",
       "0                   toy|rivalry|cowboy|cgi animation  \n",
       "1                   board game|adventurer|fight|game  \n",
       "2                         boat|lake|neighbor|rivalry  \n",
       "3  black american|husband wife relationship|betra...  \n",
       "4                    fatherhood|doberman|dog|mansion  "
      ]
     },
     "execution_count": 76,
     "metadata": {},
     "output_type": "execute_result"
    }
   ],
   "source": [
    "df_imdb_clean.head()"
   ]
  },
  {
   "cell_type": "code",
   "execution_count": 106,
   "metadata": {},
   "outputs": [
    {
     "data": {
      "text/html": [
       "<div>\n",
       "<style scoped>\n",
       "    .dataframe tbody tr th:only-of-type {\n",
       "        vertical-align: middle;\n",
       "    }\n",
       "\n",
       "    .dataframe tbody tr th {\n",
       "        vertical-align: top;\n",
       "    }\n",
       "\n",
       "    .dataframe thead th {\n",
       "        text-align: right;\n",
       "    }\n",
       "</style>\n",
       "<table border=\"1\" class=\"dataframe\">\n",
       "  <thead>\n",
       "    <tr style=\"text-align: right;\">\n",
       "      <th></th>\n",
       "      <th>movieId</th>\n",
       "      <th>title_cast</th>\n",
       "    </tr>\n",
       "  </thead>\n",
       "  <tbody>\n",
       "    <tr>\n",
       "      <th>0</th>\n",
       "      <td>1</td>\n",
       "      <td>Tom Hanks</td>\n",
       "    </tr>\n",
       "    <tr>\n",
       "      <th>1</th>\n",
       "      <td>1</td>\n",
       "      <td>Tim Allen</td>\n",
       "    </tr>\n",
       "    <tr>\n",
       "      <th>2</th>\n",
       "      <td>1</td>\n",
       "      <td>Don Rickles</td>\n",
       "    </tr>\n",
       "    <tr>\n",
       "      <th>3</th>\n",
       "      <td>1</td>\n",
       "      <td>Jim Varney</td>\n",
       "    </tr>\n",
       "    <tr>\n",
       "      <th>4</th>\n",
       "      <td>1</td>\n",
       "      <td>Wallace Shawn</td>\n",
       "    </tr>\n",
       "  </tbody>\n",
       "</table>\n",
       "</div>"
      ],
      "text/plain": [
       "   movieId     title_cast\n",
       "0        1      Tom Hanks\n",
       "1        1      Tim Allen\n",
       "2        1    Don Rickles\n",
       "3        1     Jim Varney\n",
       "4        1  Wallace Shawn"
      ]
     },
     "execution_count": 106,
     "metadata": {},
     "output_type": "execute_result"
    }
   ],
   "source": [
    "# Get the categories of Movie Genre per movie ID.\n",
    "# Each Genre should stand unique to enable classification\n",
    "cast = pd.DataFrame(df_imdb_clean['title_cast'].str.split(\"|\").tolist(),\n",
    "                      index=df_imdb_clean['movieId']).stack()\n",
    "cast = cast.reset_index([0, 'movieId'])\n",
    "cast.columns = ['movieId', 'title_cast']\n",
    "cast.head()"
   ]
  },
  {
   "cell_type": "code",
   "execution_count": 107,
   "metadata": {},
   "outputs": [
    {
     "name": "stderr",
     "output_type": "stream",
     "text": [
      "C:\\Users\\hp\\anaconda3\\Lib\\site-packages\\seaborn\\_oldcore.py:1498: FutureWarning: is_categorical_dtype is deprecated and will be removed in a future version. Use isinstance(dtype, CategoricalDtype) instead\n",
      "  if pd.api.types.is_categorical_dtype(vector):\n",
      "C:\\Users\\hp\\anaconda3\\Lib\\site-packages\\seaborn\\_oldcore.py:1498: FutureWarning: is_categorical_dtype is deprecated and will be removed in a future version. Use isinstance(dtype, CategoricalDtype) instead\n",
      "  if pd.api.types.is_categorical_dtype(vector):\n"
     ]
    },
    {
     "data": {
      "image/png": "[encoded data removed]",
      "text/plain": [
       "<Figure size 1400x700 with 1 Axes>"
      ]
     },
     "metadata": {},
     "output_type": "display_data"
    }
   ],
   "source": [
    "\n",
    "\n",
    "fig, ax = plt.subplots(figsize=(14, 7))\n",
    "sns.countplot(x='title_cast', data=cast, palette='colorblind',\n",
    "              order=cast['title_cast'].value_counts().head(10).index)\n",
    "plt.xticks(rotation=90)\n",
    "plt.xlabel('popularity of actors', size=20)\n",
    "plt.ylabel('Count', size=20)\n",
    "plt.title('Top 10 most popular Movie actors', size=25)\n",
    "plt.show()"
   ]
  },
  {
   "cell_type": "markdown",
   "metadata": {},
   "source": [
    "### working with genres \n",
    "\n",
    "Here we are further investigating the distribution of genre movies in our movie data set"
   ]
  },
  {
   "cell_type": "code",
   "execution_count": 108,
   "metadata": {},
   "outputs": [
    {
     "data": {
      "text/html": [
       "<div>\n",
       "<style scoped>\n",
       "    .dataframe tbody tr th:only-of-type {\n",
       "        vertical-align: middle;\n",
       "    }\n",
       "\n",
       "    .dataframe tbody tr th {\n",
       "        vertical-align: top;\n",
       "    }\n",
       "\n",
       "    .dataframe thead th {\n",
       "        text-align: right;\n",
       "    }\n",
       "</style>\n",
       "<table border=\"1\" class=\"dataframe\">\n",
       "  <thead>\n",
       "    <tr style=\"text-align: right;\">\n",
       "      <th></th>\n",
       "      <th>movieId</th>\n",
       "      <th>genre</th>\n",
       "    </tr>\n",
       "  </thead>\n",
       "  <tbody>\n",
       "    <tr>\n",
       "      <th>0</th>\n",
       "      <td>1</td>\n",
       "      <td>Adventure</td>\n",
       "    </tr>\n",
       "    <tr>\n",
       "      <th>1</th>\n",
       "      <td>1</td>\n",
       "      <td>Animation</td>\n",
       "    </tr>\n",
       "    <tr>\n",
       "      <th>2</th>\n",
       "      <td>1</td>\n",
       "      <td>Children</td>\n",
       "    </tr>\n",
       "    <tr>\n",
       "      <th>3</th>\n",
       "      <td>1</td>\n",
       "      <td>Comedy</td>\n",
       "    </tr>\n",
       "    <tr>\n",
       "      <th>4</th>\n",
       "      <td>1</td>\n",
       "      <td>Fantasy</td>\n",
       "    </tr>\n",
       "  </tbody>\n",
       "</table>\n",
       "</div>"
      ],
      "text/plain": [
       "   movieId      genre\n",
       "0        1  Adventure\n",
       "1        1  Animation\n",
       "2        1   Children\n",
       "3        1     Comedy\n",
       "4        1    Fantasy"
      ]
     },
     "execution_count": 108,
     "metadata": {},
     "output_type": "execute_result"
    }
   ],
   "source": [
    "# Get the categories of Movie Genre per movie ID.\n",
    "# Each Genre should stand unique to enable classification\n",
    "genres = pd.DataFrame(df_movies['genres'].str.split(\"|\").tolist(),\n",
    "                      index=df_movies['movieId']).stack()\n",
    "genres = genres.reset_index([0, 'movieId'])\n",
    "genres.columns = ['movieId', 'genre']\n",
    "genres.head()"
   ]
  },
  {
   "cell_type": "code",
   "execution_count": 123,
   "metadata": {},
   "outputs": [
    {
     "name": "stderr",
     "output_type": "stream",
     "text": [
      "C:\\Users\\hp\\anaconda3\\Lib\\site-packages\\seaborn\\_oldcore.py:1498: FutureWarning: is_categorical_dtype is deprecated and will be removed in a future version. Use isinstance(dtype, CategoricalDtype) instead\n",
      "  if pd.api.types.is_categorical_dtype(vector):\n",
      "C:\\Users\\hp\\anaconda3\\Lib\\site-packages\\seaborn\\_oldcore.py:1498: FutureWarning: is_categorical_dtype is deprecated and will be removed in a future version. Use isinstance(dtype, CategoricalDtype) instead\n",
      "  if pd.api.types.is_categorical_dtype(vector):\n"
     ]
    },
    {
     "data": {
      "image/png": "[encoded data removed]",
      "text/plain": [
       "<Figure size 1400x700 with 1 Axes>"
      ]
     },
     "metadata": {},
     "output_type": "display_data"
    }
   ],
   "source": [
    "\n",
    "\n",
    "fig, ax = plt.subplots(figsize=(14, 7))\n",
    "sns.countplot(x='genre', data=genres, palette='colorblind',\n",
    "              order=genres['genre'].value_counts().index)\n",
    "plt.xticks(rotation=90)\n",
    "plt.xlabel('popularity of genre', size=20)\n",
    "plt.ylabel('Count', size=20)\n",
    "plt.title('Distribution of Movie Genres', size=25)\n",
    "plt.show()"
   ]
  },
  {
   "cell_type": "code",
   "execution_count": 109,
   "metadata": {},
   "outputs": [
    {
     "data": {
      "image/png": "[encoded data removed]",
      "text/plain": [
       "<Figure size 1400x700 with 1 Axes>"
      ]
     },
     "metadata": {},
     "output_type": "display_data"
    }
   ],
   "source": [
    "#fig = go.Figure(data=[go.Histogram(x=df_merge_all['runtime'])])\n",
    "# have a look at feature distributions\n",
    "# Create a histogram\n",
    "#fig = px.histogram(df_merge_all.runtime, x=\"runtime\",title=\"Runtime distribution\")\n",
    "#fig.show()\n",
    "plt.figure(figsize=(14,7))\n",
    "plt.hist(df_imdb_clean_final.runtime, bins=20)\n",
    "# Adding a title and labels to the histogram\n",
    "plt.title(\"Runtime distribution\",size=25)\n",
    "plt.xlabel(\"Runtime\")\n",
    "plt.ylabel(\"Count\")\n",
    "# Showing the histogram\n",
    "plt.show()"
   ]
  },
  {
   "cell_type": "code",
   "execution_count": 110,
   "metadata": {},
   "outputs": [
    {
     "data": {
      "image/png": "[encoded data removed]",
      "text/plain": [
       "<Figure size 1400x700 with 1 Axes>"
      ]
     },
     "metadata": {},
     "output_type": "display_data"
    }
   ],
   "source": [
    "plt.figure(figsize=(14,7))\n",
    "plt.hist(df_genome_scores.relevance, bins=30)\n",
    "# Adding a title and labels to the histogram\n",
    "plt.title(\"Relevance distribution\",size=25)\n",
    "plt.xlabel(\"Relevance\")\n",
    "plt.ylabel(\"Count\")\n",
    "# Showing the histogram\n",
    "plt.show()"
   ]
  },
  {
   "cell_type": "code",
   "execution_count": 120,
   "metadata": {},
   "outputs": [
    {
     "name": "stderr",
     "output_type": "stream",
     "text": [
      "C:\\Users\\hp\\anaconda3\\Lib\\site-packages\\seaborn\\_oldcore.py:1498: FutureWarning: is_categorical_dtype is deprecated and will be removed in a future version. Use isinstance(dtype, CategoricalDtype) instead\n",
      "  if pd.api.types.is_categorical_dtype(vector):\n",
      "C:\\Users\\hp\\anaconda3\\Lib\\site-packages\\seaborn\\_oldcore.py:1498: FutureWarning: is_categorical_dtype is deprecated and will be removed in a future version. Use isinstance(dtype, CategoricalDtype) instead\n",
      "  if pd.api.types.is_categorical_dtype(vector):\n"
     ]
    },
    {
     "data": {
      "image/png": "[encoded data removed]",
      "text/plain": [
       "<Figure size 1400x700 with 1 Axes>"
      ]
     },
     "metadata": {},
     "output_type": "display_data"
    }
   ],
   "source": [
    "\n",
    "\n",
    "\n",
    "\n",
    "fig, ax = plt.subplots(figsize=(14, 7))\n",
    "sns.countplot(x='title', data=df_movies, palette='colorblind',\n",
    "              order=df_movies['title'].value_counts().head(10).index)\n",
    "plt.xticks(rotation=90)\n",
    "plt.xlabel('movies', size=20)\n",
    "plt.ylabel('No. of rating', size=20)\n",
    "plt.title('Top 10 Movies ', size=25)\n",
    "plt.show()"
   ]
  },
  {
   "cell_type": "markdown",
   "metadata": {},
   "source": [
    "#### Investigating the number of views in a month"
   ]
  },
  {
   "cell_type": "code",
   "execution_count": 121,
   "metadata": {},
   "outputs": [
    {
     "data": {
      "image/png": "[encoded data removed]",
      "text/plain": [
       "<Figure size 1200x600 with 1 Axes>"
      ]
     },
     "metadata": {},
     "output_type": "display_data"
    }
   ],
   "source": [
    "# Group rating by Day-of-Week\n",
    "dt = df_train_clean.groupby(['train_day'])['rating'].count().reset_index()\n",
    "# Make a line Plot of the grouping\n",
    "fig, (ax) = plt.subplots(ncols=1, figsize=(12,6))\n",
    "plt.plot(dt['train_day'],dt['rating'])\n",
    "plt.xlabel('train_day') \n",
    "plt.ylabel('Number of views') \n",
    "plt.title('Number of views per Day')\n",
    "plt.show()"
   ]
  },
  {
   "cell_type": "markdown",
   "metadata": {},
   "source": [
    "Most of the views are for the movies are found within the date 2 to 30 this is probably due to subscription trend for the viewers where by they use the first two days of the month to subscribe to the platform"
   ]
  },
  {
   "cell_type": "markdown",
   "metadata": {},
   "source": [
    "### Investigating the nummber of rating done by users  per month "
   ]
  },
  {
   "cell_type": "code",
   "execution_count": 122,
   "metadata": {},
   "outputs": [
    {
     "data": {
      "image/png": "[encoded data removed]",
      "text/plain": [
       "<Figure size 1200x600 with 1 Axes>"
      ]
     },
     "metadata": {},
     "output_type": "display_data"
    }
   ],
   "source": [
    "# Group rating by Month\n",
    "dt = df_train_clean.groupby(['train_month'])['rating'].count().reset_index()\n",
    "# Make a line Plot of the grouping\n",
    "fig, (ax) = plt.subplots(ncols=1, figsize=(12,6))\n",
    "plt.plot(dt['train_month'],dt['rating']) \n",
    "plt.xlabel('Month of the Year') \n",
    "plt.ylabel('Number of views')\n",
    "plt.title('Number of views per Month')\n",
    "plt.show()"
   ]
  },
  {
   "cell_type": "code",
   "execution_count": null,
   "metadata": {},
   "outputs": [],
   "source": [
    "counter(df_train_finally.rating)"
   ]
  },
  {
   "cell_type": "markdown",
   "metadata": {},
   "source": [
    "\n",
    "During the months commonly referred to as the Ember Months, there is a noticeable decline in movie engagement, marked by a significant reduction in both votes and views. This trend is especially prominent in August, leading into September, coinciding with the commencement of the new financial year. During this period, individuals often focus on administrative tasks, record-keeping, and report preparation, diverting attention away from leisure activities like watching movies.\n",
    "\n",
    "Conversely, the holiday periods exhibit sharp peaks in movie engagement, particularly during Easter and the Summer break. Notably, students have an extended break during the summer, spanning eight to nine weeks from late June to early September. This extended vacation provides ample time for individuals, including students, to indulge in entertainment activities, making it an opportune period for heightened movie viewership."
   ]
  },
  {
   "cell_type": "markdown",
   "metadata": {
    "id": "3fa93ec6"
   },
   "source": [
    "<a id=\"four\"></a>\n",
    "## 7. Feature Engineering\n",
    "<a class=\"anchor\" id=\"1.1\"></a>\n",
    "<a href=#cont>Back to Table of Contents</a>\n",
    "\n",
    "    \n",
    "             ⚡ Description: Feature  engineering ⚡ \n",
    " \n",
    "Here we will be creating new features engineered from the already existing features which will be helpful for creating a more accurate `Movie Recommemder System`"
   ]
  },
  {
   "cell_type": "code",
   "execution_count": null,
   "metadata": {
    "id": "059c2f3e"
   },
   "outputs": [],
   "source": []
  },
  {
   "cell_type": "markdown",
   "metadata": {},
   "source": [
    "For collaborative filtering, we will focus more on movie viewer behaviours i.e the impression that the movie leaves to the movie viewer. This will be Rating of the movies so the most important features will `userId` , `movieId` and `rating` "
   ]
  },
  {
   "cell_type": "code",
   "execution_count": null,
   "metadata": {},
   "outputs": [],
   "source": []
  },
  {
   "cell_type": "markdown",
   "metadata": {},
   "source": [
    "**Preprocessing**\n",
    "\n",
    "We need continuous IDs to be able to index into the embedding matrix and access each \n",
    "\n",
    "user/item embedding."
   ]
  },
  {
   "cell_type": "markdown",
   "metadata": {},
   "source": [
    "For our collaborative user based algorithm we will need to create  a utitlity matrix that will be helpful  to our training data sert"
   ]
  },
  {
   "cell_type": "code",
   "execution_count": null,
   "metadata": {},
   "outputs": [],
   "source": [
    "# creating a copy of the train dataframe\n",
    "df_train_clean_features=df_train_clean.copy()"
   ]
  },
  {
   "cell_type": "markdown",
   "metadata": {},
   "source": [
    "We will have to do away with the useless features for our collabrative algorithms "
   ]
  },
  {
   "cell_type": "code",
   "execution_count": null,
   "metadata": {},
   "outputs": [],
   "source": [
    "#dropping unnecessary features\n",
    "df_train_clean_features=df_train_clean_features.drop(['train_year','train_month','train_day'], axis =1 )"
   ]
  },
  {
   "cell_type": "markdown",
   "metadata": {},
   "source": [
    "Creating the sparse  matrix and compressing the matrix\n",
    "\n",
    "The CSR matrix format is chosen for several reasons:\n",
    "\n",
    "Efficient Memory Usage: Sparse matrices can be very memory-intensive due to the large number of zero elements. CSR efficiently represents sparse matrices by storing only the non-zero values and their corresponding row and column indices.\n",
    "\n",
    "Speed of Matrix Operations: CSR format allows for faster matrix-vector and matrix-matrix multiplication operations. This is important for collaborative filtering algorithms where such operations are performed frequently.\n",
    "\n",
    "Scalability: In recommendation systems, the user-item interaction matrix can be extremely large. CSR format enables efficient storage and manipulation of large sparse matrices, making it suitable for handling large datasets.\n",
    "\n",
    "Algorithm Compatibility: Many machine learning libraries and collaborative filtering algorithms are designed to work efficiently with sparse matrices, and CSR is a widely supported sparse matrix format."
   ]
  },
  {
   "cell_type": "code",
   "execution_count": null,
   "metadata": {},
   "outputs": [],
   "source": [
    "\n",
    "# Ensure userId and movieId are zero-based indices\n",
    "df_train_clean['userId'] = df_train_clean['userId'] - df_train_clean['userId'].min()\n",
    "df_train_clean['movieId'] = df_train_clean['movieId'] - df_train_clean['movieId'].min()\n",
    "\n",
    "# Create the sparse matrix\n",
    "user_item_matrix = csr_matrix((df_train_clean['rating'], (df_train_clean['userId'], df_train_clean['movieId'])))\n",
    "\n",
    "# Print the matrix\n",
    "print(user_item_matrix)\n",
    "#user_item_matrix =df_train_clean_features.pivot(index=['userId'], columns=['movieId'], values='rating').fillna(0)\n",
    "#user_item_matrix"
   ]
  },
  {
   "cell_type": "markdown",
   "metadata": {},
   "source": [
    "#### Feature engineering for Content based filtering algorithm\n",
    "\n",
    "Here we will focus on the characteristics of the item ie\n",
    "`genre`,`plot keyword`,`title cast` and `director` which are going  to be the main features that distinguish the respective movies in the dataset"
   ]
  },
  {
   "cell_type": "code",
   "execution_count": null,
   "metadata": {},
   "outputs": [],
   "source": [
    "## spliting the genre using the commas \n",
    "df_movies_clean['genre_f'] =df_movies_clean['clean_genres'].apply(lambda x : ','.join(x.split(' ')))"
   ]
  },
  {
   "cell_type": "code",
   "execution_count": null,
   "metadata": {},
   "outputs": [],
   "source": [
    "# merging movie data frame with imdb which contains mopst of the features for the movies eg plot kwywords etc\n",
    "df_merge_movie_imdb=pd.merge(df_movies_clean,df_imdb_clean_final, on='movieId', how='inner')\n",
    "df_merge_movie_imdb.head()"
   ]
  },
  {
   "cell_type": "code",
   "execution_count": null,
   "metadata": {},
   "outputs": [],
   "source": [
    "#combining the three most important columns\n",
    "cols = ['cast_pairs', 'director', 'genre_f']\n",
    "df_merge_movie_imdb['combined'] = df_merge_movie_imdb[cols].apply(lambda row: ','.join(row.values.astype(str)), axis=1)"
   ]
  },
  {
   "cell_type": "code",
   "execution_count": null,
   "metadata": {},
   "outputs": [],
   "source": [
    "#combining the space separated words into one using the underscore for our vectorizer\n",
    "df_merge_movie_imdb['combined']=df_merge_movie_imdb['combined'].apply(lambda x : '_'.join(x.split(' ')))"
   ]
  },
  {
   "cell_type": "markdown",
   "metadata": {},
   "source": [
    "Vectorizing the features of the movies so that we can create a matrix that will be used for training or filtering"
   ]
  },
  {
   "cell_type": "code",
   "execution_count": null,
   "metadata": {},
   "outputs": [],
   "source": [
    "#vectorising the combined column to create maximum features for our dataset\n",
    "tf = TfidfVectorizer(ngram_range=(1,1),stop_words='english')\n",
    "tf_matrix = tf.fit_transform(df_merge_movie_imdb['combined'])\n",
    "cosine_sim = cosine_similarity(tf_matrix, tf_matrix)\n",
    "cosine_sim_df = pd.DataFrame(cosine_sim)"
   ]
  },
  {
   "cell_type": "code",
   "execution_count": null,
   "metadata": {},
   "outputs": [],
   "source": [
    "cosine_sim_df.head()"
   ]
  },
  {
   "cell_type": "code",
   "execution_count": null,
   "metadata": {},
   "outputs": [],
   "source": [
    "Counter(df_train_finally.rating)"
   ]
  },
  {
   "cell_type": "code",
   "execution_count": null,
   "metadata": {},
   "outputs": [],
   "source": [
    "# Merge based on the 'common_key' column\n",
    "df_merge_train_movie_title = pd.merge(df_train, df_movies[['movieId','title']], on='movieId')"
   ]
  },
  {
   "cell_type": "code",
   "execution_count": null,
   "metadata": {},
   "outputs": [],
   "source": [
    "df_merge_train_movie_title.head()"
   ]
  },
  {
   "cell_type": "markdown",
   "metadata": {},
   "source": [
    "<a id=\"five\"></a>\n",
    "## 8. Modelling\n",
    "<a class=\"anchor\" id=\"1.1\"></a>\n",
    "<a href=#cont>Back to Table of Contents</a>\n",
    "    \n",
    "                ⚡ Description: Modelling ⚡ \n",
    "In this section, you are required to create one or more clustering modells that will be useful in making predictions in movie rating for our `Movie Recommender system`"
   ]
  },
  {
   "cell_type": "markdown",
   "metadata": {},
   "source": [
    "#### Content-based filtering \n",
    "is a recommendation algorithm that suggests items to users based on the content features of the items and the preferences expressed by the user. Here's a simplified explanation of how content-based filtering works:\n",
    "\n",
    "Item Representation:\n",
    "\n",
    "Each item (e.g., movies, articles, products) is represented using a set of features. These features describe the characteristics of the item.\n",
    "For example, in a movie recommendation system, the features could include genre, director, actors, and keywords.\n",
    "-  User Profile:\n",
    "\n",
    "The system maintains a profile for each user based on their preferences for certain features.\n",
    "For example, a user who likes action movies with specific actors might have a preference for movies with those features in the user profile.\n",
    "-  Recommendation Generation:\n",
    "\n",
    "When a user requests recommendations, the system compares the user profile with the features of available items.\n",
    "It recommends items that match the user's preferences based on the content features.\n",
    "The recommendation score is calculated based on how well the features of an item align with the user's preferences.\n",
    "-  Example:\n",
    "\n",
    "Suppose a user has previously liked action movies with Tom Cruise and wants recommendations.\n",
    "The content-based system identifies movies with the genre 'action' and features related to Tom Cruise.\n",
    "It recommends movies that have a high content similarity to the user's preferences.\n",
    "-  Advantages:\n",
    "\n",
    "Content-based filtering doesn't rely on historical user behavior or preferences.\n",
    "It can provide personalized recommendations for users with unique tastes.\n",
    "-  Limitations:\n",
    "\n",
    "Limited serendipity: Content-based systems may recommend similar items, leading to less diversity in recommendations.\n",
    "Cold start problem: It may face challenges when a new user joins the system, as there is limited information about their preferences.\n",
    "-  Implementation:\n",
    "\n",
    "The implementation involves creating item profiles, user profiles, and a mechanism for calculating the similarity between items and user preferences based on content features."
   ]
  },
  {
   "cell_type": "code",
   "execution_count": null,
   "metadata": {},
   "outputs": [],
   "source": [
    "#creating a reverse mapping\n",
    "indices = pd.Series(df_merge_movie_imdb.index, index=df_merge_movie_imdb['title'])"
   ]
  },
  {
   "cell_type": "code",
   "execution_count": null,
   "metadata": {},
   "outputs": [],
   "source": [
    "# Function that takes in movie title as input and outputs most similar movies\n",
    "def get_recommendations(title, cosine_sim=cosine_sim):\n",
    "    # Get the index of the movie that matches the title\n",
    "    idx = indices[title]\n",
    "\n",
    "    # Get the pairwsie similarity scores of all movies with that movie\n",
    "    sim_scores = list(enumerate(cosine_sim[idx]))\n",
    "\n",
    "    # Sort the movies based on the similarity scores\n",
    "    sim_scores = sorted(sim_scores, key=lambda x: x[1], reverse=True)\n",
    "\n",
    "    # Get the scores of the 10 most similar movies\n",
    "    sim_scores = sim_scores[1:11]\n",
    "\n",
    "    # Get the movie indices\n",
    "    movie_indices = [i[0] for i in sim_scores]\n",
    "\n",
    "    # Return the top 10 most similar movies\n",
    "    return df_merge_movie_imdb['title'].iloc[movie_indices]"
   ]
  },
  {
   "cell_type": "code",
   "execution_count": null,
   "metadata": {},
   "outputs": [],
   "source": [
    "get_recommendations('Toy Story(1995)', cosine_sim)"
   ]
  },
  {
   "cell_type": "markdown",
   "metadata": {},
   "source": [
    "### Collaborative filtering recommenders system\n",
    "\n",
    "Collaborative filtering methods are a type of recommendation system that make predictions (filtering) about the preferences of a user by leveraging the preferences and behaviors of other users (collaboration). There are two main types of collaborative filtering methods:\n",
    "\n",
    "User-Based Collaborative Filtering:\n",
    "\n",
    "User-based collaborative filtering recommends items based on the preferences of users who are similar to the target user. The idea is that if two users have similar tastes or preferences and one of them liked a particular item, the other user is likely to enjoy that item as well.\n",
    "Steps:\n",
    "Compute similarity between users (e.g., cosine similarity, Pearson correlation).\n",
    "Identify a set of users similar to the target user.\n",
    "Recommend items liked by similar users that the target user has not yet seen or rated.\n",
    "Item-Based Collaborative Filtering:\n",
    "\n",
    "Item-based collaborative filtering recommends items similar to those the target user has liked or interacted with. It identifies items that are similar to the ones the user has shown interest in and recommends them based on this similarity.\n",
    "Steps:\n",
    "Compute similarity between items (e.g., cosine similarity, Pearson correlation).\n",
    "Identify a set of items similar to those liked by the target user.\n",
    "Recommend the most similar items that the target user has not yet seen or rated.\n",
    "Collaborative filtering methods can be further categorized into memory-based and model-based approaches:\n",
    "\n",
    "#### Memory-Based Collaborative Filtering:\n",
    "\n",
    "Memory-based methods directly use user-item interaction data to compute similarities and make recommendations. Examples include user-user collaborative filtering and item-item collaborative filtering.\n",
    "Advantages: Simplicity and transparency.\n",
    "Disadvantages: Can suffer from the sparsity of the user-item matrix and may not scale well.\n",
    "\n",
    "####  Model-Based Collaborative Filtering:\n",
    "\n",
    "Model-based methods use machine learning algorithms to learn patterns and make predictions. Matrix factorization techniques, such as `Singular Value Decomposition (SVD)` and `Non-Negative Matrix Factorization (NMF)`, are common in model-based collaborative filtering.\n",
    "\n",
    "Advantages:\n",
    "\n",
    "Can handle sparse data better, scalable to larger datasets.\n",
    "Disadvantages: May be more complex and require training a model.\n",
    "Popular collaborative filtering libraries and frameworks include Surprise (Python library), Mahout, and LensKit. `We will be using Surprise library`\n",
    "\n",
    "Remember that collaborative filtering methods rely on user-item interaction data and may face challenges such as the cold start problem for new users or items and the scalability issue with large datasets. Hybrid approaches, combining collaborative filtering with other methods, are often used to address these challenges."
   ]
  },
  {
   "cell_type": "code",
   "execution_count": null,
   "metadata": {
    "id": "84eea17b"
   },
   "outputs": [],
   "source": [
    "\n",
    "\n",
    "\n",
    "df_train_1=df_train.drop(['timestamp','f_time','train_year','train_month','train_day'], axis = 1)\n",
    "#our training data\n",
    "df = pd.DataFrame(df_train_1.sample(n=4070000))\n",
    "#del df[['timestamp','f_time','train_year','train_month','train_day']]\n",
    "\n",
    "#our training data\n",
    "df_svd = pd.DataFrame(df_train_1)\n",
    "#del df_svd[['timestamp','f_time','train_year','train_month','train_day']]\n",
    "\n",
    "# A reader is still needed but only the rating_scale param is requiered.\n",
    "reader = Reader(rating_scale=(0, 5))\n",
    "\n",
    "# The columns must correspond to user id, item id and ratings (in that order).\n",
    "data = Dataset.load_from_df(df[['userId', 'movieId', 'rating']], reader)\n",
    "\n",
    "# The columns must correspond to user id, item id and ratings (in that order).\n",
    "datasvd = Dataset.load_from_df(df_svd[['userId', 'movieId', 'rating']], reader) #preparing more data for svd algorithms\n",
    "# get a prediction for specific users and items.\n",
    "sim_options = {\n",
    "    \"name\": \"cosine\",\n",
    "    \"user_based\": True,  # compute  similarities between items\n",
    "}\n"
   ]
  },
  {
   "cell_type": "code",
   "execution_count": null,
   "metadata": {},
   "outputs": [],
   "source": [
    "df_svd.head()"
   ]
  },
  {
   "cell_type": "code",
   "execution_count": null,
   "metadata": {},
   "outputs": [],
   "source": [
    "#test train split of the data\n",
    "trainset, testset = train_test_split(data, test_size=.10)\n",
    "#test train split of the data\n",
    "trainsetsvd, testsetsvd = train_test_split(datasvd, test_size=.10)"
   ]
  },
  {
   "cell_type": "code",
   "execution_count": null,
   "metadata": {},
   "outputs": [],
   "source": [
    "# logging my parameter to commet\n",
    "\n",
    "experiment = Experiment(\n",
    "  api_key=\"D4Zp3UqjjPbL3hd2Zm6216uHU\",\n",
    "  project_name=\"recommender\",\n",
    "  workspace=\"benka874\"\n",
    ")"
   ]
  },
  {
   "cell_type": "markdown",
   "metadata": {},
   "source": [
    "## Model-Based Collaborative Filtering:\n",
    "\n",
    "Model-Based Collaborative Filtering is a category of recommendation systems that builds predictive models using machine learning algorithms. It involves creating a model based on the patterns and relationships present in the user-item interaction data"
   ]
  },
  {
   "cell_type": "markdown",
   "metadata": {},
   "source": [
    "#### 1.SVD \n",
    "is a mathematical technique used in linear algebra and data analysis. In the context of recommendation systems, SVD is often employed for collaborative filtering. "
   ]
  },
  {
   "cell_type": "code",
   "execution_count": null,
   "metadata": {},
   "outputs": [],
   "source": [
    "# Use movielens-100K\n",
    "#data1 = Dataset.load_builtin(\"ml-100k\")\n",
    "algosvd_model=SVD()\n",
    "#algosvd.fit(trainset)\n",
    "#pred= algosvd.test(testset)\n",
    "#accuracy.rmse(pred)\n",
    "\n",
    "# Evaluate performances of our algorithm on the dataset.\n",
    "#cvSVD=cross_validate(algosvd, data, measures=['RMSE'],cv=3, verbose=True)\n",
    "\n",
    "# Fit traind Data\n",
    "algosvd_model.fit(trainsetsvd)\n",
    "# Validate Predictions\n",
    "SVD_predictions = algosvd_model.test(testsetsvd)\n",
    "# Return RMSE Result\n",
    "SVD_rmse=accuracy.rmse(SVD_predictions)"
   ]
  },
  {
   "cell_type": "markdown",
   "metadata": {},
   "source": [
    "#### Limitation\n",
    "- Cold Start Problem:\n",
    "\n",
    "SVD struggles with new users or items with limited or no historical data, making it challenging to provide accurate recommendations for them.\n",
    "\n",
    "- Sparse Data Issues:\n",
    "\n",
    "When dealing with sparse matrices (many missing values), SVD may lead to less accurate predictions due to difficulty in capturing meaningful patterns.\n",
    "\n",
    "- Scalability:\n",
    "\n",
    "Computing SVD can be computationally expensive, especially for large datasets. Real-time updates or computations for dynamic systems may be challenging.\n",
    "\n",
    "- Global Patterns Only:\n",
    "\n",
    "SVD captures global patterns but may overlook local or personalized preferences, as it focuses on the overall structure of the data.\n",
    "\n",
    "- Sensitivity to Noise:\n",
    "\n",
    "SVD is sensitive to noise and outliers in the data, which can impact the accuracy of predictions.\n",
    "\n",
    "- Interpretability:\n",
    "\n",
    "The latent factors extracted by SVD may not always have clear or interpretable meanings, making it challenging to understand the reasoning behind recommendations.\n",
    "\n",
    "- Assumption of Linearity:\n",
    "\n",
    "SVD assumes linear relationships between users and items, which might not hold true for all types of user-item interactions."
   ]
  },
  {
   "cell_type": "markdown",
   "metadata": {},
   "source": [
    "#### 2.Non-Negative Matrix Factorization (NMF)\n",
    "is a matrix factorization technique used in machine learning and data analysis. It decomposes a given matrix into the product of two lower-dimensional matrices, ensuring that all elements in the matrices are non-negative. NMF is particularly useful for analyzing non-negative data, such as images, text, and audio."
   ]
  },
  {
   "cell_type": "code",
   "execution_count": null,
   "metadata": {},
   "outputs": [],
   "source": [
    "\n",
    "# Assuming you have a DataFrame named 'df' with columns 'userId', 'movieId', and 'rating'\n",
    "#data = Dataset.load_from_df(df[['userId', 'movieId', 'rating']], reader)\n",
    "\n",
    "# Create a parameter grid for GridSearchCV\n",
    "param_grid = {\"n_epochs\": [5, 10]}\n",
    "\n",
    "# Create the GridSearchCV object\n",
    "algoNMF_model = NMF()\n",
    "\n",
    "# Evaluate performances of our algorithm on the dataset.\n",
    "#cvNMF=cross_validate(algoNMF, data, measures=['RMSE'],cv=5, verbose=True)\n",
    "\n",
    "# Fit traind Data\n",
    "algoNMF_model.fit(trainset)\n",
    "# Validate Predictions\n",
    "NMF_predictions = algoNMF_model.test(testset)\n",
    "# Return RMSE Result\n",
    "NMF_rmse=accuracy.rmse(NMF_predictions)\n",
    "#algoKNNBase = KNNBaseline(k=60, min_k=2, sim_options=sim_options)\n",
    "#cross_v = cross_validate(algoKNNBase, data, measures=['rmse'], cv=10, verbose=True)"
   ]
  },
  {
   "cell_type": "markdown",
   "metadata": {},
   "source": [
    "#### Limitations\n",
    "- Positive Numbers Only:\n",
    "\n",
    "NMF insists on using only positive numbers, which might not always match the actual data.\n",
    "Multiple Solutions:\n",
    "\n",
    "NMF doesn't always give one clear answer. Different starting points can lead to different results.\n",
    "\n",
    "- Dealing with Lots of Zeros:\n",
    "\n",
    "NMF may struggle when there are many zero values in the data, like in sparse datasets.\n",
    "Handling Missing Data is Tricky:\n",
    "\n",
    "NMF works best when all data is present. Dealing with missing information can be challenging.\n",
    "\n",
    "- Not Great with Complex Patterns:\n",
    "\n",
    "It's like fitting straight lines to data; struggles when relationships are more complicated.\n",
    "- Sensitive to Noise:\n",
    "\n",
    "NMF can be influenced by random variations or outliers in the data.\n",
    "\n",
    "- Gets Slow with Lots of Features:\n",
    "\n",
    "When dealing with many different aspects in the data, NMF can become slow and use a lot of memory.\n",
    "\n",
    "- Understanding Factors Can be Tricky:\n",
    "\n",
    "Figuring out the real-world meaning of the learned factors isn't always easy."
   ]
  },
  {
   "cell_type": "markdown",
   "metadata": {},
   "source": [
    "#### 3.The Slope One algorithm \n",
    "is a simple and effective collaborative filtering technique used in recommendation systems. It focuses on predicting a user's preferences based on the differences in ratings between items."
   ]
  },
  {
   "cell_type": "code",
   "execution_count": null,
   "metadata": {},
   "outputs": [],
   "source": [
    "# Initiate Model\n",
    "slope_model = SlopeOne()\n",
    "# Fit traind Data\n",
    "slope_model.fit(trainset)\n",
    "# Validate Predictions\n",
    "slope_predictions = slope_model.test(testset)\n",
    "# Return RMSE Result\n",
    "slope_rmse=accuracy.rmse(slope_predictions)"
   ]
  },
  {
   "cell_type": "markdown",
   "metadata": {},
   "source": [
    "#### Limitation\n",
    "\n",
    "- Sparse Data Challenges:\n",
    "\n",
    "Slope One struggles when there's not much information available. Predicting for items with few ratings may not be very accurate.\n",
    "\n",
    "- New User or Item Issue:\n",
    "\n",
    "It has a hard time dealing with new users or items that don't have enough history. Making predictions for them is tricky.\n",
    "\n",
    "- Not Great with Complex Patterns:\n",
    "\n",
    "Slope One keeps it simple, which is good, but it may miss capturing more complicated relationships between users and items."
   ]
  },
  {
   "cell_type": "markdown",
   "metadata": {},
   "source": [
    "#### 4.SVD++ (Singular Value Decomposition ++) \n",
    "is an extension of the Singular Value Decomposition (SVD) matrix factorization technique, commonly used in collaborative filtering for recommendation systems. The \"++\" in SVD++ indicates the inclusion of additional factors to enhance the model's performance."
   ]
  },
  {
   "cell_type": "code",
   "execution_count": null,
   "metadata": {},
   "outputs": [],
   "source": [
    "# Initiate Model\n",
    "svdpp_model = SVDpp(n_epochs=10,n_factors=250,init_std_dev=0.001,random_state=42, verbose=True)\n",
    "# Fit traind Data\n",
    "svdpp_model.fit(trainsetsvd)\n",
    "# Validate Predictions\n",
    "svdpp_predictions = svdpp_model.test(testsetsvd)\n",
    "# Return RMSE Result\n",
    "svdpp_rmse = accuracy.rmse(svdpp_predictions)\n",
    "svdpp_rmse"
   ]
  },
  {
   "cell_type": "markdown",
   "metadata": {},
   "source": [
    "#### Limitation\n",
    "- Computation Time: \n",
    "SVD++ can be slow, especially for large datasets, making it computationally expensive.\n",
    "\n",
    "- Cold Start Problem: \n",
    "It struggles when dealing with new users or items without enough historical data.\n",
    "\n",
    "- Sparse Data: \n",
    "SVD++ may not work well when there's limited interaction data between users and items.\n",
    "\n",
    "- Implicit Feedback Challenges: \n",
    "Handling user interactions without explicit ratings can be tricky.\n",
    "\n",
    "- Scalability:\n",
    "Training on large datasets can be resource-intensive.\n",
    "\n",
    "- Hyperparameter Tuning:\n",
    "Finding the right settings for model parameters requires experimentation.\n",
    "\n",
    "- Memory Usage: \n",
    "Storing learned data matrices may consume a lot of memory.\n",
    "\n",
    "- Limited Interpretability: \n",
    "The model's recommendations may not be easy to explain."
   ]
  },
  {
   "cell_type": "markdown",
   "metadata": {},
   "source": [
    "#### The BaselineOnly algorithm\n",
    "\n",
    "is a collaborative filtering algorithm used in recommendation systems. It predicts user-item ratings by considering baseline estimates for users and items"
   ]
  },
  {
   "cell_type": "code",
   "execution_count": null,
   "metadata": {},
   "outputs": [],
   "source": [
    "# Initiate Model\n",
    "bsl_options = {'method': 'sgd','n_epochs': 15}\n",
    "# Fit traind Data\n",
    "baseline_model = BaselineOnly(bsl_options=bsl_options,verbose=True)\n",
    "# Validate Predictions\n",
    "baseline_model.fit(trainset)\n",
    "# Return RMSE Result\n",
    "baseline_predictions = baseline_model.test(testset)\n",
    "# Calculate RMSE\n",
    "baseline_rmse = accuracy.rmse(baseline_predictions)"
   ]
  },
  {
   "cell_type": "markdown",
   "metadata": {},
   "source": [
    "- Baselines:\n",
    "\n",
    "It starts by estimating baseline ratings for users and items.\n",
    "For each user, it guesses the average rating they tend to give.\n",
    "For each item, it guesses the average rating it usually receives.\n",
    "- Prediction:\n",
    "\n",
    "To predict how a user might rate an item, it combines three things:\n",
    "The overall average rating.\n",
    "The user's baseline rating tendency.\n",
    "The item's baseline rating tendency.\n",
    "The prediction is the sum of these factors.\n",
    "- Optimization:\n",
    "\n",
    "It refines its guesses by minimizing the difference between actual ratings and predictions.\n",
    "This helps improve the accuracy of baseline estimates.\n",
    "- Advantages:\n",
    "\n",
    "Provides a straightforward way to make personalized rating predictions.\n",
    "Deals with the variability in user and item ratings.\n",
    "- Limitations:\n",
    "\n",
    "May not capture complex patterns as well as more advanced methods.\n",
    "Faces challenges with new users or items with few ratings (cold start problem).\n",
    "Implementation:\n",
    "\n",
    "You can use libraries like Surprise in Python to implement BaselineOnly."
   ]
  },
  {
   "cell_type": "code",
   "execution_count": null,
   "metadata": {},
   "outputs": [],
   "source": []
  },
  {
   "cell_type": "markdown",
   "metadata": {},
   "source": [
    "## Memory-Based Collaborative Filtering:\n",
    "\n",
    "Memory-Based Collaborative Filtering is a type of recommendation system that relies on the similarity between users or items to make predictions. It doesn't involve building a model but instead directly uses the user-item interaction data"
   ]
  },
  {
   "cell_type": "markdown",
   "metadata": {},
   "source": [
    "#### creating pickle file for our models"
   ]
  },
  {
   "cell_type": "markdown",
   "metadata": {},
   "source": [
    "SVD model"
   ]
  },
  {
   "cell_type": "code",
   "execution_count": null,
   "metadata": {},
   "outputs": [],
   "source": [
    "# Save the model to a pickle file\n",
    "with open('model.pkl', 'wb') as file:\n",
    "    pickle.dump(algosvd_model, file)"
   ]
  },
  {
   "cell_type": "markdown",
   "metadata": {},
   "source": [
    "SVDPP model"
   ]
  },
  {
   "cell_type": "code",
   "execution_count": null,
   "metadata": {},
   "outputs": [],
   "source": [
    "# Save the model to a pickle file\n",
    "with open('model.pkl', 'wb') as file:\n",
    "    pickle.dump(svdpp_model, file)"
   ]
  },
  {
   "cell_type": "markdown",
   "metadata": {},
   "source": [
    "#### Saving our subbmissiom file"
   ]
  },
  {
   "cell_type": "markdown",
   "metadata": {},
   "source": [
    "In this section we will be creating submission file to our kaggle platform"
   ]
  },
  {
   "cell_type": "code",
   "execution_count": null,
   "metadata": {},
   "outputs": [],
   "source": [
    "df_test.loc[:, 'rating'] = 0\n",
    "df_test.head()"
   ]
  },
  {
   "cell_type": "code",
   "execution_count": null,
   "metadata": {},
   "outputs": [],
   "source": [
    "#using load_from_df surprise function to load dataset for predictions\n",
    "test_processed = Dataset.load_from_df(df_test[['userId','movieId','rating']], reader)\n",
    "\n",
    "#Train test split, test size will be equal to 1.\n",
    "NA, test = train_test_split(test_processed, test_size=1.0, shuffle = False, random_state = 42)\n",
    "\n",
    "#Prediction \n",
    "predictions = algosvd_model.test(test)"
   ]
  },
  {
   "cell_type": "code",
   "execution_count": null,
   "metadata": {},
   "outputs": [],
   "source": [
    "#saving the predictions as a list to add as a column for our Kaggle submission\n",
    "rating = [n.est for n in predictions]\n",
    "rating"
   ]
  },
  {
   "cell_type": "code",
   "execution_count": null,
   "metadata": {},
   "outputs": [],
   "source": [
    "df_test_final=df_test.copy()"
   ]
  },
  {
   "cell_type": "code",
   "execution_count": null,
   "metadata": {},
   "outputs": [],
   "source": [
    "df_test_final.head()"
   ]
  },
  {
   "cell_type": "code",
   "execution_count": null,
   "metadata": {},
   "outputs": [],
   "source": [
    "df_test_final['Id'] = df_test_final['userId'].astype(str)  + '_'+ df_test_final['movieId'].astype(str) \n",
    "#change rating column\n",
    "df_test_final['rating'] = rating\n",
    "del df_test_final['userId']\n",
    "del df_test_final['movieId']"
   ]
  },
  {
   "cell_type": "code",
   "execution_count": null,
   "metadata": {},
   "outputs": [],
   "source": [
    "df_test_final['rating'] = df_test_final['rating'].apply(lambda x:round(x,1))\n"
   ]
  },
  {
   "cell_type": "code",
   "execution_count": null,
   "metadata": {},
   "outputs": [],
   "source": [
    "df_test_final.head()"
   ]
  },
  {
   "cell_type": "code",
   "execution_count": null,
   "metadata": {},
   "outputs": [],
   "source": [
    "cols = ['Id', 'rating']\n",
    "df_test_final = df_test_final[cols]\n",
    "df_test_final"
   ]
  },
  {
   "cell_type": "code",
   "execution_count": null,
   "metadata": {},
   "outputs": [],
   "source": [
    "#df_test.rename(columns = {'rating2':'rating'}, inplace = True)\n",
    "#df_test.head()\n",
    "df_test_final.to_csv('Kagg_submission.csv', index = False)"
   ]
  },
  {
   "cell_type": "code",
   "execution_count": null,
   "metadata": {
    "id": "9c58df02"
   },
   "outputs": [],
   "source": [
    "# create targets and features dataset"
   ]
  },
  {
   "cell_type": "code",
   "execution_count": null,
   "metadata": {
    "id": "20d073e0"
   },
   "outputs": [],
   "source": [
    "# create one or more ML models"
   ]
  },
  {
   "cell_type": "code",
   "execution_count": null,
   "metadata": {
    "id": "a70c15d7"
   },
   "outputs": [],
   "source": [
    "# evaluate one or more ML models"
   ]
  },
  {
   "cell_type": "markdown",
   "metadata": {
    "id": "6b530251"
   },
   "source": [
    "<a id=\"six\"></a>\n",
    "## 9. Model Performance\n",
    "<a class=\"anchor\" id=\"1.1\"></a>\n",
    "<a href=#cont>Back to Table of Contents</a>\n"
   ]
  },
  {
   "cell_type": "markdown",
   "metadata": {},
   "source": [
    "#### Content-Based Recommender\n",
    "Let's find similar movies to Monsters, Inc.. Set the number of the recommended movies as 5."
   ]
  },
  {
   "cell_type": "code",
   "execution_count": null,
   "metadata": {},
   "outputs": [],
   "source": [
    "get_recommendations('Soo Art of Revenge ', cosine_sim)"
   ]
  },
  {
   "cell_type": "markdown",
   "metadata": {},
   "source": [
    "#### Collaborative-Based Recommender performance\n",
    "Let us see which of the algorithms give us the lowest (better RMSE) score"
   ]
  },
  {
   "cell_type": "markdown",
   "metadata": {},
   "source": [
    "Here we will be exploring the performamce of our models ie ie explore the performace of our content based model and the performance of our model based collaborative algorithms our model algorithms are `SVD`,`SVD++`,`Baselineonly`,`NMF`,`SlopeOne`"
   ]
  },
  {
   "cell_type": "code",
   "execution_count": null,
   "metadata": {},
   "outputs": [],
   "source": [
    "# Composite RMSE Result of Collaborative models in DataFrame \n",
    "rmse_scores =[NMF_rmse, slope_rmse, SVD_rmse, svdpp_rmse, baseline_rmse]\n",
    "models =['NMF', 'SlopeOne', 'SVD', 'SVD++', 'BaselineOnly']\n",
    "\n",
    "accuracy_data = pd.DataFrame({'model':models,'RMSE':rmse_scores})"
   ]
  },
  {
   "cell_type": "code",
   "execution_count": null,
   "metadata": {},
   "outputs": [],
   "source": [
    "\n",
    "\n",
    "\n",
    "params ={\"random_state\": 42,\n",
    "         \"model_type \": \"SVD\",\n",
    "         \"biased\": True, \n",
    "         \"verbose\": True,\n",
    "         'n_epochs': 60, \n",
    "         'n_factors': 300, \n",
    "         'init_std_dev': 0.004, \n",
    "         'lr_all': 0.006, \n",
    "         'reg_all': 0.04\n",
    "        }\n",
    "\n",
    "best_metrics ={\"RMSE\" : accuracy_data}"
   ]
  },
  {
   "cell_type": "code",
   "execution_count": null,
   "metadata": {},
   "outputs": [],
   "source": [
    "#log parameters and results\n",
    "experiment.log_parameters(params)\n",
    "experiment.log_metric('RMSE', accuracy_data)\n",
    "experiment.log_notebook('Unsupervised learning.ipynb', overwrite=False)"
   ]
  },
  {
   "cell_type": "code",
   "execution_count": null,
   "metadata": {},
   "outputs": [],
   "source": [
    "experiment.end()"
   ]
  },
  {
   "cell_type": "code",
   "execution_count": null,
   "metadata": {
    "id": "6a69b5a1"
   },
   "outputs": [],
   "source": [
    "# Compare model performance\n",
    "# Visualize Outcome of Various Model Based Collab Recommenders\n",
    "fig, ax = plt.subplots(figsize=(14,7))\n",
    "# Plot Bar chart\n",
    "sns.barplot(data=accuracy_data.sort_values(by='RMSE'), x='model', \n",
    "            y='RMSE', palette=\"colorblind\", edgecolor=\"black\", ax=ax)\n",
    "# Set Labels\n",
    "ax.set_xlabel(\"Recommender Models\")\n",
    "ax.set_ylabel('RMSE Score')\n",
    "ax.set_yticklabels(['{:,}'.format(int(x)) for x in ax.get_yticks().tolist()])\n",
    "for p in ax.patches:\n",
    "    ax.text(p.get_x() + p.get_width()/2, p.get_y() + p.get_height(), \n",
    "            round(p.get_height(),3), fontsize=12, ha=\"center\", va='bottom')\n",
    "plt.title('Model Accuracy By RMSE Score', fontsize=14)\n",
    "plt.show()"
   ]
  },
  {
   "cell_type": "markdown",
   "metadata": {
    "execution": {
     "iopub.status.busy": "2024-02-03T19:08:00.757795Z",
     "iopub.status.idle": "2024-02-03T19:08:00.758081Z",
     "shell.execute_reply": "2024-02-03T19:08:00.757951Z",
     "shell.execute_reply.started": "2024-02-03T19:08:00.757937Z"
    },
    "id": "3874a7c6"
   },
   "source": [
    "\n"
   ]
  },
  {
   "cell_type": "markdown",
   "metadata": {
    "id": "a8ad0c0d"
   },
   "source": [
    "<a id=\"seven\"></a>\n",
    "## 10. Model Explanations\n",
    "<a class=\"anchor\" id=\"1.1\"></a>\n",
    "<a href=#cont>Back to Table of Contents</a>\n",
    "\n",
    "generalized model."
   ]
  },
  {
   "cell_type": "markdown",
   "metadata": {},
   "source": [
    "#### Singular Value Decomposition++ (SVD++) \n",
    "\n",
    "is an extension of the Singular Value Decomposition (SVD) algorithm used in collaborative filtering for recommendation systems. It enhances the basic SVD by incorporating implicit feedback and considering implicit user preferences. Here's a simplified explanation of how SVD++ works:\n",
    "- User-Item Interaction Matrix:\n",
    "\n",
    "The recommendation system is based on a matrix representing user-item interactions. Rows correspond to users, columns correspond to items, and the entries contain user ratings or interactio- ns.\n",
    "- Singular Value Decomposition (SVD):\n",
    "\n",
    "SVD decomposes the user-item interaction matrix into three matrices: U (user matrix), Σ (diagonal matrix of singular values), and V^T (item matrix transpose).\n",
    "The decomposition captures latent factors that represent hidden patterns or features in th- e data.\n",
    "- Implicit Feedback:\n",
    "\n",
    "SVD++ extends SVD by incorporating implicit feedback, which includes user interactions that are not explicitly rated but still convey preferences (e.g., clicks, views, purchases).\n",
    "Implicit feedback is modeled by introducing additional user and item vectors to account for these implicit p- references.\n",
    "- User and Item Bias:\n",
    "\n",
    "SVD++ includes user and item bias terms to capture inherent tendencies of users to rate items higher or lower tha- n the average.\n",
    "R- egularization:\n",
    "\n",
    "Regularization terms are introduced to prevent overfitting and ensure a more generalized model."
   ]
  },
  {
   "cell_type": "markdown",
   "metadata": {
    "id": "557a9759"
   },
   "source": [
    "<a id=\"seven\"></a>\n",
    "## 11. Conclusion\n",
    "<a class=\"anchor\" id=\"1.1\"></a>\n",
    "<a href=#cont>Back to Table of Contents</a>\n",
    "\n"
   ]
  },
  {
   "cell_type": "markdown",
   "metadata": {
    "id": "5f85d60f"
   },
   "source": [
    "\n",
    "A model is generally said to be good if it has it's RMSE below 1.0 and after seeing our results, We can say that our recommendation system works well enough.\n",
    "\n",
    "Suggestion to further improving the predictive performance of our Model;\n",
    "\n",
    "-  We could examine which users the models are having trouble predicting correctly and see if there is a correlation between those users. \n",
    "\n",
    "-  Secondly, there exist a possibility that the models might have a experincing cold start problem. If this is the case, then using collaborative filtering in conjunction with content based filtering algorithms `hybrid system`could help the problem by projecting such users to mimic similar users who had rated a lot of movies.\n",
    "\n",
    "-  Our Content delt more on movie `genre`,`cast`, `title`, `rating` we can however add more into `links` ,`tags`  and `genome-scores` about the movies "
   ]
  },
  {
   "cell_type": "code",
   "execution_count": null,
   "metadata": {},
   "outputs": [],
   "source": []
  }
 ],
 "metadata": {
  "colab": {
   "provenance": []
  },
  "kaggle": {
   "accelerator": "none",
   "dataSources": [
    {
     "datasetId": 4357123,
     "sourceId": 7484536,
     "sourceType": "datasetVersion"
    }
   ],
   "dockerImageVersionId": 30635,
   "isGpuEnabled": false,
   "isInternetEnabled": true,
   "language": "python",
   "sourceType": "notebook"
  },
  "kernelspec": {
   "display_name": "Python 3 (ipykernel)",
   "language": "python",
   "name": "python3"
  },
  "language_info": {
   "codemirror_mode": {
    "name": "ipython",
    "version": 3
   },
   "file_extension": ".py",
   "mimetype": "text/x-python",
   "name": "python",
   "nbconvert_exporter": "python",
   "pygments_lexer": "ipython3",
   "version": "3.11.7"
  },
  "latex_envs": {
   "LaTeX_envs_menu_present": true,
   "autoclose": false,
   "autocomplete": true,
   "bibliofile": "biblio.bib",
   "cite_by": "apalike",
   "current_citInitial": 1,
   "eqLabelWithNumbers": true,
   "eqNumInitial": 1,
   "hotkeys": {
    "equation": "Ctrl-E",
    "itemize": "Ctrl-I"
   },
   "labels_anchors": false,
   "latex_user_defs": false,
   "report_style_numbering": false,
   "user_envs_cfg": false
  },
  "toc": {
   "base_numbering": 1,
   "nav_menu": {},
   "number_sections": true,
   "sideBar": true,
   "skip_h1_title": false,
   "title_cell": "Table of Contents",
   "title_sidebar": "Contents",
   "toc_cell": false,
   "toc_position": {},
   "toc_section_display": true,
   "toc_window_display": false
  },
  "varInspector": {
   "cols": {
    "lenName": 16,
    "lenType": 16,
    "lenVar": 40
   },
   "kernels_config": {
    "python": {
     "delete_cmd_postfix": "",
     "delete_cmd_prefix": "del ",
     "library": "var_list.py",
     "varRefreshCmd": "print(var_dic_list())"
    },
    "r": {
     "delete_cmd_postfix": ") ",
     "delete_cmd_prefix": "rm(",
     "library": "var_list.r",
     "varRefreshCmd": "cat(var_dic_list()) "
    }
   },
   "types_to_exclude": [
    "module",
    "function",
    "builtin_function_or_method",
    "instance",
    "_Feature"
   ],
   "window_display": false
  }
 },
 "nbformat": 4,
 "nbformat_minor": 4
}
