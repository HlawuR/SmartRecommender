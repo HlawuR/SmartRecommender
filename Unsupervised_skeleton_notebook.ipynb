{
 "cells": [
  {
   "cell_type": "markdown",
   "id": "6c7e849a",
   "metadata": {
    "ExecuteTime": {
     "end_time": "2021-06-11T09:24:53.643384Z",
     "start_time": "2021-06-11T09:24:53.622385Z"
    },
    "id": "6c7e849a"
   },
   "source": [
    "# Unsupervised Predict Student Solution\n",
    "\n",
    "© Explore Data Science Academy\n",
    "\n",
    "---\n",
    "### Honour Code\n",
    "\n",
    "I {**Team NM4**}, confirm - by submitting this document - that the solutions in this notebook are a result of my own work and that I abide by the [EDSA honour code](https://drive.google.com/file/d/1QDCjGZJ8-FmJE3bZdIQNwnJyQKPhHZBn/view?usp=sharing).\n",
    "\n",
    "Non-compliance with the honour code constitutes a material breach of contract.\n",
    "\n",
    "Team Members\n",
    "1. Bakwe Chokoe\n",
    "2. Hlawulekani Rikhotso\n",
    "3. Tshepiso Ngwato\n",
    "4. Benson Kamau\n",
    "5. Nozipho\n",
    "6. Mutondi Tshivhase\n",
    "### Predict Overview\n",
    "\n"
   ]
  },
  {
   "cell_type": "markdown",
   "id": "05600c92",
   "metadata": {
    "id": "05600c92"
   },
   "source": [
    "<a id=\"cont\"></a>\n",
    "\n",
    "## Table of Contents\n",
    "\n",
    "<a href=#one>1. Introduction</a>\n",
    "\n",
    "<a href=#two>2. Problem Statement</a>\n",
    "\n",
    "<a href=#three>3. Importing Packages</a>\n",
    "\n",
    "<a href=#four>4. Loading Data</a>\n",
    "\n",
    "<a href=#five>5. Pre-processing</a>\n",
    "\n",
    "<a href=#six>6. Exploratory Data Analysis (EDA)</a>\n",
    "\n",
    "<a href=#seven>7. Data Engineering</a>\n",
    "\n",
    "<a href=#eight>8. Modeling</a>\n",
    "\n",
    "<a href=#nine>9. Model Performance</a>\n",
    "\n",
    "<a href=#ten>10. Model Explanations</a>\n",
    "\n",
    "<a href=#eleven>11. Conclusion</a>\n"
   ]
  },
  {
   "cell_type": "markdown",
   "id": "9f5aa67e",
   "metadata": {
    "id": "9f5aa67e"
   },
   "source": [
    " <a id=\"one\"></a>\n",
    "## **1. Introduction**\n",
    "\n",
    "\n",
    "\n",
    "\n",
    "\n"
   ]
  },
  {
   "cell_type": "code",
   "execution_count": null,
   "id": "a0a06e9e",
   "metadata": {
    "id": "a0a06e9e"
   },
   "outputs": [],
   "source": [
    "# Write the introduction"
   ]
  },
  {
   "cell_type": "markdown",
   "id": "f7be00c3",
   "metadata": {
    "id": "f7be00c3"
   },
   "source": [
    " <a id=\"one\"></a>\n",
    "## 2. Problem Statement\n",
    "<a href=#cont>Back to Table of Contents</a>\n",
    "\n",
    "---\n",
    "    \n",
    "| ⚡ Description: Problem Statement ⚡ |\n",
    "| :--------------------------- |\n",
    "| In this section you are required to introduce and elaborate on the problem statement or challenge you are required to solve. |\n"
   ]
  },
  {
   "cell_type": "code",
   "execution_count": null,
   "id": "1882422f",
   "metadata": {
    "id": "1882422f"
   },
   "outputs": [],
   "source": [
    "# Discuss the problem statement"
   ]
  },
  {
   "cell_type": "markdown",
   "id": "997462e2",
   "metadata": {
    "id": "997462e2"
   },
   "source": [
    " <a id=\"one\"></a>\n",
    "## 3. Importing Packages\n",
    "<a href=#cont>Back to Table of Contents</a>\n",
    "\n",
    "---\n",
    "    \n",
    "| ⚡ Description: Importing Packages ⚡ |\n",
    "| :--------------------------- |\n",
    "| In this section you are required to import, and briefly discuss, the libraries that will be used throughout your analysis and modelling. |\n",
    "\n",
    "---"
   ]
  },
  {
   "cell_type": "code",
   "execution_count": null,
   "id": "475dbe93",
   "metadata": {
    "ExecuteTime": {
     "end_time": "2021-06-23T10:30:53.800892Z",
     "start_time": "2021-06-23T10:30:50.215449Z"
    },
    "id": "475dbe93"
   },
   "outputs": [],
   "source": [
    "# Libraries for data loading, data manipulation and data visulisation\n",
    "import pandas as pd\n",
    "import numpy as np\n",
    "import matplotlib.pyplot as plt\n",
    "import plotly.express as px\n",
    "\n",
    "# Libraries for data preparation and model building\n",
    "#import *\n",
    "\n",
    "# Setting global constants to ensure notebook results are reproducible\n",
    "#PARAMETER_CONSTANT = ###"
   ]
  },
  {
   "cell_type": "markdown",
   "id": "f22a6718",
   "metadata": {
    "id": "f22a6718"
   },
   "source": [
    "<a id=\"two\"></a>\n",
    "## 4. Loading the Data\n",
    "<a class=\"anchor\" id=\"1.1\"></a>\n",
    "<a href=#cont>Back to Table of Contents</a>\n"
   ]
  },
  {
   "cell_type": "code",
   "execution_count": null,
   "id": "fbbb6c18",
   "metadata": {
    "ExecuteTime": {
     "end_time": "2021-06-28T08:49:35.311495Z",
     "start_time": "2021-06-28T08:49:35.295494Z"
    },
    "id": "fbbb6c18"
   },
   "outputs": [],
   "source": [
    "# load the dataframe from the given dataset\n",
    "df_train =pd.read_csv\\\n",
    "(r'C:\\Users\\hp\\Documents\\GitHub\\unsurpervised_data\\ea-movie-recommendation-predict-2023-2024\\train.csv')\n",
    "df_genome_tags=pd.read_csv\\\n",
    "(r'C:\\Users\\hp\\Documents\\GitHub\\unsurpervised_data\\ea-movie-recommendation-predict-2023-2024\\genome_tags.csv')\n",
    "df_movies=pd.read_csv\\\n",
    "(r'C:\\Users\\hp\\Documents\\GitHub\\unsurpervised_data\\ea-movie-recommendation-predict-2023-2024\\movies.csv')\n",
    "df_links=pd.read_csv\\\n",
    "(r'C:\\Users\\hp\\Documents\\GitHub\\unsurpervised_data\\ea-movie-recommendation-predict-2023-2024\\links.csv')\n",
    "df_genome_scores=pd.read_csv\\\n",
    "(r'C:\\Users\\hp\\Documents\\GitHub\\unsurpervised_data\\ea-movie-recommendation-predict-2023-2024\\genome_scores.csv')\n",
    "df_tags=pd.read_csv\\\n",
    "(r'C:\\Users\\hp\\Documents\\GitHub\\unsurpervised_data\\ea-movie-recommendation-predict-2023-2024\\tags.csv')\n",
    "df_imdb_data=pd.read_csv\\\n",
    "(r'C:\\Users\\hp\\Documents\\GitHub\\unsurpervised_data\\ea-movie-recommendation-predict-2023-2024\\imdb_data.csv')\n"
   ]
  },
  {
   "cell_type": "markdown",
   "id": "abbbb9ba",
   "metadata": {
    "id": "abbbb9ba"
   },
   "source": [
    "<a id=\"two\"></a>\n",
    "## 5. Pre-processing\n",
    "<a class=\"anchor\" id=\"1.1\"></a>\n",
    "<a href=#cont>Back to Table of Contents</a>"
   ]
  },
  {
   "cell_type": "markdown",
   "id": "d49823dd",
   "metadata": {},
   "source": [
    "### Viewing the shape of the dataframes"
   ]
  },
  {
   "cell_type": "markdown",
   "id": "180743b5",
   "metadata": {},
   "source": [
    "Here we are just having a view of the shape of varoius dataframes in our dataset i.e.\n",
    " - df_imdb_data\n",
    " - df_genome_tags\n",
    " - df_genome_scores\n",
    " - df_train\n",
    " - df_links\n",
    " - df_movies\n",
    " - df_tags"
   ]
  },
  {
   "cell_type": "code",
   "execution_count": null,
   "id": "17d7ec19",
   "metadata": {
    "id": "17d7ec19"
   },
   "outputs": [],
   "source": [
    "# Pre-process the data\n",
    "df_train.shape"
   ]
  },
  {
   "cell_type": "code",
   "execution_count": null,
   "id": "9dcedf5f",
   "metadata": {},
   "outputs": [],
   "source": [
    "df_genome_tags.shape"
   ]
  },
  {
   "cell_type": "code",
   "execution_count": null,
   "id": "47c67d2d",
   "metadata": {},
   "outputs": [],
   "source": [
    "df_genome_scores.shape"
   ]
  },
  {
   "cell_type": "code",
   "execution_count": null,
   "id": "293b644a",
   "metadata": {},
   "outputs": [],
   "source": [
    "df_tags.shape"
   ]
  },
  {
   "cell_type": "code",
   "execution_count": null,
   "id": "f980e3fe",
   "metadata": {},
   "outputs": [],
   "source": [
    "df_links.shape"
   ]
  },
  {
   "cell_type": "code",
   "execution_count": null,
   "id": "c795ed8a",
   "metadata": {},
   "outputs": [],
   "source": [
    "df_movies.shape"
   ]
  },
  {
   "cell_type": "code",
   "execution_count": null,
   "id": "fb92d2a6",
   "metadata": {},
   "outputs": [],
   "source": [
    "df_imdb_data.shape"
   ]
  },
  {
   "cell_type": "markdown",
   "id": "eabe952f",
   "metadata": {},
   "source": [
    "### Checking for null values in the various dataframes in the given  dataset"
   ]
  },
  {
   "cell_type": "markdown",
   "id": "80fcdc4f",
   "metadata": {},
   "source": [
    "Here in this sections we will be checking for `null values ` in the various dataframes in the data set i.e.\n",
    " - df_imdb_data\n",
    " - df_genome_tags\n",
    " - df_genome_scores\n",
    " - df_train\n",
    " - df_links\n",
    " - df_movies\n",
    " - df_tags"
   ]
  },
  {
   "cell_type": "code",
   "execution_count": null,
   "id": "97a8b921",
   "metadata": {},
   "outputs": [],
   "source": [
    "#checking for null in imdb dataframe\n",
    "df_imdb_data.isnull().sum()"
   ]
  },
  {
   "cell_type": "code",
   "execution_count": null,
   "id": "f7326a72",
   "metadata": {},
   "outputs": [],
   "source": [
    "#checking for null in genome tags dataframe\n",
    "df_genome_tags.isnull().sum()"
   ]
  },
  {
   "cell_type": "code",
   "execution_count": null,
   "id": "5d4d4506",
   "metadata": {},
   "outputs": [],
   "source": [
    "#checking for null in genome score dataframe\n",
    "df_genome_scores.isnull().sum()"
   ]
  },
  {
   "cell_type": "code",
   "execution_count": null,
   "id": "5b75807b",
   "metadata": {},
   "outputs": [],
   "source": [
    "#checking for null in train dataframe\n",
    "df_train.isnull().sum()"
   ]
  },
  {
   "cell_type": "code",
   "execution_count": null,
   "id": "df347e51",
   "metadata": {},
   "outputs": [],
   "source": [
    "#checking for null in links dataframe\n",
    "df_links.isnull().sum()"
   ]
  },
  {
   "cell_type": "code",
   "execution_count": null,
   "id": "6ed5b48e",
   "metadata": {},
   "outputs": [],
   "source": [
    "#checking for null in tags dataframe\n",
    "df_tags.isnull().sum()\n"
   ]
  },
  {
   "cell_type": "code",
   "execution_count": null,
   "id": "f3533913",
   "metadata": {},
   "outputs": [],
   "source": [
    "#checking for null in movies dataframe\n",
    "df_movies.isnull().sum()"
   ]
  },
  {
   "cell_type": "markdown",
   "id": "20299706-c670-4f7e-a3d3-9b7c6d2c52b8",
   "metadata": {},
   "source": [
    "### Viewing content in the tables"
   ]
  },
  {
   "cell_type": "code",
   "execution_count": null,
   "id": "c0e3cabf",
   "metadata": {},
   "outputs": [],
   "source": [
    "df_tags.head()"
   ]
  },
  {
   "cell_type": "code",
   "execution_count": null,
   "id": "87b4ad5d",
   "metadata": {},
   "outputs": [],
   "source": [
    "df_movies.head()"
   ]
  },
  {
   "cell_type": "code",
   "execution_count": null,
   "id": "3de447e1",
   "metadata": {},
   "outputs": [],
   "source": [
    "df_genome_tags.head()"
   ]
  },
  {
   "cell_type": "code",
   "execution_count": null,
   "id": "799a9863",
   "metadata": {},
   "outputs": [],
   "source": [
    "df_genome_scores.head()"
   ]
  },
  {
   "cell_type": "code",
   "execution_count": null,
   "id": "32eda701",
   "metadata": {},
   "outputs": [],
   "source": [
    "df_links.head()"
   ]
  },
  {
   "cell_type": "code",
   "execution_count": null,
   "id": "bcc3b96c",
   "metadata": {},
   "outputs": [],
   "source": [
    "df_train.head()"
   ]
  },
  {
   "cell_type": "code",
   "execution_count": null,
   "id": "38b72bd8",
   "metadata": {},
   "outputs": [],
   "source": [
    "df_imdb_data.head()"
   ]
  },
  {
   "cell_type": "code",
   "execution_count": null,
   "id": "0e1febe0-d90c-443a-92a7-f372716a6164",
   "metadata": {},
   "outputs": [],
   "source": [
    "from datetime import datetime\n",
    "import re\n",
    "#function for formating time\n",
    "def formattime(t):\n",
    "    time=datetime.utcfromtimestamp(t).strftime('%Y-%m-%d %H:%M:%S')\n",
    "    return time\n",
    " #function extracting number   \n",
    "def extract_number(n):\n",
    "    number = \"\".join([ch for ch in n if ch.isdigit()])\n",
    "    return number\n",
    " # functon for extracting clean string from our title column   \n",
    "def extract_string(n):\n",
    "    brackets=['(',')']\n",
    "    string = \"\".join([ch for ch in n if not ch.isdigit() and ch not in brackets])\n",
    "    return string\n",
    " #this function will split the text by |   \n",
    "def split_text(n):\n",
    "    text_split = \" \".join(n.split(\"|\"))\n",
    "    return text_split\n"
   ]
  },
  {
   "cell_type": "markdown",
   "id": "d88f8268-85b4-43f6-a421-c8c54d85a236",
   "metadata": {},
   "source": [
    "Applying the fucntions described above to `df_movies['genres'],df_movies['title']` column in order to extract the individual genres,year from title, and title itself without the year "
   ]
  },
  {
   "cell_type": "code",
   "execution_count": null,
   "id": "f3dc57ea-1268-4c9e-b0e7-671606945932",
   "metadata": {},
   "outputs": [],
   "source": [
    "# splitting genres\n",
    "df_movies['clean_genres']=df_movies['genres'].apply(split_text)"
   ]
  },
  {
   "cell_type": "code",
   "execution_count": null,
   "id": "407d2100-485a-4707-a504-bfa13ceda5b0",
   "metadata": {},
   "outputs": [],
   "source": [
    "# extract title and year into their respective indivual column\n",
    "df_movies['title_year']=df_movies['title'].apply(extract_number)\n",
    "df_movies['title_string']=df_movies['title'].apply(extract_string)"
   ]
  },
  {
   "cell_type": "code",
   "execution_count": null,
   "id": "3ceeba3b-2551-41ea-988f-dbdbd9ae5fc1",
   "metadata": {},
   "outputs": [],
   "source": [
    "# formatime time\n",
    "df_train['f_time']=df_train['timestamp'].apply(formattime)"
   ]
  },
  {
   "cell_type": "code",
   "execution_count": null,
   "id": "d6939004-0d2b-402c-b90a-b6001521a712",
   "metadata": {},
   "outputs": [],
   "source": [
    "df_movies.head()"
   ]
  },
  {
   "cell_type": "code",
   "execution_count": null,
   "id": "36b19fd6-4813-4b3e-9b3f-7454025223d8",
   "metadata": {},
   "outputs": [],
   "source": [
    "df_tags['f_time_tag']=df_tags['timestamp'].apply(formattime)"
   ]
  },
  {
   "cell_type": "code",
   "execution_count": null,
   "id": "a9103608-eebc-4ec7-ab95-d22a1c5972a6",
   "metadata": {},
   "outputs": [],
   "source": [
    "# drop null values in tags and links dataframe\n",
    "df_tags_clean=df_tags.dropna()\n",
    "df_links_clean=df_links.dropna()"
   ]
  },
  {
   "cell_type": "code",
   "execution_count": null,
   "id": "f74abe3f-910b-4076-a14b-2bd50d0c22f9",
   "metadata": {},
   "outputs": [],
   "source": [
    "df_imdb_data.isnull().sum()"
   ]
  },
  {
   "cell_type": "code",
   "execution_count": null,
   "id": "ce1557f4-55fc-4a94-844c-c47bfbdf4e57",
   "metadata": {},
   "outputs": [],
   "source": [
    "# we will drop the columns with more than 50% null values in the imdb_data dataframe\n",
    "#here we are checking the number of null values in columns\n",
    "val=df_imdb_data[df_imdb_data.columns[0]].count()\n",
    "for col in df_imdb_data.columns:\n",
    "    na =df_imdb_data[col].isnull().sum()\n",
    "    per_na=round(na/val*100,2)\n",
    "    print(f\"The percent of null values in {col} is {per_na}\")"
   ]
  },
  {
   "cell_type": "code",
   "execution_count": null,
   "id": "a9dd7514-fcd2-4f64-a042-d78749f6a110",
   "metadata": {},
   "outputs": [],
   "source": [
    "\n",
    "df_imdb_data=df_imdb_data.drop('budget', axis=1)"
   ]
  },
  {
   "cell_type": "code",
   "execution_count": null,
   "id": "f5e55471-1b85-43e6-a0dc-0a2a741e535d",
   "metadata": {},
   "outputs": [],
   "source": [
    "df_imdb_data = df_imdb_data.replace(' ', np.nan)                   # to get rid of empty values\n",
    "nan_value = df_imdb_data[df_imdb_data.isna().any(axis=1)]         # to get all rows with Na\n",
    "\n",
    "nan_value.head() "
   ]
  },
  {
   "cell_type": "code",
   "execution_count": null,
   "id": "0e359de3-c324-4d53-b75e-e27b0321b680",
   "metadata": {},
   "outputs": [],
   "source": [
    "#df[df.isin(['Rich Burns']).any(axis=1)]"
   ]
  },
  {
   "cell_type": "code",
   "execution_count": null,
   "id": "f7c82dc3-563f-4bb3-b78f-9e599157600f",
   "metadata": {},
   "outputs": [],
   "source": [
    "\n",
    "df_imdb=df_imdb_data\n",
    "\n",
    "#Removing rows with more than 2 null values from our data\n",
    "max_null_values = 2\n",
    "rows_to_remove = []\n",
    "for index, row in df_imdb.iterrows():\n",
    "    if row.isnull().sum() > max_null_values:\n",
    "        rows_to_remove.append(index)\n",
    "\n",
    "#df_cleaned = rows_to_remove #nan_values.drop(rows_to_remove)\n",
    "df_imdb_clean=df_imdb.drop(rows_to_remove,axis=0)\n",
    "df_imdb_clean.head()\n",
    "\n"
   ]
  },
  {
   "cell_type": "code",
   "execution_count": null,
   "id": "f626f63c-5cad-46e6-a109-34fa80c3a384",
   "metadata": {
    "scrolled": true
   },
   "outputs": [],
   "source": [
    "# Replace NaN values in 'runtime' with the average runtime for each director\n",
    "df_imdb_clean['runtime'] = df_imdb_clean.groupby('director')['runtime'].transform(lambda x: x.fillna(x.mean()))\n",
    "# Replace NaN values in 'title_cast' with the mode for each director\n",
    "df_imdb_clean['title_cast'] = df_imdb_clean.groupby('director')['title_cast'].transform(lambda x: x.fillna(x.mode().iloc[0] if not x.mode().empty else np.nan))\n",
    "df_imdb_clean"
   ]
  },
  {
   "cell_type": "code",
   "execution_count": null,
   "id": "b02c0dda-2eca-4fa7-a1d5-366aa1f4d53f",
   "metadata": {},
   "outputs": [],
   "source": [
    "# here we are filling the null values of title cast with director\n",
    "df_imdb_clean['title_cast'] = df_imdb_clean['title_cast'].fillna(df_imdb_clean['director'])\n",
    "\n",
    "#here we are filling runtime null values  with  mean runtime for the movies\n",
    "df_imdb_clean['runtime'] = df_imdb_clean['runtime'].fillna(df_imdb_clean['runtime'].mean())\n"
   ]
  },
  {
   "cell_type": "code",
   "execution_count": null,
   "id": "4c8cf2ff-10c3-4344-a16c-a454c44a1d82",
   "metadata": {},
   "outputs": [],
   "source": [
    "df_imdb_clean.isnull().sum()"
   ]
  },
  {
   "cell_type": "code",
   "execution_count": null,
   "id": "04ecb1f4-b7fe-4005-872c-3544b1d25fd8",
   "metadata": {},
   "outputs": [],
   "source": [
    "# drop null values in imdb\n",
    "df_imdb_clean=df_imdb_clean\n",
    "df_imdb_clean=df_imdb_clean.dropna(subset=['director'])"
   ]
  },
  {
   "cell_type": "code",
   "execution_count": null,
   "id": "2c3bc0eb-5148-433d-8af0-5aa4a5b8f785",
   "metadata": {},
   "outputs": [],
   "source": [
    "df_imdb_clean.isnull().sum()"
   ]
  },
  {
   "cell_type": "code",
   "execution_count": null,
   "id": "640b55d1-6a37-434c-8846-981777d964a4",
   "metadata": {},
   "outputs": [],
   "source": []
  },
  {
   "cell_type": "code",
   "execution_count": null,
   "id": "52fea73a-606c-4789-9563-813761699ee4",
   "metadata": {},
   "outputs": [],
   "source": [
    "df_movies_clean=df_movies\n",
    "df_movies_clean = df_movies.drop(['genres','title'], axis=1)\n",
    "df_movies_clean.head()"
   ]
  },
  {
   "cell_type": "code",
   "execution_count": null,
   "id": "7f69d8b9-8d36-485f-8399-bc8ccdf22955",
   "metadata": {},
   "outputs": [],
   "source": [
    "#df_nogenre=df_m.loc[df_m['clean_genres'] == '(no genres listed)']\n",
    "#df_nogenre\n",
    "df_movies_clean['clean_genres'] = df_movies_clean['clean_genres'].replace(['(no genres listed)'], 'no_genre')\n",
    "#df_movies['title_string'] = df_movies.apply(lambda row: '-'.join(row), axis=1)\n",
    "df_movies_clean.head()\n"
   ]
  },
  {
   "cell_type": "code",
   "execution_count": null,
   "id": "b2558470-0aaa-46d9-b4f2-094226867c2a",
   "metadata": {},
   "outputs": [],
   "source": [
    "# Define a function to extract the year\n",
    "def extract_year(number):\n",
    "    number_str = str(number)\n",
    "    year_str = number_str[-4:]\n",
    "    return year_str\n"
   ]
  },
  {
   "cell_type": "code",
   "execution_count": null,
   "id": "a280609d-afcd-4831-a6e3-669a46746cb5",
   "metadata": {},
   "outputs": [],
   "source": [
    "# Apply the function to the 'number_column' and create a new column 'extracted_year'\n",
    "df_movies_clean['title_year'] = df_movies_clean['title_year'].apply(extract_year)"
   ]
  },
  {
   "cell_type": "code",
   "execution_count": null,
   "id": "204ffa21-c1c4-4723-a72f-c0159175582b",
   "metadata": {},
   "outputs": [],
   "source": [
    "#CONVERTING THE datatype to int\n",
    "df_movies_clean['title_year'] = pd.to_numeric(df_movies_clean['title_year'], errors='coerce')"
   ]
  },
  {
   "cell_type": "code",
   "execution_count": null,
   "id": "6eecab51-7d43-4b8f-a096-f3d90e67343c",
   "metadata": {},
   "outputs": [],
   "source": [
    "# Select rows from df1 based on conditions in df2\n",
    "#selected_rows = df_movies[df_movies['movieId'].isin(rows_with_null_plot_keyword['movieId'])]\n",
    "#selected_rows"
   ]
  },
  {
   "cell_type": "code",
   "execution_count": null,
   "id": "3ebc3dc0-65ab-4ec8-8ee9-cec374f6e7b3",
   "metadata": {},
   "outputs": [],
   "source": [
    "#working on datetime \n",
    "df_tags['f_time_tag'] = pd.to_datetime(df_tags['f_time_tag'])\n",
    "\n",
    "# Split into year, month, and day columns\n",
    "df_tags['tag_year'] = df_tags['f_time_tag'].dt.year\n",
    "df_tags['tag_month'] = df_tags['f_time_tag'].dt.month\n",
    "df_tags['tag_day'] = df_tags['f_time_tag'].dt.day\n"
   ]
  },
  {
   "cell_type": "code",
   "execution_count": null,
   "id": "d3a40d37-c6dd-4247-9df2-660d2f238956",
   "metadata": {},
   "outputs": [],
   "source": [
    "df_tags_clean = df_tags.drop(['timestamp','f_time_tag'],axis = 1)"
   ]
  },
  {
   "cell_type": "code",
   "execution_count": null,
   "id": "e275af38-f355-4789-ba8d-50107b54eac7",
   "metadata": {},
   "outputs": [],
   "source": [
    "df_tags_clean.head()"
   ]
  },
  {
   "cell_type": "code",
   "execution_count": null,
   "id": "233cbc00-a333-4d1d-9de6-fde0f4e767a8",
   "metadata": {},
   "outputs": [],
   "source": [
    "#df_train.head()\n",
    "#working on datetime \n",
    "df_train['f_time'] = pd.to_datetime(df_train['f_time'])\n",
    "\n",
    "# Split into year, month, and day columns\n",
    "df_train['train_year'] = df_train['f_time'].dt.year\n",
    "df_train['train_month'] = df_train['f_time'].dt.month\n",
    "df_train['train_day'] = df_train['f_time'].dt.day"
   ]
  },
  {
   "cell_type": "code",
   "execution_count": null,
   "id": "4328ede9-3db3-4acc-9ffd-c46e439ee3fd",
   "metadata": {},
   "outputs": [],
   "source": [
    "df_train_clean=df_train.drop(['timestamp','f_time'],axis = 1)\n",
    "df_train_clean.head()"
   ]
  },
  {
   "cell_type": "code",
   "execution_count": null,
   "id": "d090b614-c2ae-4222-9d99-54b243fe99dc",
   "metadata": {},
   "outputs": [],
   "source": [
    "df_genome_tags.head()\n"
   ]
  },
  {
   "cell_type": "code",
   "execution_count": null,
   "id": "d8350a34-24f7-4e84-aa8f-3552c132f87d",
   "metadata": {},
   "outputs": [],
   "source": [
    "df_genome_scores.head()"
   ]
  },
  {
   "cell_type": "code",
   "execution_count": null,
   "id": "33eb5ee6-a237-469a-9220-79e2bf09116a",
   "metadata": {},
   "outputs": [],
   "source": [
    "# merging genome tags and genome scores frames for training \n",
    "df_merge_genome=pd.merge(df_genome_tags, df_genome_scores, on='tagId', how='inner')\n",
    "df_merge_genome=df_merge_genome.sample(n=200000)\n",
    "df_merge_genome.head()"
   ]
  },
  {
   "cell_type": "code",
   "execution_count": null,
   "id": "85706ac8-6723-4199-baa9-d630763024b6",
   "metadata": {},
   "outputs": [],
   "source": [
    "#merging movies and links data\n",
    "df_merge_movie_links=pd.merge(df_links_clean, df_movies_clean, on='movieId', how='inner')\n",
    "df_merge_movie_links.head()"
   ]
  },
  {
   "cell_type": "code",
   "execution_count": null,
   "id": "757e73af-21c0-4e3c-a459-5605704bbf8b",
   "metadata": {},
   "outputs": [],
   "source": [
    "#merging movies and links and genome\n",
    "df_merge_movie_links_genome=pd.merge(df_merge_movie_links, df_merge_genome, on='movieId', how='inner')\n",
    "df_merge_movie_links_genome.head()"
   ]
  },
  {
   "cell_type": "code",
   "execution_count": null,
   "id": "4a7a2bc5-10b1-45a9-95c7-b45428374a43",
   "metadata": {},
   "outputs": [],
   "source": [
    "df_train_clean1=df_train_clean\n",
    "df_tags_clean1=df_tags_clean\n",
    "df_tags_clean1.head()\n"
   ]
  },
  {
   "cell_type": "code",
   "execution_count": null,
   "id": "254c2ea2-010e-4d81-b5f4-26217f0b7470",
   "metadata": {},
   "outputs": [],
   "source": [
    "#merging movies and links and genome\n",
    "df_merge_train_tag=pd.merge(df_train_clean1, df_tags_clean1, on=['movieId','userId'], how='inner')\n",
    "df_merge_train_tag.head()"
   ]
  },
  {
   "cell_type": "code",
   "execution_count": null,
   "id": "b5427f8b-f079-48c0-a251-3aeb2c9fc4e6",
   "metadata": {},
   "outputs": [],
   "source": [
    "df_imdb_clean1=df_imdb_clean\n",
    "df_imdb_clean1=df_imdb_clean1.drop('plot_keywords',axis = 1)\n",
    "df_imdb_clean1.head()"
   ]
  },
  {
   "cell_type": "code",
   "execution_count": null,
   "id": "8bcc7ca1-1628-4d6b-b861-7f03f825a61d",
   "metadata": {},
   "outputs": [],
   "source": [
    "# Splitting the title_cast column and creating pairs\n",
    "df_imdb_clean1['cast_pairs'] = df_imdb_clean1['title_cast'].apply(lambda x: ','.join(sorted(x.split('|'))))\n",
    "#df_imdb_clean1['cast_pairs'] = df_imdb_clean1['title_cast'].apply(lambda x: '-'.join(sorted(x.split(' '))))\n",
    "df_imdb_clean1.head()"
   ]
  },
  {
   "cell_type": "code",
   "execution_count": null,
   "id": "ac1929fb-0e30-4f7c-b233-dddfa6c213a0",
   "metadata": {},
   "outputs": [],
   "source": [
    "# Joining the names in the 'cast_pairs' column by hyphen\n",
    "df_imdb_clean1['cast_pairs_hyphen'] = df_imdb_clean1['cast_pairs'].apply(lambda x: '-'.join(sorted(x.split(' '))))\n",
    "df_imdb_clean1=df_imdb_clean1.drop(['title_cast','cast_pairs'], axis = 1)\n",
    "df_imdb_clean1.head()"
   ]
  },
  {
   "cell_type": "code",
   "execution_count": null,
   "id": "9e81bcc2-19d0-489e-a7b3-1f8bd041894d",
   "metadata": {},
   "outputs": [],
   "source": [
    "#merging train tag  and clean\n",
    "df_merge_train_tag_imdb=pd.merge(df_merge_train_tag, df_imdb_clean1, on=['movieId'], how='inner')\n",
    "df_merge_train_tag_imdb.head()"
   ]
  },
  {
   "cell_type": "code",
   "execution_count": null,
   "id": "35930f55-8580-41e6-a266-7bf02ffa2cd3",
   "metadata": {},
   "outputs": [],
   "source": [
    "#merging train tag  and cleanimdb, movies,links,\n",
    "df_merge_all=pd.merge(df_merge_train_tag_imdb, df_merge_movie_links_genome, on=['movieId'], how='inner')\n",
    "df_merge_all.head()"
   ]
  },
  {
   "cell_type": "code",
   "execution_count": null,
   "id": "d0deab1a-a11e-4f4f-a718-3e3fa10461a3",
   "metadata": {},
   "outputs": [],
   "source": [
    "df_merge_all.isnull().sum()"
   ]
  },
  {
   "cell_type": "code",
   "execution_count": null,
   "id": "270fe1eb-9a94-4620-952f-f995ca266af4",
   "metadata": {},
   "outputs": [],
   "source": []
  },
  {
   "cell_type": "code",
   "execution_count": null,
   "id": "7c844cdc-cbbe-41f4-bd50-1c534ea73a24",
   "metadata": {},
   "outputs": [],
   "source": [
    "#performing natural languange processing for title string to create plot keywords for the null values \n",
    "import nltk\n",
    "from nltk.tokenize import word_tokenize\n",
    "from nltk.corpus import stopwords\n",
    "from nltk.stem import PorterStemmer\n",
    "from nltk.probability import FreqDist"
   ]
  },
  {
   "cell_type": "markdown",
   "id": "81132ab3",
   "metadata": {
    "id": "81132ab3"
   },
   "source": [
    "<a id=\"three\"></a>\n",
    "## 6. Exploratory Data Analysis (EDA)\n",
    "<a class=\"anchor\" id=\"1.1\"></a>\n",
    "<a href=#cont>Back to Table of Contents</a>\n",
    "\n",
    "\n",
    "    \n",
    " ⚡ Description: Exploratory data analysis ⚡ \n",
    "\n",
    "This is section where we will investigate data in details on all merged dataframes. here we will work with `df_merge_all` dataframe  \n"
   ]
  },
  {
   "cell_type": "code",
   "execution_count": null,
   "id": "5fe223d5-d1c0-46fe-805b-4d90bce89459",
   "metadata": {},
   "outputs": [],
   "source": [
    "df_merge_all.head()"
   ]
  },
  {
   "cell_type": "markdown",
   "id": "b3521439-425f-4d21-9ed7-cbdaa839fb76",
   "metadata": {},
   "source": [
    "###  Non graphical Statistics "
   ]
  },
  {
   "cell_type": "code",
   "execution_count": null,
   "id": "e805134e",
   "metadata": {
    "ExecuteTime": {
     "end_time": "2021-06-28T08:52:37.824204Z",
     "start_time": "2021-06-28T08:52:37.811206Z"
    },
    "id": "e805134e"
   },
   "outputs": [],
   "source": [
    "# look at data statistics\n",
    "\n",
    "df_rating_mean=df_merge_all.rating.mean()\n",
    "df_rating_mean"
   ]
  },
  {
   "cell_type": "code",
   "execution_count": null,
   "id": "f4dbffa8-ff99-4fa4-9c6f-07bab18dbfd8",
   "metadata": {},
   "outputs": [],
   "source": [
    "# avg runtime\n",
    "df_runtime_mean=df_merge_all.runtime.mean()\n",
    "df_runtime_mean"
   ]
  },
  {
   "cell_type": "code",
   "execution_count": null,
   "id": "74011f34-e164-4754-b3a5-9506dd44dd7d",
   "metadata": {},
   "outputs": [],
   "source": [
    "# avg relevance\n",
    "df_relevance_mean=df_merge_all.relevance.mean()\n",
    "df_relevance_mean"
   ]
  },
  {
   "cell_type": "markdown",
   "id": "c2b5c9c9-bdde-4aaf-9bf0-19ebc4e82995",
   "metadata": {},
   "source": [
    "### Graphical  Exploratory Data Analysis "
   ]
  },
  {
   "cell_type": "code",
   "execution_count": null,
   "id": "03039954-e5a5-4318-aa1b-cf0b6d691c89",
   "metadata": {},
   "outputs": [],
   "source": [
    "import pandas as pd\n",
    "import re\n",
    "from nltk.tokenize import word_tokenize\n",
    "from sklearn.feature_extraction.text import TfidfVectorizer\n",
    "from wordcloud import WordCloud\n",
    "from collections import Counter"
   ]
  },
  {
   "cell_type": "code",
   "execution_count": null,
   "id": "6dd6ee8c",
   "metadata": {
    "id": "6dd6ee8c"
   },
   "outputs": [],
   "source": [
    "# plot relevant feature interactions\n",
    "words = []\n",
    "for i in df_merge_all.clean_genres:\n",
    "    words.extend(word_tokenize(i))\n",
    "    \n",
    "wordcloud = WordCloud(width=800, height=400).generate_from_frequencies(frequencies = Counter(words))\n",
    "plt.figure(figsize=(15,10))\n",
    "plt.imshow(wordcloud, interpolation='bilinear')\n",
    "plt.axis(\"off\")"
   ]
  },
  {
   "cell_type": "code",
   "execution_count": null,
   "id": "000dfca6-e654-4851-a52e-14a82b011194",
   "metadata": {},
   "outputs": [],
   "source": [
    "# plot relevant feature interactions\n",
    "words = []\n",
    "for i in df_merge_all.cast_pairs_hyphen:\n",
    "    words.extend(word_tokenize(i))\n",
    "    \n",
    "wordcloud = WordCloud(width=800, height=400).generate_from_frequencies(frequencies = Counter(words))\n",
    "plt.figure(figsize=(15,10))\n",
    "plt.imshow(wordcloud, interpolation='bilinear')\n",
    "plt.axis(\"off\")"
   ]
  },
  {
   "cell_type": "markdown",
   "id": "ae8eb771-80d6-4556-b03e-d0aa114a18b3",
   "metadata": {},
   "source": [
    "Here we will look at the distribution of the features in out data set"
   ]
  },
  {
   "cell_type": "code",
   "execution_count": null,
   "id": "74e84adb-086d-4436-9a65-69bf077d3e1a",
   "metadata": {},
   "outputs": [],
   "source": [
    "#import plotly.graph_objects as go"
   ]
  },
  {
   "cell_type": "code",
   "execution_count": null,
   "id": "de51df85",
   "metadata": {
    "id": "de51df85"
   },
   "outputs": [],
   "source": [
    "# have a look at feature distributions\n",
    "# Create a histogram\n",
    "#fig = px.histogram(df_merge_all.relevance, x=\"relevance\",\n",
    "                  #title=\"Relevance distribution\")\n",
    "#fig.show()\n",
    "\n",
    "plt.hist(df_merge_all.relevance, bins=10)\n",
    "# Adding a title and labels to the histogram\n",
    "plt.title(\"Relevance distribution\")\n",
    "plt.xlabel(\"Relevance\")\n",
    "plt.ylabel(\"Count\")\n",
    "# Showing the histogram\n",
    "plt.show()"
   ]
  },
  {
   "cell_type": "code",
   "execution_count": null,
   "id": "6052138c-1c33-4519-966b-b1ae02cd3a36",
   "metadata": {},
   "outputs": [],
   "source": [
    "#fig = go.Figure(data=[go.Histogram(x=df_merge_all['runtime'])])\n",
    "# have a look at feature distributions\n",
    "# Create a histogram\n",
    "#fig = px.histogram(df_merge_all.runtime, x=\"runtime\",title=\"Runtime distribution\")\n",
    "#fig.show()\n",
    "\n",
    "plt.hist(df_merge_all.runtime, bins=20)\n",
    "# Adding a title and labels to the histogram\n",
    "plt.title(\"Runtime distribution\")\n",
    "plt.xlabel(\"Runtime\")\n",
    "plt.ylabel(\"Count\")\n",
    "# Showing the histogram\n",
    "plt.show()"
   ]
  },
  {
   "cell_type": "code",
   "execution_count": null,
   "id": "ba4b9f16-7795-44ce-aa16-93cb6d02b51b",
   "metadata": {},
   "outputs": [],
   "source": [
    "#fig = go.Figure(data=[go.Histogram(x=df_merge_all['rating'])])\n",
    "# have a look at feature distributions\n",
    "# Create a histogram\n",
    "#fig = px.histogram(df_merge_all.rating, x=\"rating\",title=\"Rating distribution\")\n",
    "#fig.show()\n",
    "plt.hist(df_merge_all.rating, bins=20)\n",
    "# Adding a title and labels to the histogram\n",
    "plt.title(\"Rating distribution\")\n",
    "plt.xlabel(\"Rating\")\n",
    "plt.ylabel(\"Count\")\n",
    "# Showing the histogram\n",
    "plt.show()\n"
   ]
  },
  {
   "cell_type": "markdown",
   "id": "3fa93ec6",
   "metadata": {
    "id": "3fa93ec6"
   },
   "source": [
    "<a id=\"four\"></a>\n",
    "## 7. Feature Engineering\n",
    "<a class=\"anchor\" id=\"1.1\"></a>\n",
    "<a href=#cont>Back to Table of Contents</a>\n",
    "\n",
    "    \n",
    " ⚡ Description: Data engineering ⚡ \n",
    " \n",
    "Here we will be creating new features engineered from the already existing features"
   ]
  },
  {
   "cell_type": "code",
   "execution_count": null,
   "id": "059c2f3e",
   "metadata": {
    "id": "059c2f3e"
   },
   "outputs": [],
   "source": [
    "# remove missing values/ features\n",
    "from sklearn.feature_extraction.text import TfidfVectorizer\n",
    "from sklearn.model_selection import train_test_split\n",
    "# declaring an object of tfidf vectoriser\n",
    "vectorizer = TfidfVectorizer()\n",
    "# Transform features\n"
   ]
  },
  {
   "cell_type": "code",
   "execution_count": null,
   "id": "84eea17b",
   "metadata": {
    "id": "84eea17b"
   },
   "outputs": [],
   "source": [
    "# create new features\n",
    "tfidf_tokens = vectorizer.get_feature_names_out()\n",
    "tfidf_tokens "
   ]
  },
  {
   "cell_type": "code",
   "execution_count": null,
   "id": "45cfbcff-a6a3-4ebe-9056-2d30f9ad6658",
   "metadata": {},
   "outputs": [],
   "source": [
    "\n",
    "df_merge_all['director']=df_merge_all['director'].apply(lambda x:\"-\".join(x.split(\" \")))"
   ]
  },
  {
   "cell_type": "code",
   "execution_count": null,
   "id": "33bac200-78c6-4ac8-ad0a-e9fb9286a748",
   "metadata": {},
   "outputs": [],
   "source": [
    "from sklearn import preprocessing\n",
    "from sklearn.decomposition import PCA\n",
    "import cufflinks as cf\n",
    "import matplotlib.pyplot as plt\n",
    "import seaborn as sns\n",
    "%matplotlib inline"
   ]
  },
  {
   "cell_type": "code",
   "execution_count": null,
   "id": "aa6f2fe9-53b9-494f-8d13-32c1ac0d589b",
   "metadata": {},
   "outputs": [],
   "source": [
    "df_merge_all.head()"
   ]
  },
  {
   "cell_type": "code",
   "execution_count": null,
   "id": "f2ac3645-2821-4a60-9aa7-017a2a2fb09a",
   "metadata": {},
   "outputs": [],
   "source": [
    "# create short list of unwanted columns\n",
    "labels = ['CensusId', 'State', 'County']\n",
    "\n",
    "# declare the features to be all columns, less the unwanted ones from above\n",
    "features = [col for col in us_df.columns if col not in labels]"
   ]
  },
  {
   "cell_type": "code",
   "execution_count": null,
   "id": "59692724",
   "metadata": {
    "id": "59692724"
   },
   "outputs": [],
   "source": [
    "# engineer existing features"
   ]
  },
  {
   "cell_type": "markdown",
   "id": "43b2d523",
   "metadata": {
    "id": "43b2d523"
   },
   "source": [
    "<a id=\"five\"></a>\n",
    "## 8. Modelling\n",
    "<a class=\"anchor\" id=\"1.1\"></a>\n",
    "<a href=#cont>Back to Table of Contents</a>\n",
    "\n",
    "---\n",
    "    \n",
    "| ⚡ Description: Modelling ⚡ |\n",
    "| :--------------------------- |\n",
    "| In this section, you are required to create one or more regression models that are able to accurately predict the thee hour load shortfall. |\n",
    "\n",
    "---"
   ]
  },
  {
   "cell_type": "code",
   "execution_count": null,
   "id": "2344b3e0",
   "metadata": {
    "id": "2344b3e0"
   },
   "outputs": [],
   "source": [
    "# split data"
   ]
  },
  {
   "cell_type": "code",
   "execution_count": null,
   "id": "9c58df02",
   "metadata": {
    "id": "9c58df02"
   },
   "outputs": [],
   "source": [
    "# create targets and features dataset"
   ]
  },
  {
   "cell_type": "code",
   "execution_count": null,
   "id": "20d073e0",
   "metadata": {
    "id": "20d073e0"
   },
   "outputs": [],
   "source": [
    "# create one or more ML models"
   ]
  },
  {
   "cell_type": "code",
   "execution_count": null,
   "id": "a70c15d7",
   "metadata": {
    "id": "a70c15d7"
   },
   "outputs": [],
   "source": [
    "# evaluate one or more ML models"
   ]
  },
  {
   "cell_type": "markdown",
   "id": "6b530251",
   "metadata": {
    "id": "6b530251"
   },
   "source": [
    "<a id=\"six\"></a>\n",
    "## 9. Model Performance\n",
    "<a class=\"anchor\" id=\"1.1\"></a>\n",
    "<a href=#cont>Back to Table of Contents</a>\n",
    "\n",
    "---\n",
    "    \n",
    "| ⚡ Description: Model performance ⚡ |\n",
    "| :--------------------------- |\n",
    "| In this section you are required to compare the relative performance of the various trained ML models on a holdout dataset and comment on what model is the best and why. |\n",
    "\n",
    "---"
   ]
  },
  {
   "cell_type": "code",
   "execution_count": null,
   "id": "6a69b5a1",
   "metadata": {
    "id": "6a69b5a1"
   },
   "outputs": [],
   "source": [
    "# Compare model performance"
   ]
  },
  {
   "cell_type": "code",
   "execution_count": null,
   "id": "3874a7c6",
   "metadata": {
    "id": "3874a7c6"
   },
   "outputs": [],
   "source": [
    "# Choose best model and motivate why it is the best choice"
   ]
  },
  {
   "cell_type": "markdown",
   "id": "a8ad0c0d",
   "metadata": {
    "id": "a8ad0c0d"
   },
   "source": [
    "<a id=\"seven\"></a>\n",
    "## 10. Model Explanations\n",
    "<a class=\"anchor\" id=\"1.1\"></a>\n",
    "<a href=#cont>Back to Table of Contents</a>\n",
    "\n",
    "---\n",
    "    \n",
    "| ⚡ Description: Model explanation ⚡ |\n",
    "| :--------------------------- |\n",
    "| In this section, you are required to discuss how the best performing model works in a simple way so that both technical and non-technical stakeholders can grasp the intuition behind the model's inner workings. |\n",
    "\n",
    "---"
   ]
  },
  {
   "cell_type": "code",
   "execution_count": null,
   "id": "5ff741c2",
   "metadata": {
    "id": "5ff741c2"
   },
   "outputs": [],
   "source": [
    "# discuss chosen methods logic"
   ]
  },
  {
   "cell_type": "markdown",
   "id": "557a9759",
   "metadata": {
    "id": "557a9759"
   },
   "source": [
    "<a id=\"seven\"></a>\n",
    "## 11. Conclusion\n",
    "<a class=\"anchor\" id=\"1.1\"></a>\n",
    "<a href=#cont>Back to Table of Contents</a>\n",
    "\n",
    "---\n",
    "    \n",
    "| ⚡ Description: Conclusion ⚡ |\n",
    "| :--------------------------- |\n",
    "| In this section, you are required to conclude your findings and the project as a whole. |\n",
    "\n",
    "---"
   ]
  },
  {
   "cell_type": "code",
   "execution_count": null,
   "id": "5f85d60f",
   "metadata": {
    "id": "5f85d60f"
   },
   "outputs": [],
   "source": [
    "# Conclusion"
   ]
  }
 ],
 "metadata": {
  "colab": {
   "provenance": []
  },
  "kernelspec": {
   "display_name": "Python 3 (ipykernel)",
   "language": "python",
   "name": "python3"
  },
  "language_info": {
   "codemirror_mode": {
    "name": "ipython",
    "version": 3
   },
   "file_extension": ".py",
   "mimetype": "text/x-python",
   "name": "python",
   "nbconvert_exporter": "python",
   "pygments_lexer": "ipython3",
   "version": "3.11.7"
  },
  "latex_envs": {
   "LaTeX_envs_menu_present": true,
   "autoclose": false,
   "autocomplete": true,
   "bibliofile": "biblio.bib",
   "cite_by": "apalike",
   "current_citInitial": 1,
   "eqLabelWithNumbers": true,
   "eqNumInitial": 1,
   "hotkeys": {
    "equation": "Ctrl-E",
    "itemize": "Ctrl-I"
   },
   "labels_anchors": false,
   "latex_user_defs": false,
   "report_style_numbering": false,
   "user_envs_cfg": false
  },
  "toc": {
   "base_numbering": 1,
   "nav_menu": {},
   "number_sections": true,
   "sideBar": true,
   "skip_h1_title": false,
   "title_cell": "Table of Contents",
   "title_sidebar": "Contents",
   "toc_cell": false,
   "toc_position": {},
   "toc_section_display": true,
   "toc_window_display": false
  },
  "varInspector": {
   "cols": {
    "lenName": 16,
    "lenType": 16,
    "lenVar": 40
   },
   "kernels_config": {
    "python": {
     "delete_cmd_postfix": "",
     "delete_cmd_prefix": "del ",
     "library": "var_list.py",
     "varRefreshCmd": "print(var_dic_list())"
    },
    "r": {
     "delete_cmd_postfix": ") ",
     "delete_cmd_prefix": "rm(",
     "library": "var_list.r",
     "varRefreshCmd": "cat(var_dic_list()) "
    }
   },
   "types_to_exclude": [
    "module",
    "function",
    "builtin_function_or_method",
    "instance",
    "_Feature"
   ],
   "window_display": false
  }
 },
 "nbformat": 4,
 "nbformat_minor": 5
}
